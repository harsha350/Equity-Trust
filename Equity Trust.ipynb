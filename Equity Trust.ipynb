{
 "cells": [
  {
   "cell_type": "code",
   "execution_count": 5,
   "metadata": {},
   "outputs": [],
   "source": [
    "import pandas as pd\n",
    "import numpy as np\n",
    "import scipy as sc\n",
    "from matplotlib import pyplot as plt\n",
    "import seaborn as sns\n",
    "import sqlite3\n",
    "import seaborn as sns"
   ]
  },
  {
   "cell_type": "code",
   "execution_count": 3,
   "metadata": {},
   "outputs": [],
   "source": [
    "data = pd.read_excel(r'D:\\Python27\\CampaignEffectivenessDemo.xlsx')"
   ]
  },
  {
   "cell_type": "code",
   "execution_count": 32,
   "metadata": {
    "collapsed": true
   },
   "outputs": [
    {
     "name": "stdout",
     "output_type": "stream",
     "text": [
      "        CycleStartDateKey CycleStartDate  CycleStartYear CycleStartQuarter  \\\n",
      "0                20180904     2018-09-04            2018                Q3   \n",
      "1                20190226     2019-02-26            2019                Q1   \n",
      "2                20180713     2018-07-13            2018                Q3   \n",
      "3                20170527     2017-05-27            2017                Q2   \n",
      "4                20181005     2018-10-05            2018                Q4   \n",
      "5                20170208     2017-02-08            2017                Q1   \n",
      "6                20170423     2017-04-23            2017                Q2   \n",
      "7                20170505     2017-05-05            2017                Q2   \n",
      "8                20170801     2017-08-01            2017                Q3   \n",
      "9                20180905     2018-09-05            2018                Q3   \n",
      "10               20180314     2018-03-14            2018                Q1   \n",
      "11               20170425     2017-04-25            2017                Q2   \n",
      "12               20170426     2017-04-26            2017                Q2   \n",
      "13               20180303     2018-03-03            2018                Q1   \n",
      "14               20180303     2018-03-03            2018                Q1   \n",
      "15               20181004     2018-10-04            2018                Q4   \n",
      "16               20180123     2018-01-23            2018                Q1   \n",
      "17               20170210     2017-02-10            2017                Q1   \n",
      "18               20170711     2017-07-11            2017                Q3   \n",
      "19               20171127     2017-11-27            2017                Q4   \n",
      "20               20181113     2018-11-13            2018                Q4   \n",
      "21               20190207     2019-02-07            2019                Q1   \n",
      "22               20180615     2018-06-15            2018                Q2   \n",
      "23               20181115     2018-11-15            2018                Q4   \n",
      "24               20170725     2017-07-25            2017                Q3   \n",
      "25               20170709     2017-07-09            2017                Q3   \n",
      "26               20180809     2018-08-09            2018                Q3   \n",
      "27               20170726     2017-07-26            2017                Q3   \n",
      "28               20180320     2018-03-20            2018                Q1   \n",
      "29               20170503     2017-05-03            2017                Q2   \n",
      "...                   ...            ...             ...               ...   \n",
      "106180           20180124     2018-01-24            2018                Q1   \n",
      "106181           20170110     2017-01-10            2017                Q1   \n",
      "106182           20180204     2018-02-04            2018                Q1   \n",
      "106183           20170510     2017-05-10            2017                Q2   \n",
      "106184           20170210     2017-02-10            2017                Q1   \n",
      "106185           20180701     2018-07-01            2018                Q3   \n",
      "106186           20180326     2018-03-26            2018                Q1   \n",
      "106187           20170208     2017-02-08            2017                Q1   \n",
      "106188           20190423     2019-04-23            2019                Q2   \n",
      "106189           20181217     2018-12-17            2018                Q4   \n",
      "106190           20190531     2019-05-31            2019                Q2   \n",
      "106191           20180427     2018-04-27            2018                Q2   \n",
      "106192           20181121     2018-11-21            2018                Q4   \n",
      "106193           20181001     2018-10-01            2018                Q4   \n",
      "106194           20181112     2018-11-12            2018                Q4   \n",
      "106195           20190118     2019-01-18            2019                Q1   \n",
      "106196           20170608     2017-06-08            2017                Q2   \n",
      "106197           20170801     2017-08-01            2017                Q3   \n",
      "106198           20190219     2019-02-19            2019                Q1   \n",
      "106199           20170105     2017-01-05            2017                Q1   \n",
      "106200           20170123     2017-01-23            2017                Q1   \n",
      "106201           20170210     2017-02-10            2017                Q1   \n",
      "106202           20180730     2018-07-30            2018                Q3   \n",
      "106203           20170312     2017-03-12            2017                Q1   \n",
      "106204           20171219     2017-12-19            2017                Q4   \n",
      "106205           20170531     2017-05-31            2017                Q2   \n",
      "106206           20180327     2018-03-27            2018                Q1   \n",
      "106207           20170627     2017-06-27            2017                Q2   \n",
      "106208           20170312     2017-03-12            2017                Q1   \n",
      "106209           20181021     2018-10-21            2018                Q4   \n",
      "\n",
      "       CycleStartYearQuarter  CycleStartYearMonth CycleStartYearMonthName  \\\n",
      "0                    2018 Q3               201809                2018 Sep   \n",
      "1                    2019 Q1               201902                2019 Feb   \n",
      "2                    2018 Q3               201807                2018 Jul   \n",
      "3                    2017 Q2               201705                2017 May   \n",
      "4                    2018 Q4               201810                2018 Oct   \n",
      "5                    2017 Q1               201702                2017 Feb   \n",
      "6                    2017 Q2               201704                2017 Apr   \n",
      "7                    2017 Q2               201705                2017 May   \n",
      "8                    2017 Q3               201708                2017 Aug   \n",
      "9                    2018 Q3               201809                2018 Sep   \n",
      "10                   2018 Q1               201803                2018 Mar   \n",
      "11                   2017 Q2               201704                2017 Apr   \n",
      "12                   2017 Q2               201704                2017 Apr   \n",
      "13                   2018 Q1               201803                2018 Mar   \n",
      "14                   2018 Q1               201803                2018 Mar   \n",
      "15                   2018 Q4               201810                2018 Oct   \n",
      "16                   2018 Q1               201801                2018 Jan   \n",
      "17                   2017 Q1               201702                2017 Feb   \n",
      "18                   2017 Q3               201707                2017 Jul   \n",
      "19                   2017 Q4               201711                2017 Nov   \n",
      "20                   2018 Q4               201811                2018 Nov   \n",
      "21                   2019 Q1               201902                2019 Feb   \n",
      "22                   2018 Q2               201806                2018 Jun   \n",
      "23                   2018 Q4               201811                2018 Nov   \n",
      "24                   2017 Q3               201707                2017 Jul   \n",
      "25                   2017 Q3               201707                2017 Jul   \n",
      "26                   2018 Q3               201808                2018 Aug   \n",
      "27                   2017 Q3               201707                2017 Jul   \n",
      "28                   2018 Q1               201803                2018 Mar   \n",
      "29                   2017 Q2               201705                2017 May   \n",
      "...                      ...                  ...                     ...   \n",
      "106180               2018 Q1               201801                2018 Jan   \n",
      "106181               2017 Q1               201701                2017 Jan   \n",
      "106182               2018 Q1               201802                2018 Feb   \n",
      "106183               2017 Q2               201705                2017 May   \n",
      "106184               2017 Q1               201702                2017 Feb   \n",
      "106185               2018 Q3               201807                2018 Jul   \n",
      "106186               2018 Q1               201803                2018 Mar   \n",
      "106187               2017 Q1               201702                2017 Feb   \n",
      "106188               2019 Q2               201904                2019 Apr   \n",
      "106189               2018 Q4               201812                2018 Dec   \n",
      "106190               2019 Q2               201905                2019 May   \n",
      "106191               2018 Q2               201804                2018 Apr   \n",
      "106192               2018 Q4               201811                2018 Nov   \n",
      "106193               2018 Q4               201810                2018 Oct   \n",
      "106194               2018 Q4               201811                2018 Nov   \n",
      "106195               2019 Q1               201901                2019 Jan   \n",
      "106196               2017 Q2               201706                2017 Jun   \n",
      "106197               2017 Q3               201708                2017 Aug   \n",
      "106198               2019 Q1               201902                2019 Feb   \n",
      "106199               2017 Q1               201701                2017 Jan   \n",
      "106200               2017 Q1               201701                2017 Jan   \n",
      "106201               2017 Q1               201702                2017 Feb   \n",
      "106202               2018 Q3               201807                2018 Jul   \n",
      "106203               2017 Q1               201703                2017 Mar   \n",
      "106204               2017 Q4               201712                2017 Dec   \n",
      "106205               2017 Q2               201705                2017 May   \n",
      "106206               2018 Q1               201803                2018 Mar   \n",
      "106207               2017 Q2               201706                2017 Jun   \n",
      "106208               2017 Q1               201703                2017 Mar   \n",
      "106209               2018 Q4               201810                2018 Oct   \n",
      "\n",
      "       CycleStartMonthName CycleStartMonthNameLong CycleStartYearWeek  \\\n",
      "0                      Sep               September           2018-W36   \n",
      "1                      Feb                February           2019-W09   \n",
      "2                      Jul                    July           2018-W28   \n",
      "3                      May                     May           2017-W21   \n",
      "4                      Oct                 October           2018-W40   \n",
      "5                      Feb                February           2017-W06   \n",
      "6                      Apr                   April           2017-W16   \n",
      "7                      May                     May           2017-W18   \n",
      "8                      Aug                  August           2017-W31   \n",
      "9                      Sep               September           2018-W36   \n",
      "10                     Mar                   March           2018-W11   \n",
      "11                     Apr                   April           2017-W17   \n",
      "12                     Apr                   April           2017-W17   \n",
      "13                     Mar                   March           2018-W09   \n",
      "14                     Mar                   March           2018-W09   \n",
      "15                     Oct                 October           2018-W40   \n",
      "16                     Jan                 January           2018-W04   \n",
      "17                     Feb                February           2017-W06   \n",
      "18                     Jul                    July           2017-W28   \n",
      "19                     Nov                November           2017-W48   \n",
      "20                     Nov                November           2018-W46   \n",
      "21                     Feb                February           2019-W06   \n",
      "22                     Jun                    June           2018-W24   \n",
      "23                     Nov                November           2018-W46   \n",
      "24                     Jul                    July           2017-W30   \n",
      "25                     Jul                    July           2017-W27   \n",
      "26                     Aug                  August           2018-W32   \n",
      "27                     Jul                    July           2017-W30   \n",
      "28                     Mar                   March           2018-W12   \n",
      "29                     May                     May           2017-W18   \n",
      "...                    ...                     ...                ...   \n",
      "106180                 Jan                 January           2018-W04   \n",
      "106181                 Jan                 January           2017-W02   \n",
      "106182                 Feb                February           2018-W05   \n",
      "106183                 May                     May           2017-W19   \n",
      "106184                 Feb                February           2017-W06   \n",
      "106185                 Jul                    July           2018-W26   \n",
      "106186                 Mar                   March           2018-W13   \n",
      "106187                 Feb                February           2017-W06   \n",
      "106188                 Apr                   April           2019-W17   \n",
      "106189                 Dec                December           2018-W51   \n",
      "106190                 May                     May           2019-W22   \n",
      "106191                 Apr                   April           2018-W17   \n",
      "106192                 Nov                November           2018-W47   \n",
      "106193                 Oct                 October           2018-W40   \n",
      "106194                 Nov                November           2018-W46   \n",
      "106195                 Jan                 January           2019-W03   \n",
      "106196                 Jun                    June           2017-W23   \n",
      "106197                 Aug                  August           2017-W31   \n",
      "106198                 Feb                February           2019-W08   \n",
      "106199                 Jan                 January           2017-W01   \n",
      "106200                 Jan                 January           2017-W04   \n",
      "106201                 Feb                February           2017-W06   \n",
      "106202                 Jul                    July           2018-W31   \n",
      "106203                 Mar                   March           2017-W10   \n",
      "106204                 Dec                December           2017-W51   \n",
      "106205                 May                     May           2017-W22   \n",
      "106206                 Mar                   March           2018-W13   \n",
      "106207                 Jun                    June           2017-W26   \n",
      "106208                 Mar                   March           2017-W10   \n",
      "106209                 Oct                 October           2018-W42   \n",
      "\n",
      "            ...      FeesAssessed FeesNotInvoiced FeesPaid FeesUnpaid  \\\n",
      "0           ...                 0               0        0          0   \n",
      "1           ...                 0               0        0          0   \n",
      "2           ...                 0               0        0          0   \n",
      "3           ...                 1               0        1          0   \n",
      "4           ...                 0               0        0          0   \n",
      "5           ...                 0               0        0          0   \n",
      "6           ...                 0               0        0          0   \n",
      "7           ...                 0               0        0          0   \n",
      "8           ...                 0               0        0          0   \n",
      "9           ...                 0               0        0          0   \n",
      "10          ...                 0               0        0          0   \n",
      "11          ...                 1               0        1          0   \n",
      "12          ...                 1               0        1          0   \n",
      "13          ...                 0               0        0          0   \n",
      "14          ...                 0               0        0          0   \n",
      "15          ...                 0               0        0          0   \n",
      "16          ...                 0               0        0          0   \n",
      "17          ...                 0               0        0          0   \n",
      "18          ...                 0               0        0          0   \n",
      "19          ...                 0               0        0          0   \n",
      "20          ...                 0               0        0          0   \n",
      "21          ...                 0               0        0          0   \n",
      "22          ...                 0               0        0          0   \n",
      "23          ...                 0               0        0          0   \n",
      "24          ...                 0               0        0          0   \n",
      "25          ...                 0               0        0          0   \n",
      "26          ...                 0               0        0          0   \n",
      "27          ...                 0               0        0          0   \n",
      "28          ...                 0               0        0          0   \n",
      "29          ...                 0               0        0          0   \n",
      "...         ...               ...             ...      ...        ...   \n",
      "106180      ...                 0               0        0          0   \n",
      "106181      ...                 0               0        0          0   \n",
      "106182      ...                 0               0        0          0   \n",
      "106183      ...                 1               0        1          0   \n",
      "106184      ...                 0               0        0          0   \n",
      "106185      ...                 0               0        0          0   \n",
      "106186      ...                 0               0        0          0   \n",
      "106187      ...                 0               0        0          0   \n",
      "106188      ...                 0               0        0          0   \n",
      "106189      ...                 0               0        0          0   \n",
      "106190      ...                 0               0        0          0   \n",
      "106191      ...                 0               0        0          0   \n",
      "106192      ...                 0               0        0          0   \n",
      "106193      ...                 0               0        0          0   \n",
      "106194      ...                 0               0        0          0   \n",
      "106195      ...                 0               0        0          0   \n",
      "106196      ...                 0               0        0          0   \n",
      "106197      ...                 0               0        0          0   \n",
      "106198      ...                 0               0        0          0   \n",
      "106199      ...                 0               0        0          0   \n",
      "106200      ...                 0               0        0          0   \n",
      "106201      ...                 0               0        0          0   \n",
      "106202      ...                 0               0        0          0   \n",
      "106203      ...                 0               0        0          0   \n",
      "106204      ...                 1               0        1          0   \n",
      "106205      ...                 0               0        0          0   \n",
      "106206      ...                 0               0        0          0   \n",
      "106207      ...                 0               0        0          0   \n",
      "106208      ...                 0               0        0          0   \n",
      "106209      ...                 0               0        0          0   \n",
      "\n",
      "       FeesWrittenOff LeadGrade YearCycleSequece LeadsEngaged LeadsQualified  \\\n",
      "0                   0         A                1            0              0   \n",
      "1                   0         B                1            1              0   \n",
      "2                   0         B                1            1              0   \n",
      "3                   0         B                1            1              1   \n",
      "4                   0         B                1            1              0   \n",
      "5                   0         C                1            0              0   \n",
      "6                   0         B                2            1              0   \n",
      "7                   0         B                1            1              0   \n",
      "8                   0         C                2            0              1   \n",
      "9                   0         B                1            0              0   \n",
      "10                  0         A                1            1              0   \n",
      "11                  0         A                1            1              1   \n",
      "12                  0         A                2            1              1   \n",
      "13                  0         B                1            0              1   \n",
      "14                  0         B                2            0              0   \n",
      "15                  0         B                3            0              1   \n",
      "16                  0         B                1            1              0   \n",
      "17                  0         B                1            1              0   \n",
      "18                  0         B                2            0              0   \n",
      "19                  0         A                1            0              0   \n",
      "20                  0         A                1            1              0   \n",
      "21                  0         A                1            1              0   \n",
      "22                  0         B                1            1              0   \n",
      "23                  0         A                2            1              0   \n",
      "24                  0         B                1            0              0   \n",
      "25                  0         B                1            0              0   \n",
      "26                  0         A                1            0              0   \n",
      "27                  0         B                1            0              0   \n",
      "28                  0         B                1            1              0   \n",
      "29                  0         B                1            1              0   \n",
      "...               ...       ...              ...          ...            ...   \n",
      "106180              0         B                1            1              0   \n",
      "106181              0         B                1            0              0   \n",
      "106182              0         B                1            0              0   \n",
      "106183              0         A                1            1              1   \n",
      "106184              0         B                1            1              0   \n",
      "106185              0         B                1            0              0   \n",
      "106186              0         A                1            1              1   \n",
      "106187              0         B                1            0              0   \n",
      "106188              0         A                1            0              0   \n",
      "106189              0         B                1            0              0   \n",
      "106190              0         A                1            0              0   \n",
      "106191              0         B                1            1              0   \n",
      "106192              0         C                2            1              0   \n",
      "106193              0         A                1            1              0   \n",
      "106194              0         C                2            1              0   \n",
      "106195              0         B                1            1              0   \n",
      "106196              0         B                1            1              1   \n",
      "106197              0         C                2            0              1   \n",
      "106198              0         B                1            0              0   \n",
      "106199              0         A                1            1              1   \n",
      "106200              0         C                1            0              0   \n",
      "106201              0         A                1            0              0   \n",
      "106202              0         B                1            0              0   \n",
      "106203              0         B                1            0              0   \n",
      "106204              0         A                1            1              1   \n",
      "106205              0         A                1            1              1   \n",
      "106206              0         B                1            1              0   \n",
      "106207              0         A                1            1              1   \n",
      "106208              0         B                1            1              0   \n",
      "106209              0         A                1            1              1   \n",
      "\n",
      "       LeadsPromoted  \n",
      "0                  0  \n",
      "1                  0  \n",
      "2                  0  \n",
      "3                  1  \n",
      "4                  0  \n",
      "5                  0  \n",
      "6                  0  \n",
      "7                  0  \n",
      "8                  0  \n",
      "9                  0  \n",
      "10                 0  \n",
      "11                 1  \n",
      "12                 1  \n",
      "13                 0  \n",
      "14                 0  \n",
      "15                 0  \n",
      "16                 0  \n",
      "17                 0  \n",
      "18                 0  \n",
      "19                 0  \n",
      "20                 0  \n",
      "21                 0  \n",
      "22                 0  \n",
      "23                 0  \n",
      "24                 0  \n",
      "25                 0  \n",
      "26                 0  \n",
      "27                 0  \n",
      "28                 0  \n",
      "29                 0  \n",
      "...              ...  \n",
      "106180             0  \n",
      "106181             0  \n",
      "106182             0  \n",
      "106183             1  \n",
      "106184             0  \n",
      "106185             0  \n",
      "106186             0  \n",
      "106187             0  \n",
      "106188             0  \n",
      "106189             0  \n",
      "106190             0  \n",
      "106191             0  \n",
      "106192             0  \n",
      "106193             0  \n",
      "106194             0  \n",
      "106195             0  \n",
      "106196             1  \n",
      "106197             0  \n",
      "106198             0  \n",
      "106199             1  \n",
      "106200             0  \n",
      "106201             0  \n",
      "106202             0  \n",
      "106203             0  \n",
      "106204             1  \n",
      "106205             1  \n",
      "106206             0  \n",
      "106207             1  \n",
      "106208             0  \n",
      "106209             1  \n",
      "\n",
      "[106210 rows x 46 columns]\n"
     ]
    }
   ],
   "source": [
    "print(data)\n",
    "# print(data.describe())"
   ]
  },
  {
   "cell_type": "markdown",
   "metadata": {},
   "source": [
    "<p> <h1> Percentage of Accounts Opened / Not Opened </h1></p>"
   ]
  },
  {
   "cell_type": "code",
   "execution_count": 231,
   "metadata": {},
   "outputs": [
    {
     "name": "stdout",
     "output_type": "stream",
     "text": [
      "Total number of Accounts (106210, 46)\n",
      "*=*=*=*=*=*=*=*=*=*=*=*=*=*=*=*=*=*=*=*=*=*=*=*=*=*=*=*=*=*=*=*=*=*=*=*=*=*=*=*=*=*=*=*=*=*=*=*=*=*=\n",
      "(13986, 46)\n",
      "(92224, 46)\n",
      "*=*=*=*=*=*=*=*=*=*=*=*=*=*=*=*=*=*=*=*=*=*=*=*=*=*=*=*=*=*=*=*=*=*=*=*=*=*=*=*=*=*=*=*=*=*=*=*=*=*=\n",
      "Percentage of accounts opened successfully: 1    13.168252\n",
      "Name: isWon, dtype: float64\n",
      "Percentage of accounts not opened successfully: 0    86.831748\n",
      "Name: isWon, dtype: float64\n"
     ]
    }
   ],
   "source": [
    "print(\"Total number of Accounts\", data.shape)\n",
    "# print(data.describe())\n",
    "\n",
    "print('*='*50)\n",
    "\n",
    "data_iswon_1 = data[data['isWon']==1]\n",
    "data_iswon_0 = data[data['isWon']==0]\n",
    "print(data_iswon_1.shape)\n",
    "print(data_iswon_0.shape)\n",
    "\n",
    "print('*='*50)\n",
    "\n",
    "print(\"Percentage of accounts opened successfully:\", (data_iswon_1['isWon'].value_counts()/data['isWon'].shape[0])*100)\n",
    "print(\"Percentage of accounts not opened successfully:\", (data_iswon_0['isWon'].value_counts()/data['isWon'].shape[0])*100)"
   ]
  },
  {
   "cell_type": "code",
   "execution_count": 225,
   "metadata": {},
   "outputs": [
    {
     "name": "stdout",
     "output_type": "stream",
     "text": [
      "1    13986\n",
      "Name: isWon, dtype: int64\n",
      "106210\n"
     ]
    }
   ],
   "source": [
    "print(data_iswon_1['isWon'].value_counts())\n",
    "print(data['isWon'].shape[0])"
   ]
  },
  {
   "cell_type": "markdown",
   "metadata": {},
   "source": [
    "<p> <b> Lead Source Group: \"Opened Accounts\" </B> <br> Number of customers who opened their accounts (Qualified Leads) through different <B>Source Groups </b>"
   ]
  },
  {
   "cell_type": "code",
   "execution_count": 27,
   "metadata": {},
   "outputs": [
    {
     "name": "stdout",
     "output_type": "stream",
     "text": [
      "Digital Leads              3664\n",
      "Sales Lead                 3502\n",
      "Inbound Call               1850\n",
      "House Account              1385\n",
      "Events                      951\n",
      "Specialty                   847\n",
      "Event                       828\n",
      "Webinars                    379\n",
      "Service to Sales            328\n",
      "NONE                        190\n",
      "New Marketing Campaigns      62\n",
      "Name: LeadSourceGroup, dtype: int64\n"
     ]
    },
    {
     "data": {
      "image/png": "[encoded data removed]",
      "text/plain": [
       "<matplotlib.figure.Figure at 0x1cbc642d390>"
      ]
     },
     "metadata": {},
     "output_type": "display_data"
    }
   ],
   "source": [
    "g1 = sns.countplot(data_iswon_1['LeadSourceGroup'])\n",
    "for item in g1.get_xticklabels():\n",
    "    item.set_rotation(70)\n",
    "print(data_iswon_1.LeadSourceGroup.value_counts())"
   ]
  },
  {
   "cell_type": "markdown",
   "metadata": {},
   "source": [
    "<p> <b> Lead Source Group: \"Did not Opened their accounts\"</B> <br>Number of customers who did not opened their accounts (Unqualified Leads)"
   ]
  },
  {
   "cell_type": "code",
   "execution_count": 57,
   "metadata": {},
   "outputs": [
    {
     "name": "stdout",
     "output_type": "stream",
     "text": [
      "Digital Leads              48929\n",
      "Events                     12727\n",
      "Specialty                  11751\n",
      "Webinars                    5708\n",
      "Inbound Call                4592\n",
      "Sales Lead                  3820\n",
      "New Marketing Campaigns     1822\n",
      "House Account               1608\n",
      "Service to Sales            1048\n",
      "NONE                         219\n",
      "Name: LeadSourceGroup, dtype: int64\n"
     ]
    },
    {
     "data": {
      "image/png": "[encoded data removed]",
      "text/plain": [
       "<matplotlib.figure.Figure at 0x1cbc05b4588>"
      ]
     },
     "metadata": {},
     "output_type": "display_data"
    }
   ],
   "source": [
    "g2= sns.countplot(data_iswon_0['LeadSourceGroup'])\n",
    "for item in g2.get_xticklabels():\n",
    "    item.set_rotation(70)\n",
    "\n",
    "print(data_iswon_0.LeadSourceGroup.value_counts())"
   ]
  },
  {
   "cell_type": "code",
   "execution_count": 232,
   "metadata": {},
   "outputs": [],
   "source": [
    "# g2_1= sns.countplot(data_iswon_0[data_iswon_0.LeadSourceGroup=='Digital Leads'].LeadSourceType)\n",
    "# for item in g2_1.get_xticklabels():\n",
    "#     item.set_rotation(70)"
   ]
  },
  {
   "cell_type": "code",
   "execution_count": 233,
   "metadata": {},
   "outputs": [],
   "source": [
    "# f = np.unique(data_iswon_0.LeadSourceGroup)\n",
    "# for i in f:\n",
    "#     print(i)"
   ]
  },
  {
   "cell_type": "markdown",
   "metadata": {},
   "source": [
    "<p> <h1> Question 6 </H1></p><br>\n",
    "<b> Objective: </b>How accurate are <b>lead grades</b> given to leads in determining likelihood of an account open? <br>\n",
    "\n",
    "<h3> Solution </h3><br>\n",
    "<p> Here objective is to determine how accurate the lead grades were assigned to the leads for opening an account..<br>\n",
    "    1. I am using the column <b>\"isWon\"</b> to identify only the Opened Accounts<br>\n",
    "    2. Calculating the percentage of Individual grades assigned to Leads, which will give us the insights of the correct percentages given to the leads for opening an account.</p>\n"
   ]
  },
  {
   "cell_type": "code",
   "execution_count": 216,
   "metadata": {},
   "outputs": [
    {
     "name": "stdout",
     "output_type": "stream",
     "text": [
      "(106210, 46)\n",
      "*=*=*=*=*=*=*=*=*=*=*=*=*=*=*=*=*=*=*=*=*=*=*=*=*=*=*=*=*=*=*=*=*=*=*=*=*=*=*=*=*=*=*=*=*=*=*=*=*=*=\n"
     ]
    },
    {
     "data": {
      "text/plain": [
       "B    55992\n",
       "A    42321\n",
       "C     7897\n",
       "Name: LeadGrade, dtype: int64"
      ]
     },
     "execution_count": 216,
     "metadata": {},
     "output_type": "execute_result"
    }
   ],
   "source": [
    "# Total Count of individual Lead Grades For all customers.\n",
    "print(data.shape)\n",
    "print('*='*50)\n",
    "# sns.countplot(data['LeadGrade'])\n",
    "data.LeadGrade.value_counts()"
   ]
  },
  {
   "cell_type": "markdown",
   "metadata": {},
   "source": [
    "<p>From the below pecentages I can draw a conclusion that, these were the accurate percentages of lead grades which were given to leads correctly for opening an account</p>"
   ]
  },
  {
   "cell_type": "code",
   "execution_count": 234,
   "metadata": {
    "scrolled": false
   },
   "outputs": [
    {
     "name": "stdout",
     "output_type": "stream",
     "text": [
      "A    11777\n",
      "C     1230\n",
      "B      979\n",
      "Name: LeadGrade, dtype: int64\n",
      "*=*=*=*=*=*=*=*=*=*=*=*=*=*=*=*=*=*=*=*=*=*=*=*=*=*=*=*=*=*=*=*=*=*=*=*=*=*=*=*=*=*=*=*=*=*=*=*=*=*=\n",
      "   0 percentage\n",
      "0  A     27.83%\n",
      "1  B      1.75%\n",
      "2  C     15.58%\n",
      "*=*=*=*=*=*=*=*=*=*=*=*=*=*=*=*=*=*=*=*=*=*=*=*=*=*=*=*=*=*=*=*=*=*=*=*=*=*=*=*=*=*=*=*=*=*=*=*=*=*=\n"
     ]
    },
    {
     "data": {
      "image/png": "[encoded data removed]",
      "text/plain": [
       "<matplotlib.figure.Figure at 0x1cb96b73400>"
      ]
     },
     "metadata": {},
     "output_type": "display_data"
    }
   ],
   "source": [
    "# Total Count of individual Lead Grades For all customers who WON / Opened an account.\n",
    "\n",
    "print(data_iswon_1.LeadGrade.value_counts())\n",
    "print('*='*50)\n",
    "average  = (data_iswon_1['LeadGrade'].value_counts()/ data['LeadGrade'].value_counts())*100\n",
    "T1  = pd.DataFrame(average.index)\n",
    "percentage = pd.DataFrame(average.values)\n",
    "T1['percentage'] = percentage\n",
    "\n",
    "per = []\n",
    "for i in T1['percentage']:\n",
    "    value = \"%.2f\"%i+\"%\"\n",
    "    per.append(value)\n",
    "T1['percentage'] = per\n",
    "print(T1)\n",
    "\n",
    "\n",
    "#Plot\n",
    "ax = sns.countplot(data_iswon_1['LeadGrade'])\n",
    "print('*='*50)\n",
    "for p in ax.patches:\n",
    "    ax.text(p.get_x() + p.get_width()/2., p.get_height(), '%d' % int(p.get_height()), \n",
    "            fontsize=12, color='black', ha='center', va='bottom')\n"
   ]
  },
  {
   "cell_type": "markdown",
   "metadata": {},
   "source": [
    "<h1>Question 2:</h1><br>\n",
    "<b>Objective: </b> Which campaigns have had the most success with generating qualified leads? <br>\n",
    "\n",
    "<h3> Solution</h3>\n",
    "\n"
   ]
  },
  {
   "cell_type": "code",
   "execution_count": 239,
   "metadata": {},
   "outputs": [
    {
     "name": "stdout",
     "output_type": "stream",
     "text": [
      "(106210, 46)\n"
     ]
    }
   ],
   "source": [
    "print(data.shape)"
   ]
  },
  {
   "cell_type": "code",
   "execution_count": 238,
   "metadata": {},
   "outputs": [
    {
     "name": "stdout",
     "output_type": "stream",
     "text": [
      "Total number of LeadsQualified: (35460, 46)\n",
      "Total number of Leads UnQualified: (70750, 46)\n"
     ]
    }
   ],
   "source": [
    "data_qlead_1 = data[data['LeadsQualified']==1]\n",
    "data_qlead_0 = data[data['LeadsQualified']==0]\n",
    "\n",
    "print(\"Total number of LeadsQualified:\", data_qlead_1.shape)\n",
    "print(\"Total number of Leads UnQualified:\", data_qlead_0.shape)"
   ]
  },
  {
   "cell_type": "code",
   "execution_count": 244,
   "metadata": {},
   "outputs": [
    {
     "name": "stdout",
     "output_type": "stream",
     "text": [
      "Total Leads Qualified: 35460\n",
      "********************\n",
      "0    21474\n",
      "1    13986\n",
      "Name: isWon, dtype: int64\n",
      "*=*=*=*=*=*=*=*=*=*=*=*=*=*=*=*=*=*=*=*=*=*=*=*=*=*=*=*=*=*=*=*=*=*=*=*=*=*=*=*=*=*=*=*=*=*=*=*=*=*=\n"
     ]
    },
    {
     "data": {
      "text/plain": [
       "<matplotlib.axes._subplots.AxesSubplot at 0x1cb9667aba8>"
      ]
     },
     "execution_count": 244,
     "metadata": {},
     "output_type": "execute_result"
    },
    {
     "data": {
      "image/png": "[encoded data removed]",
      "text/plain": [
       "<matplotlib.figure.Figure at 0x1cb96b85c18>"
      ]
     },
     "metadata": {},
     "output_type": "display_data"
    }
   ],
   "source": [
    "print(\"Total Leads Qualified:\",data_qlead_1.shape[0])\n",
    "print(\"*\"*20)\n",
    "print(data_qlead_1['isWon'].value_counts())\n",
    "print(\"*=\"*50)\n",
    "sns.countplot(data_qlead_1['isWon'])\n"
   ]
  },
  {
   "cell_type": "code",
   "execution_count": 246,
   "metadata": {},
   "outputs": [
    {
     "name": "stdout",
     "output_type": "stream",
     "text": [
      "(13986, 46)\n"
     ]
    }
   ],
   "source": [
    "data_qlead_1_iswon_1 = data_qlead_1[data_qlead_1['isWon']==1]\n",
    "print(data_qlead_1_iswon_1.shape)"
   ]
  },
  {
   "cell_type": "markdown",
   "metadata": {},
   "source": [
    "<p> <B>Percentage of \"LEAD SOURCE GROUP\"</B> </P> "
   ]
  },
  {
   "cell_type": "code",
   "execution_count": 273,
   "metadata": {},
   "outputs": [
    {
     "name": "stdout",
     "output_type": "stream",
     "text": [
      "Success Percentage of every individual 'LEAD SOURCE GROUP' in generating qualified leads\n",
      "\n",
      "                          0 Percentage\n",
      "0             Digital Leads     37.98%\n",
      "1                Sales Lead     14.24%\n",
      "2              Inbound Call     11.92%\n",
      "3                    Events      8.75%\n",
      "4                 Specialty      8.29%\n",
      "5             House Account      6.90%\n",
      "6                  Webinars      6.25%\n",
      "7                     Event      2.34%\n",
      "8          Service to Sales      1.94%\n",
      "9                      NONE      0.74%\n",
      "10  New Marketing Campaigns      0.67%\n",
      "*=*=*=*=*=*=*=*=*=*=*=*=*=*=*=*=*=*=*=*=*=*=*=*=*=*=*=*=*=*=*=*=*=*=*=*=*=*=*=*=*=*=*=*=*=*=*=*=*=*=\n"
     ]
    },
    {
     "data": {
      "image/png": "[encoded data removed]",
      "text/plain": [
       "<matplotlib.figure.Figure at 0x1cb96a69a58>"
      ]
     },
     "metadata": {},
     "output_type": "display_data"
    }
   ],
   "source": [
    "print(\"Success Percentage of every individual 'LEAD SOURCE GROUP' in generating qualified leads\")\n",
    "print(\"\")\n",
    "average_DQ = (data_qlead_1['LeadSourceGroup'].value_counts()/data_qlead_1.shape[0])*100\n",
    "T2 = pd.DataFrame(average_DQ.index)\n",
    "T2['Percentage'] = pd.DataFrame(average_DQ.values)\n",
    "\n",
    "per_DQ = []\n",
    "for j in T2['Percentage']:\n",
    "    value_DQ = \"%.2f\"%j+\"%\"\n",
    "    per_DQ.append(value_DQ)\n",
    "T2['Percentage'] = per_DQ\n",
    "print(T2)\n",
    "\n",
    "print('*='*50)\n",
    "DQ = sns.countplot(data_qlead_1.LeadSourceGroup)\n",
    "for item in DQ.get_xticklabels():\n",
    "    item.set_rotation(70)\n",
    "for p in DQ.patches:\n",
    "    DQ.text(p.get_x() + p.get_width()/2., p.get_height(), '%d' % int(p.get_height()), \n",
    "            fontsize=12, color='black', ha='center', va='bottom')    \n",
    "    "
   ]
  },
  {
   "cell_type": "code",
   "execution_count": 283,
   "metadata": {},
   "outputs": [
    {
     "name": "stdout",
     "output_type": "stream",
     "text": [
      "Success Percentage of every individual 'LEAD SOURCE TYPE' in generating qualified leads\n",
      "\n",
      "                                     0 Percentage\n",
      "0                              Website     22.81%\n",
      "1                                  PPC     12.87%\n",
      "2                             Referral     12.01%\n",
      "3                         Inbound Call     11.91%\n",
      "4                          ETC Webinar      6.08%\n",
      "5                        House Account      5.59%\n",
      "6                 Special Time of Year      4.61%\n",
      "7                    Educator Meetings      2.89%\n",
      "8                    Client Cross Sell      2.34%\n",
      "9                               NAREIA      2.34%\n",
      "10                     NAREIA Meetings      1.97%\n",
      "11                                 WBW      1.95%\n",
      "12                    Service to Sales      1.94%\n",
      "13                  Cross-Sell Account      1.41%\n",
      "14              Incomplete Application      1.29%\n",
      "15                        Social Media      0.94%\n",
      "16                 Non NAREIA Meetings      0.94%\n",
      "17                           Live Chat      0.92%\n",
      "18                                NONE      0.74%\n",
      "19                    Digital Currency      0.54%\n",
      "20                 Beneficiary Account      0.50%\n",
      "21                          Newsletter      0.43%\n",
      "22              REIA / NREIA Tradeshow      0.43%\n",
      "23                3rd Party Paid Leads      0.39%\n",
      "24     Flash Sales with Account Offers      0.39%\n",
      "25                             Unknown      0.37%\n",
      "26                         Sales Email      0.33%\n",
      "27               Pardot C Lead Upgrade      0.29%\n",
      "28      Flash Sales with Account Offer      0.21%\n",
      "29                    Meet up Meetings      0.20%\n",
      "30                      NAREIA Webinar      0.08%\n",
      "31          Turnkey/Investment Sponsor      0.06%\n",
      "32                Seminar / Conference      0.06%\n",
      "33                    Referral Program      0.06%\n",
      "34                  Non NAREIA Webinar      0.03%\n",
      "35                   Web Advertisement      0.03%\n",
      "36                         Direct Mail      0.02%\n",
      "37                               Email      0.01%\n",
      "38                             Webinar      0.01%\n",
      "39               Event Follow Up Email      0.01%\n",
      "40                               Other      0.01%\n",
      "41  Competitor Campaign - Free TX Acct      0.01%\n",
      "*=*=*=*=*=*=*=*=*=*=*=*=*=*=*=*=*=*=*=*=*=*=*=*=*=*=*=*=*=*=*=*=*=*=*=*=*=*=*=*=*=*=*=*=*=*=*=*=*=*=*=*=*=*=*=\n"
     ]
    },
    {
     "data": {
      "image/png": "[encoded data removed]",
      "text/plain": [
       "<matplotlib.figure.Figure at 0x1cb97061860>"
      ]
     },
     "metadata": {},
     "output_type": "display_data"
    }
   ],
   "source": [
    "print(\"Success Percentage of every individual 'LEAD SOURCE TYPE' in generating qualified leads\")\n",
    "print(\"\")\n",
    "average_DQ = (data_qlead_1['LeadSourceType'].value_counts()/data_qlead_1.shape[0])*100\n",
    "T2 = pd.DataFrame(average_DQ.index)\n",
    "T2['Percentage'] = pd.DataFrame(average_DQ.values)\n",
    "\n",
    "per_DQ = []\n",
    "for j in T2['Percentage']:\n",
    "    value_DQ = \"%.2f\"%j+\"%\"\n",
    "    per_DQ.append(value_DQ)\n",
    "T2['Percentage'] = per_DQ\n",
    "print(T2)\n",
    "\n",
    "print('*='*55)\n",
    "dims = plt.figure(figsize = (19, 7))\n",
    "DQ = sns.countplot(data_qlead_1.LeadSourceType)\n",
    "for item in DQ.get_xticklabels():\n",
    "    item.set_rotation(90)\n",
    "for p in DQ.patches:\n",
    "    DQ.text(p.get_x() + p.get_width()/2., p.get_height(), '%d' % int(p.get_height()), \n",
    "            fontsize=12, color='black', ha='center', va='bottom')    \n",
    "    "
   ]
  },
  {
   "cell_type": "markdown",
   "metadata": {},
   "source": [
    "<h1>Question 5:</h1><br>\n",
    "<b>Objective: </b> What is the avg length of a sales cycle and is there a correlation between cycle length and likelihood of an account win (among cycles lasting > 1 week)? <br>\n",
    "\n",
    "<h3> Solution</h3>\n",
    "\n"
   ]
  },
  {
   "cell_type": "code",
   "execution_count": 429,
   "metadata": {},
   "outputs": [
    {
     "name": "stdout",
     "output_type": "stream",
     "text": [
      "(106210, 46)\n",
      "*=*=*=*=*=*=*=*=*=*=*=*=*=*=*=*=*=*=*=*=*=*=*=*=*=*=*=*=*=*=*=*=*=*=*=*=*=*=*=*=*=*=*=*=*=*=*=*=*=*=\n",
      "         LeadParentID  CycleSequence CycleStartYearWeek CycleStartDate  \\\n",
      "0  0068000000URIX5AAP              1           2018-W36     2018-09-04   \n",
      "1  0068000000URIX5AAP              2           2019-W09     2019-02-26   \n",
      "2  00Q0h00001g0F40EAE              1           2018-W28     2018-07-13   \n",
      "3  0061A000015j7kiQAA              1           2017-W21     2017-05-27   \n",
      "4  0061A000015j7kiQAA              1           2018-W40     2018-10-05   \n",
      "\n",
      "                  CycleEndDate  isWon  \n",
      "0  2018-09-14 09:29:32.0000000      0  \n",
      "1  2019-03-11 09:15:26.0000000      0  \n",
      "2  2018-07-13 14:25:42.0000000      0  \n",
      "3  2017-08-07 00:00:00.0000000      1  \n",
      "4  2018-10-12 11:51:18.0000000      0  \n"
     ]
    }
   ],
   "source": [
    "q5 = data\n",
    "print(q5.shape)\n",
    "\n",
    "print('*='*50)\n",
    "q5 = q5[['LeadParentID','CycleSequence','CycleStartYearWeek','CycleStartDate','CycleEndDate','isWon']]\n",
    "print(q5.head())"
   ]
  },
  {
   "cell_type": "code",
   "execution_count": 430,
   "metadata": {},
   "outputs": [
    {
     "name": "stdout",
     "output_type": "stream",
     "text": [
      "<class 'pandas.core.frame.DataFrame'>\n",
      "RangeIndex: 106210 entries, 0 to 106209\n",
      "Data columns (total 6 columns):\n",
      "LeadParentID          106210 non-null object\n",
      "CycleSequence         106210 non-null int64\n",
      "CycleStartYearWeek    106210 non-null object\n",
      "CycleStartDate        106210 non-null datetime64[ns]\n",
      "CycleEndDate          106210 non-null datetime64[ns]\n",
      "isWon                 106210 non-null int64\n",
      "dtypes: datetime64[ns](2), int64(2), object(2)\n",
      "memory usage: 4.9+ MB\n",
      "None\n"
     ]
    }
   ],
   "source": [
    "from datetime import datetime\n",
    "q5['CycleStartDate'] = pd.to_datetime(q5['CycleStartDate'])\n",
    "q5['CycleEndDate'] = pd.to_datetime(q5['CycleEndDate'])\n",
    "print(q5.info())"
   ]
  },
  {
   "cell_type": "code",
   "execution_count": 431,
   "metadata": {},
   "outputs": [
    {
     "name": "stdout",
     "output_type": "stream",
     "text": [
      "(106210, 7)\n",
      "*=*=*=*=*=*=*=*=*=*=*=*=*=*=*=*=*=*=*=*=*=*=*=*=*=*=*=*=*=*=*=*=*=*=*=*=*=*=*=*=*=*=*=*=*=*=*=*=*=*=\n",
      "         LeadParentID  CycleSequence CycleStartYearWeek CycleStartDate  \\\n",
      "0  0068000000URIX5AAP              1           2018-W36     2018-09-04   \n",
      "1  0068000000URIX5AAP              2           2019-W09     2019-02-26   \n",
      "2  00Q0h00001g0F40EAE              1           2018-W28     2018-07-13   \n",
      "3  0061A000015j7kiQAA              1           2017-W21     2017-05-27   \n",
      "4  0061A000015j7kiQAA              1           2018-W40     2018-10-05   \n",
      "\n",
      "         CycleEndDate  isWon  date_diff  \n",
      "0 2018-09-14 09:29:32      0         11  \n",
      "1 2019-03-11 09:15:26      0         14  \n",
      "2 2018-07-13 14:25:42      0          1  \n",
      "3 2017-08-07 00:00:00      1         72  \n",
      "4 2018-10-12 11:51:18      0          8  \n"
     ]
    }
   ],
   "source": [
    "from datetime import date\n",
    "Start_Date = q5['CycleStartDate']\n",
    "End_Date = q5['CycleEndDate']\n",
    "\n",
    "date = Start_Date - End_Date\n",
    "q5['date_diff'] = abs(date.dt.days)\n",
    "print(q5.shape)\n",
    "print('*='*50)\n",
    "print(q5.head())"
   ]
  },
  {
   "cell_type": "code",
   "execution_count": 432,
   "metadata": {},
   "outputs": [],
   "source": [
    "def variable(row):\n",
    "    x = row['date_diff']\n",
    "    if x>7:\n",
    "        return 1\n",
    "    return 0\n",
    "q5['cycles_lasting> 1 week'] = q5.apply(variable, axis=1)"
   ]
  },
  {
   "cell_type": "code",
   "execution_count": 433,
   "metadata": {},
   "outputs": [
    {
     "name": "stdout",
     "output_type": "stream",
     "text": [
      "(69971, 8)\n",
      "(36239, 8)\n"
     ]
    }
   ],
   "source": [
    "q5_date_diff_G7 = q5[q5['cycles_lasting> 1 week']==1]\n",
    "print(q5_date_diff_G7.shape)\n",
    "\n",
    "q5_date_diff_G = q5[q5['cycles_lasting> 1 week']==0]\n",
    "print(q5_date_diff_G.shape)"
   ]
  },
  {
   "cell_type": "code",
   "execution_count": 434,
   "metadata": {},
   "outputs": [
    {
     "data": {
      "image/png": "[encoded data removed]",
      "text/plain": [
       "<matplotlib.figure.Figure at 0x1cbf55a0940>"
      ]
     },
     "metadata": {},
     "output_type": "display_data"
    }
   ],
   "source": [
    "plt.subplot(121)\n",
    "plt.title(\"Cycles > 1 Week\")\n",
    "DD1 = sns.countplot(q5_date_diff_G7['isWon'])\n",
    "for p in DD1.patches:\n",
    "    DD1.text(p.get_x() + p.get_width()/2., p.get_height(), '%d' % int(p.get_height()), \n",
    "            fontsize=12, color='black', ha='center', va='bottom')\n",
    "plt.subplot(122)\n",
    "plt.title(\"Cycles = 1 Week\")\n",
    "DD2 = sns.countplot(q5_date_diff_G['isWon'])\n",
    "for p in DD2.patches:\n",
    "    DD2.text(p.get_x() + p.get_width()/2., p.get_height(), '%d' % int(p.get_height()), \n",
    "            fontsize=12, color='black', ha='center', va='bottom')"
   ]
  },
  {
   "cell_type": "code",
   "execution_count": 435,
   "metadata": {},
   "outputs": [],
   "source": [
    "# def iswon(row):\n",
    "#     x = row['isWon']\n",
    "#     if x==0:\n",
    "#         return \"zero\"\n",
    "#     return \"one\"\n",
    "# q5_date_diff_G7['isWon_Cat'] = q5_date_diff_G7.apply(iswon, axis=1)"
   ]
  },
  {
   "cell_type": "code",
   "execution_count": 436,
   "metadata": {},
   "outputs": [],
   "source": [
    "# def cycle_lasting(row):\n",
    "#     x = row['cycles_lasting> 1 week']\n",
    "#     if x==0:\n",
    "#         return \"zero\"\n",
    "#     return \"one\"\n",
    "# q5_date_diff_G7['cycles_lasting> 1 week_Cat'] = q5_date_diff_G7.apply(cycle_lasting, axis=1)"
   ]
  },
  {
   "cell_type": "code",
   "execution_count": 437,
   "metadata": {},
   "outputs": [],
   "source": [
    "# q5_date_diff_G7['isWon_Cat'] = q5_date_diff_G7['isWon_Cat'].astype('category').cat.codes\n",
    "# q5_date_diff_G7['cycles_lasting> 1 week_Cat'] = q5_date_diff_G7['cycles_lasting> 1 week_Cat'].astype('category').cat.codes"
   ]
  },
  {
   "cell_type": "code",
   "execution_count": 438,
   "metadata": {},
   "outputs": [],
   "source": [
    "corr_data = q5_date_diff_G7[['LeadParentID','isWon','date_diff']]"
   ]
  },
  {
   "cell_type": "markdown",
   "metadata": {},
   "source": [
    "<p> correlation between cycle length and likelihood of an account win (among cycles lasting > 1 week) is <b>\"Negatively Correlated\"</b> <br><br> which tells us there is no correlation between the features \"Cycle length\" and \"isWon\" <br>\n",
    "    which mean it is not necessary that cycles lasting >1 week will have high success rate in winning an account."
   ]
  },
  {
   "cell_type": "code",
   "execution_count": 439,
   "metadata": {},
   "outputs": [
    {
     "data": {
      "text/html": [
       "<style  type=\"text/css\" >\n",
       "    #T_98bc4b8a_9d73_11e9_9c42_d481d7e61e0erow0_col0 {\n",
       "            background-color:  #417ca8;\n",
       "            max-width:  80px;\n",
       "            font-size:  10pt;\n",
       "        }    #T_98bc4b8a_9d73_11e9_9c42_d481d7e61e0erow0_col1 {\n",
       "            background-color:  #d73c5b;\n",
       "            max-width:  80px;\n",
       "            font-size:  10pt;\n",
       "        }    #T_98bc4b8a_9d73_11e9_9c42_d481d7e61e0erow1_col0 {\n",
       "            background-color:  #d73c5b;\n",
       "            max-width:  80px;\n",
       "            font-size:  10pt;\n",
       "        }    #T_98bc4b8a_9d73_11e9_9c42_d481d7e61e0erow1_col1 {\n",
       "            background-color:  #417ca8;\n",
       "            max-width:  80px;\n",
       "            font-size:  10pt;\n",
       "        }</style>  \n",
       "<table id=\"T_98bc4b8a_9d73_11e9_9c42_d481d7e61e0e\" > \n",
       "<thead>    <tr> \n",
       "        <th class=\"blank level0\" ></th> \n",
       "        <th class=\"col_heading level0 col0\" >isWon</th> \n",
       "        <th class=\"col_heading level0 col1\" >date_diff</th> \n",
       "    </tr></thead> \n",
       "<tbody>    <tr> \n",
       "        <th id=\"T_98bc4b8a_9d73_11e9_9c42_d481d7e61e0elevel0_row0\" class=\"row_heading level0 row0\" >isWon</th> \n",
       "        <td id=\"T_98bc4b8a_9d73_11e9_9c42_d481d7e61e0erow0_col0\" class=\"data row0 col0\" >1</td> \n",
       "        <td id=\"T_98bc4b8a_9d73_11e9_9c42_d481d7e61e0erow0_col1\" class=\"data row0 col1\" >-0.11</td> \n",
       "    </tr>    <tr> \n",
       "        <th id=\"T_98bc4b8a_9d73_11e9_9c42_d481d7e61e0elevel0_row1\" class=\"row_heading level0 row1\" >date_diff</th> \n",
       "        <td id=\"T_98bc4b8a_9d73_11e9_9c42_d481d7e61e0erow1_col0\" class=\"data row1 col0\" >-0.11</td> \n",
       "        <td id=\"T_98bc4b8a_9d73_11e9_9c42_d481d7e61e0erow1_col1\" class=\"data row1 col1\" >1</td> \n",
       "    </tr></tbody> \n",
       "</table> "
      ],
      "text/plain": [
       "<pandas.io.formats.style.Styler at 0x1cbd697deb8>"
      ]
     },
     "execution_count": 439,
     "metadata": {},
     "output_type": "execute_result"
    }
   ],
   "source": [
    "import seaborn as sns\n",
    "corr_df = corr_data.corr(method = 'pearson')\n",
    "# mask = np.zeros_like(corr_df)\n",
    "\n",
    "map = cmap=sns.diverging_palette(5, 240, as_cmap=True)\n",
    "corr_df.style.background_gradient(cmap, axis=1).set_properties(**{'max-width': '80px', 'font-size': '10pt'}).set_precision(2)"
   ]
  },
  {
   "cell_type": "code",
   "execution_count": 440,
   "metadata": {},
   "outputs": [
    {
     "data": {
      "text/html": [
       "<div>\n",
       "<style scoped>\n",
       "    .dataframe tbody tr th:only-of-type {\n",
       "        vertical-align: middle;\n",
       "    }\n",
       "\n",
       "    .dataframe tbody tr th {\n",
       "        vertical-align: top;\n",
       "    }\n",
       "\n",
       "    .dataframe thead th {\n",
       "        text-align: right;\n",
       "    }\n",
       "</style>\n",
       "<table border=\"1\" class=\"dataframe\">\n",
       "  <thead>\n",
       "    <tr style=\"text-align: right;\">\n",
       "      <th></th>\n",
       "      <th>CycleSequence</th>\n",
       "      <th>isWon</th>\n",
       "      <th>date_diff</th>\n",
       "      <th>cycles_lasting&gt; 1 week</th>\n",
       "    </tr>\n",
       "  </thead>\n",
       "  <tbody>\n",
       "    <tr>\n",
       "      <th>CycleSequence</th>\n",
       "      <td>1.000000</td>\n",
       "      <td>-0.116451</td>\n",
       "      <td>-0.063622</td>\n",
       "      <td>NaN</td>\n",
       "    </tr>\n",
       "    <tr>\n",
       "      <th>isWon</th>\n",
       "      <td>-0.116451</td>\n",
       "      <td>1.000000</td>\n",
       "      <td>-0.139088</td>\n",
       "      <td>NaN</td>\n",
       "    </tr>\n",
       "    <tr>\n",
       "      <th>date_diff</th>\n",
       "      <td>-0.063622</td>\n",
       "      <td>-0.139088</td>\n",
       "      <td>1.000000</td>\n",
       "      <td>NaN</td>\n",
       "    </tr>\n",
       "    <tr>\n",
       "      <th>cycles_lasting&gt; 1 week</th>\n",
       "      <td>NaN</td>\n",
       "      <td>NaN</td>\n",
       "      <td>NaN</td>\n",
       "      <td>NaN</td>\n",
       "    </tr>\n",
       "  </tbody>\n",
       "</table>\n",
       "</div>"
      ],
      "text/plain": [
       "                        CycleSequence     isWon  date_diff  \\\n",
       "CycleSequence                1.000000 -0.116451  -0.063622   \n",
       "isWon                       -0.116451  1.000000  -0.139088   \n",
       "date_diff                   -0.063622 -0.139088   1.000000   \n",
       "cycles_lasting> 1 week            NaN       NaN        NaN   \n",
       "\n",
       "                        cycles_lasting> 1 week  \n",
       "CycleSequence                              NaN  \n",
       "isWon                                      NaN  \n",
       "date_diff                                  NaN  \n",
       "cycles_lasting> 1 week                     NaN  "
      ]
     },
     "execution_count": 440,
     "metadata": {},
     "output_type": "execute_result"
    }
   ],
   "source": [
    "q5_date_diff_G7.corr(method ='spearman') "
   ]
  },
  {
   "cell_type": "code",
   "execution_count": null,
   "metadata": {},
   "outputs": [],
   "source": []
  },
  {
   "cell_type": "code",
   "execution_count": null,
   "metadata": {},
   "outputs": [],
   "source": []
  },
  {
   "cell_type": "code",
   "execution_count": null,
   "metadata": {},
   "outputs": [],
   "source": []
  },
  {
   "cell_type": "code",
   "execution_count": null,
   "metadata": {},
   "outputs": [],
   "source": [
    "l"
   ]
  },
  {
   "cell_type": "code",
   "execution_count": null,
   "metadata": {},
   "outputs": [],
   "source": []
  },
  {
   "cell_type": "code",
   "execution_count": null,
   "metadata": {},
   "outputs": [],
   "source": []
  },
  {
   "cell_type": "code",
   "execution_count": null,
   "metadata": {},
   "outputs": [],
   "source": []
  },
  {
   "cell_type": "code",
   "execution_count": null,
   "metadata": {},
   "outputs": [],
   "source": []
  },
  {
   "cell_type": "markdown",
   "metadata": {},
   "source": [
    "<h1>Question 4:</h1><br>\n",
    "<b>Objective: </b> What is the projected # of accounts that will open in Q3 of 2019? <br>\n",
    "\n",
    "<h3> Solution</h3>\n",
    "\n"
   ]
  },
  {
   "cell_type": "code",
   "execution_count": 285,
   "metadata": {},
   "outputs": [],
   "source": [
    "import warnings\n",
    "import itertools\n",
    "warnings.filterwarnings(\"ignore\")\n",
    "plt.style.use('fivethirtyeight')\n",
    "import statsmodels.api as sm\n",
    "import matplotlib\n",
    "\n",
    "matplotlib.rcParams['axes.labelsize'] = 14\n",
    "matplotlib.rcParams['xtick.labelsize'] = 12\n",
    "matplotlib.rcParams['ytick.labelsize'] = 12\n",
    "matplotlib.rcParams['text.color'] = 'k'"
   ]
  },
  {
   "cell_type": "code",
   "execution_count": 287,
   "metadata": {},
   "outputs": [
    {
     "name": "stdout",
     "output_type": "stream",
     "text": [
      "(106210, 46)\n"
     ]
    }
   ],
   "source": [
    "print(data.shape)"
   ]
  },
  {
   "cell_type": "code",
   "execution_count": 288,
   "metadata": {},
   "outputs": [
    {
     "data": {
      "text/plain": [
       "(2017, 2019)"
      ]
     },
     "execution_count": 288,
     "metadata": {},
     "output_type": "execute_result"
    }
   ],
   "source": [
    "data['CycleStartYear'].min(), data['CycleStartYear'].max()"
   ]
  },
  {
   "cell_type": "code",
   "execution_count": null,
   "metadata": {},
   "outputs": [],
   "source": []
  },
  {
   "cell_type": "code",
   "execution_count": null,
   "metadata": {},
   "outputs": [],
   "source": []
  },
  {
   "cell_type": "code",
   "execution_count": null,
   "metadata": {},
   "outputs": [],
   "source": []
  },
  {
   "cell_type": "code",
   "execution_count": null,
   "metadata": {},
   "outputs": [],
   "source": []
  },
  {
   "cell_type": "code",
   "execution_count": null,
   "metadata": {},
   "outputs": [],
   "source": []
  },
  {
   "cell_type": "code",
   "execution_count": null,
   "metadata": {},
   "outputs": [],
   "source": []
  },
  {
   "cell_type": "code",
   "execution_count": null,
   "metadata": {},
   "outputs": [],
   "source": []
  },
  {
   "cell_type": "code",
   "execution_count": null,
   "metadata": {},
   "outputs": [],
   "source": []
  },
  {
   "cell_type": "code",
   "execution_count": null,
   "metadata": {},
   "outputs": [],
   "source": []
  },
  {
   "cell_type": "code",
   "execution_count": null,
   "metadata": {},
   "outputs": [],
   "source": []
  },
  {
   "cell_type": "code",
   "execution_count": null,
   "metadata": {},
   "outputs": [],
   "source": []
  },
  {
   "cell_type": "code",
   "execution_count": null,
   "metadata": {},
   "outputs": [],
   "source": []
  },
  {
   "cell_type": "code",
   "execution_count": null,
   "metadata": {},
   "outputs": [],
   "source": []
  },
  {
   "cell_type": "code",
   "execution_count": null,
   "metadata": {},
   "outputs": [],
   "source": []
  },
  {
   "cell_type": "code",
   "execution_count": null,
   "metadata": {},
   "outputs": [],
   "source": []
  },
  {
   "cell_type": "code",
   "execution_count": null,
   "metadata": {},
   "outputs": [],
   "source": []
  },
  {
   "cell_type": "code",
   "execution_count": 2,
   "metadata": {},
   "outputs": [
    {
     "name": "stderr",
     "output_type": "stream",
     "text": [
      "Python 3.6.4 :: Anaconda, Inc.\n"
     ]
    }
   ],
   "source": [
    "!python --version"
   ]
  },
  {
   "cell_type": "markdown",
   "metadata": {},
   "source": [
    "<p> <b>Objective</b><br>\n",
    "    1. Data set of 20 Million rows filtered for 1M rows <br>\n",
    "    2. Filtered for Day= <b>Friday</b>, Volume !=0, and Assessment = <b>Right Data & Missing Data</b><br>\n",
    "    </p>"
   ]
  },
  {
   "cell_type": "code",
   "execution_count": 5,
   "metadata": {},
   "outputs": [],
   "source": [
    "import os\n",
    "import pandas\n",
    "# import pyodbc \n",
    "import impala\n",
    "from impala.dbapi import connect\n",
    "from impala.util import as_pandas\n",
    "\n",
    "# Specify HIVE_HMS_HOST as an environment variable in your project settings\n",
    "HIVE_HMS_HOST = os.getenv('HIVE_HMS_HOST', '192.168.208.128')\n",
    "\n",
    "# This connection string depends on your cluster setup and authentication mechanism\n",
    "conn = connect(host=HIVE_HMS_HOST,\n",
    "               port='10000',\n",
    "               auth_mechanism='PLAIN',\n",
    "               user='cloudera', password='cloudera', database='cdsdq' )\n",
    "cursor = conn.cursor()\n",
    "cursor.execute(\"select * from retailer_missing\")\n",
    "tables = as_pandas(cursor)\n"
   ]
  },
  {
   "cell_type": "code",
   "execution_count": 6,
   "metadata": {},
   "outputs": [
    {
     "data": {
      "text/plain": [
       "26776617"
      ]
     },
     "execution_count": 6,
     "metadata": {},
     "output_type": "execute_result"
    }
   ],
   "source": [
    "import sys\n",
    "data = tables\n",
    "sys.getsizeof(data)"
   ]
  },
  {
   "cell_type": "code",
   "execution_count": 7,
   "metadata": {},
   "outputs": [],
   "source": [
    "data.columns = ['Index','Sale_date','weekday_name','product','assessment','month','weekno','store_number','volume','turnover','turnover_missing']"
   ]
  },
  {
   "cell_type": "code",
   "execution_count": 8,
   "metadata": {},
   "outputs": [],
   "source": [
    "data = data[['Sale_date','weekday_name','product','assessment','month','weekno','store_number','volume','turnover','turnover_missing']]"
   ]
  },
  {
   "cell_type": "code",
   "execution_count": 9,
   "metadata": {},
   "outputs": [
    {
     "name": "stdout",
     "output_type": "stream",
     "text": [
      "(58836, 10)\n"
     ]
    }
   ],
   "source": [
    "first_set = data[data.assessment=='Right Data']\n",
    "print(first_set.shape)"
   ]
  },
  {
   "cell_type": "code",
   "execution_count": 10,
   "metadata": {},
   "outputs": [],
   "source": [
    "import warnings\n",
    "warnings.filterwarnings(\"ignore\")\n",
    "\n",
    "first_set.volume = first_set.volume.astype(float)\n",
    "first_set.turnover = first_set.turnover.astype(float)\n",
    "first_set.turnover_missing = first_set.turnover_missing.astype(float)\n",
    "first_set.weekno = first_set.weekno.astype(int)\n",
    "first_set.month = first_set.month.astype(int)\n",
    "first_set.store_number = first_set.store_number.astype(int)\n",
    "first_set['Sale_date'] =  pd.to_datetime(first_set['Sale_date'])\n",
    "first_set['product'] = pd.DataFrame(first_set['product'])\n",
    "\n",
    "# data['Day'] = pd.to_datetime(data['a sales_date'])\n",
    "# data['weekday_name'] = data['a sales_date'].dt.weekday_name\n",
    "# data['weekday'] =data['a sales_date'].dt.weekday\n",
    "# data['weekno'] =data['a sales_date'].dt.week"
   ]
  },
  {
   "cell_type": "code",
   "execution_count": 11,
   "metadata": {
    "collapsed": true
   },
   "outputs": [
    {
     "data": {
      "text/html": [
       "<div>\n",
       "<style scoped>\n",
       "    .dataframe tbody tr th:only-of-type {\n",
       "        vertical-align: middle;\n",
       "    }\n",
       "\n",
       "    .dataframe tbody tr th {\n",
       "        vertical-align: top;\n",
       "    }\n",
       "\n",
       "    .dataframe thead th {\n",
       "        text-align: right;\n",
       "    }\n",
       "</style>\n",
       "<table border=\"1\" class=\"dataframe\">\n",
       "  <thead>\n",
       "    <tr style=\"text-align: right;\">\n",
       "      <th></th>\n",
       "      <th>Sale_date</th>\n",
       "      <th>weekday_name</th>\n",
       "      <th>product</th>\n",
       "      <th>assessment</th>\n",
       "      <th>month</th>\n",
       "      <th>weekno</th>\n",
       "      <th>store_number</th>\n",
       "      <th>volume</th>\n",
       "      <th>turnover</th>\n",
       "      <th>turnover_missing</th>\n",
       "    </tr>\n",
       "  </thead>\n",
       "  <tbody>\n",
       "    <tr>\n",
       "      <th>0</th>\n",
       "      <td>2017-04-07</td>\n",
       "      <td>Friday</td>\n",
       "      <td>CREST B+S 2PACK 75ML</td>\n",
       "      <td>Right Data</td>\n",
       "      <td>4</td>\n",
       "      <td>14</td>\n",
       "      <td>2732</td>\n",
       "      <td>2.0</td>\n",
       "      <td>48.10</td>\n",
       "      <td>48.10</td>\n",
       "    </tr>\n",
       "    <tr>\n",
       "      <th>1</th>\n",
       "      <td>2017-04-07</td>\n",
       "      <td>Friday</td>\n",
       "      <td>CREST B+S 2PACK 75ML</td>\n",
       "      <td>Right Data</td>\n",
       "      <td>4</td>\n",
       "      <td>14</td>\n",
       "      <td>2768</td>\n",
       "      <td>6.0</td>\n",
       "      <td>149.46</td>\n",
       "      <td>149.46</td>\n",
       "    </tr>\n",
       "    <tr>\n",
       "      <th>2</th>\n",
       "      <td>2017-04-07</td>\n",
       "      <td>Friday</td>\n",
       "      <td>CREST B+S 2PACK 75ML</td>\n",
       "      <td>Right Data</td>\n",
       "      <td>4</td>\n",
       "      <td>14</td>\n",
       "      <td>2839</td>\n",
       "      <td>3.0</td>\n",
       "      <td>72.15</td>\n",
       "      <td>72.15</td>\n",
       "    </tr>\n",
       "    <tr>\n",
       "      <th>3</th>\n",
       "      <td>2017-04-07</td>\n",
       "      <td>Friday</td>\n",
       "      <td>CREST B+S 2PACK 75ML</td>\n",
       "      <td>Right Data</td>\n",
       "      <td>4</td>\n",
       "      <td>14</td>\n",
       "      <td>2840</td>\n",
       "      <td>3.0</td>\n",
       "      <td>72.15</td>\n",
       "      <td>72.15</td>\n",
       "    </tr>\n",
       "    <tr>\n",
       "      <th>4</th>\n",
       "      <td>2017-04-07</td>\n",
       "      <td>Friday</td>\n",
       "      <td>CREST B+S 2PACK 75ML</td>\n",
       "      <td>Right Data</td>\n",
       "      <td>4</td>\n",
       "      <td>14</td>\n",
       "      <td>2947</td>\n",
       "      <td>4.0</td>\n",
       "      <td>96.20</td>\n",
       "      <td>96.20</td>\n",
       "    </tr>\n",
       "    <tr>\n",
       "      <th>5</th>\n",
       "      <td>2017-04-07</td>\n",
       "      <td>Friday</td>\n",
       "      <td>CREST B+S 2PACK 75ML</td>\n",
       "      <td>Right Data</td>\n",
       "      <td>4</td>\n",
       "      <td>14</td>\n",
       "      <td>2996</td>\n",
       "      <td>2.0</td>\n",
       "      <td>49.82</td>\n",
       "      <td>49.82</td>\n",
       "    </tr>\n",
       "    <tr>\n",
       "      <th>6</th>\n",
       "      <td>2017-04-07</td>\n",
       "      <td>Friday</td>\n",
       "      <td>CREST B+S 2PACK 75ML</td>\n",
       "      <td>Right Data</td>\n",
       "      <td>4</td>\n",
       "      <td>14</td>\n",
       "      <td>3023</td>\n",
       "      <td>1.0</td>\n",
       "      <td>24.91</td>\n",
       "      <td>NaN</td>\n",
       "    </tr>\n",
       "    <tr>\n",
       "      <th>7</th>\n",
       "      <td>2017-04-07</td>\n",
       "      <td>Friday</td>\n",
       "      <td>CREST B+S 2PACK 75ML</td>\n",
       "      <td>Right Data</td>\n",
       "      <td>4</td>\n",
       "      <td>14</td>\n",
       "      <td>3047</td>\n",
       "      <td>1.0</td>\n",
       "      <td>24.91</td>\n",
       "      <td>24.91</td>\n",
       "    </tr>\n",
       "    <tr>\n",
       "      <th>8</th>\n",
       "      <td>2017-04-07</td>\n",
       "      <td>Friday</td>\n",
       "      <td>CREST B+S 2PACK 75ML</td>\n",
       "      <td>Right Data</td>\n",
       "      <td>4</td>\n",
       "      <td>14</td>\n",
       "      <td>3143</td>\n",
       "      <td>1.0</td>\n",
       "      <td>24.91</td>\n",
       "      <td>24.91</td>\n",
       "    </tr>\n",
       "    <tr>\n",
       "      <th>9</th>\n",
       "      <td>2017-04-07</td>\n",
       "      <td>Friday</td>\n",
       "      <td>CREST B+S 2PACK 75ML</td>\n",
       "      <td>Right Data</td>\n",
       "      <td>4</td>\n",
       "      <td>14</td>\n",
       "      <td>3167</td>\n",
       "      <td>2.0</td>\n",
       "      <td>49.82</td>\n",
       "      <td>49.82</td>\n",
       "    </tr>\n",
       "    <tr>\n",
       "      <th>10</th>\n",
       "      <td>2017-04-07</td>\n",
       "      <td>Friday</td>\n",
       "      <td>CREST B+S 2PACK 75ML</td>\n",
       "      <td>Right Data</td>\n",
       "      <td>4</td>\n",
       "      <td>14</td>\n",
       "      <td>3238</td>\n",
       "      <td>4.0</td>\n",
       "      <td>99.64</td>\n",
       "      <td>99.64</td>\n",
       "    </tr>\n",
       "    <tr>\n",
       "      <th>11</th>\n",
       "      <td>2017-04-07</td>\n",
       "      <td>Friday</td>\n",
       "      <td>CREST B+S 2PACK 75ML</td>\n",
       "      <td>Right Data</td>\n",
       "      <td>4</td>\n",
       "      <td>14</td>\n",
       "      <td>3358</td>\n",
       "      <td>4.0</td>\n",
       "      <td>96.20</td>\n",
       "      <td>96.20</td>\n",
       "    </tr>\n",
       "    <tr>\n",
       "      <th>12</th>\n",
       "      <td>2017-04-07</td>\n",
       "      <td>Friday</td>\n",
       "      <td>CREST B+S 2PACK 75ML</td>\n",
       "      <td>Right Data</td>\n",
       "      <td>4</td>\n",
       "      <td>14</td>\n",
       "      <td>3442</td>\n",
       "      <td>1.0</td>\n",
       "      <td>24.91</td>\n",
       "      <td>NaN</td>\n",
       "    </tr>\n",
       "    <tr>\n",
       "      <th>13</th>\n",
       "      <td>2017-04-07</td>\n",
       "      <td>Friday</td>\n",
       "      <td>CREST B+S 2PACK 75ML</td>\n",
       "      <td>Right Data</td>\n",
       "      <td>4</td>\n",
       "      <td>14</td>\n",
       "      <td>3549</td>\n",
       "      <td>4.0</td>\n",
       "      <td>99.64</td>\n",
       "      <td>NaN</td>\n",
       "    </tr>\n",
       "    <tr>\n",
       "      <th>14</th>\n",
       "      <td>2017-04-07</td>\n",
       "      <td>Friday</td>\n",
       "      <td>CREST B+S 2PACK 75ML</td>\n",
       "      <td>Right Data</td>\n",
       "      <td>4</td>\n",
       "      <td>14</td>\n",
       "      <td>3586</td>\n",
       "      <td>2.0</td>\n",
       "      <td>48.10</td>\n",
       "      <td>NaN</td>\n",
       "    </tr>\n",
       "    <tr>\n",
       "      <th>15</th>\n",
       "      <td>2017-04-07</td>\n",
       "      <td>Friday</td>\n",
       "      <td>CREST B+S 2PACK 75ML</td>\n",
       "      <td>Right Data</td>\n",
       "      <td>4</td>\n",
       "      <td>14</td>\n",
       "      <td>3669</td>\n",
       "      <td>6.0</td>\n",
       "      <td>149.46</td>\n",
       "      <td>NaN</td>\n",
       "    </tr>\n",
       "    <tr>\n",
       "      <th>16</th>\n",
       "      <td>2017-04-07</td>\n",
       "      <td>Friday</td>\n",
       "      <td>CREST B+S 2PACK 75ML</td>\n",
       "      <td>Right Data</td>\n",
       "      <td>4</td>\n",
       "      <td>14</td>\n",
       "      <td>3670</td>\n",
       "      <td>1.0</td>\n",
       "      <td>24.91</td>\n",
       "      <td>NaN</td>\n",
       "    </tr>\n",
       "    <tr>\n",
       "      <th>17</th>\n",
       "      <td>2017-04-07</td>\n",
       "      <td>Friday</td>\n",
       "      <td>CREST B+S 2PACK 75ML</td>\n",
       "      <td>Right Data</td>\n",
       "      <td>4</td>\n",
       "      <td>14</td>\n",
       "      <td>3716</td>\n",
       "      <td>5.0</td>\n",
       "      <td>124.55</td>\n",
       "      <td>NaN</td>\n",
       "    </tr>\n",
       "    <tr>\n",
       "      <th>18</th>\n",
       "      <td>2017-04-07</td>\n",
       "      <td>Friday</td>\n",
       "      <td>CREST B+S 2PACK 75ML</td>\n",
       "      <td>Right Data</td>\n",
       "      <td>4</td>\n",
       "      <td>14</td>\n",
       "      <td>3753</td>\n",
       "      <td>7.0</td>\n",
       "      <td>174.37</td>\n",
       "      <td>174.37</td>\n",
       "    </tr>\n",
       "    <tr>\n",
       "      <th>19</th>\n",
       "      <td>2017-04-07</td>\n",
       "      <td>Friday</td>\n",
       "      <td>CREST B+S 2PACK 75ML</td>\n",
       "      <td>Right Data</td>\n",
       "      <td>4</td>\n",
       "      <td>14</td>\n",
       "      <td>3765</td>\n",
       "      <td>1.0</td>\n",
       "      <td>24.91</td>\n",
       "      <td>24.91</td>\n",
       "    </tr>\n",
       "    <tr>\n",
       "      <th>20</th>\n",
       "      <td>2017-04-07</td>\n",
       "      <td>Friday</td>\n",
       "      <td>CREST B+S 2PACK 75ML</td>\n",
       "      <td>Right Data</td>\n",
       "      <td>4</td>\n",
       "      <td>14</td>\n",
       "      <td>3790</td>\n",
       "      <td>1.0</td>\n",
       "      <td>24.05</td>\n",
       "      <td>24.05</td>\n",
       "    </tr>\n",
       "    <tr>\n",
       "      <th>21</th>\n",
       "      <td>2017-04-07</td>\n",
       "      <td>Friday</td>\n",
       "      <td>CREST B+S 2PACK 75ML</td>\n",
       "      <td>Right Data</td>\n",
       "      <td>4</td>\n",
       "      <td>14</td>\n",
       "      <td>3800</td>\n",
       "      <td>3.0</td>\n",
       "      <td>72.15</td>\n",
       "      <td>72.15</td>\n",
       "    </tr>\n",
       "    <tr>\n",
       "      <th>22</th>\n",
       "      <td>2017-04-07</td>\n",
       "      <td>Friday</td>\n",
       "      <td>CREST B+S 2PACK 75ML</td>\n",
       "      <td>Right Data</td>\n",
       "      <td>4</td>\n",
       "      <td>14</td>\n",
       "      <td>3848</td>\n",
       "      <td>2.0</td>\n",
       "      <td>48.10</td>\n",
       "      <td>48.10</td>\n",
       "    </tr>\n",
       "    <tr>\n",
       "      <th>23</th>\n",
       "      <td>2017-04-07</td>\n",
       "      <td>Friday</td>\n",
       "      <td>CREST B+S 2PACK 75ML</td>\n",
       "      <td>Right Data</td>\n",
       "      <td>4</td>\n",
       "      <td>14</td>\n",
       "      <td>3861</td>\n",
       "      <td>3.0</td>\n",
       "      <td>72.15</td>\n",
       "      <td>72.15</td>\n",
       "    </tr>\n",
       "    <tr>\n",
       "      <th>24</th>\n",
       "      <td>2017-04-07</td>\n",
       "      <td>Friday</td>\n",
       "      <td>CREST B+S 2PACK 75ML</td>\n",
       "      <td>Right Data</td>\n",
       "      <td>4</td>\n",
       "      <td>14</td>\n",
       "      <td>3907</td>\n",
       "      <td>3.0</td>\n",
       "      <td>74.73</td>\n",
       "      <td>74.73</td>\n",
       "    </tr>\n",
       "    <tr>\n",
       "      <th>25</th>\n",
       "      <td>2017-04-07</td>\n",
       "      <td>Friday</td>\n",
       "      <td>CREST B+S 2PACK 75ML</td>\n",
       "      <td>Right Data</td>\n",
       "      <td>4</td>\n",
       "      <td>14</td>\n",
       "      <td>3919</td>\n",
       "      <td>5.0</td>\n",
       "      <td>124.55</td>\n",
       "      <td>124.55</td>\n",
       "    </tr>\n",
       "    <tr>\n",
       "      <th>26</th>\n",
       "      <td>2017-04-07</td>\n",
       "      <td>Friday</td>\n",
       "      <td>CREST B+S 2PACK 75ML</td>\n",
       "      <td>Right Data</td>\n",
       "      <td>4</td>\n",
       "      <td>14</td>\n",
       "      <td>3920</td>\n",
       "      <td>2.0</td>\n",
       "      <td>49.82</td>\n",
       "      <td>49.82</td>\n",
       "    </tr>\n",
       "    <tr>\n",
       "      <th>27</th>\n",
       "      <td>2017-04-07</td>\n",
       "      <td>Friday</td>\n",
       "      <td>CREST B+S 2PACK 75ML</td>\n",
       "      <td>Right Data</td>\n",
       "      <td>4</td>\n",
       "      <td>14</td>\n",
       "      <td>3956</td>\n",
       "      <td>3.0</td>\n",
       "      <td>72.15</td>\n",
       "      <td>72.15</td>\n",
       "    </tr>\n",
       "    <tr>\n",
       "      <th>28</th>\n",
       "      <td>2017-04-07</td>\n",
       "      <td>Friday</td>\n",
       "      <td>CREST B+S 2PACK 75ML</td>\n",
       "      <td>Right Data</td>\n",
       "      <td>4</td>\n",
       "      <td>14</td>\n",
       "      <td>4044</td>\n",
       "      <td>2.0</td>\n",
       "      <td>49.82</td>\n",
       "      <td>49.82</td>\n",
       "    </tr>\n",
       "    <tr>\n",
       "      <th>29</th>\n",
       "      <td>2017-04-07</td>\n",
       "      <td>Friday</td>\n",
       "      <td>CREST B+S 2PACK 75ML</td>\n",
       "      <td>Right Data</td>\n",
       "      <td>4</td>\n",
       "      <td>14</td>\n",
       "      <td>4068</td>\n",
       "      <td>3.0</td>\n",
       "      <td>74.73</td>\n",
       "      <td>74.73</td>\n",
       "    </tr>\n",
       "    <tr>\n",
       "      <th>...</th>\n",
       "      <td>...</td>\n",
       "      <td>...</td>\n",
       "      <td>...</td>\n",
       "      <td>...</td>\n",
       "      <td>...</td>\n",
       "      <td>...</td>\n",
       "      <td>...</td>\n",
       "      <td>...</td>\n",
       "      <td>...</td>\n",
       "      <td>...</td>\n",
       "    </tr>\n",
       "    <tr>\n",
       "      <th>58806</th>\n",
       "      <td>2017-05-05</td>\n",
       "      <td>Friday</td>\n",
       "      <td>VENUS RASU SING ROSA</td>\n",
       "      <td>Right Data</td>\n",
       "      <td>4</td>\n",
       "      <td>18</td>\n",
       "      <td>3069</td>\n",
       "      <td>3.0</td>\n",
       "      <td>113.79</td>\n",
       "      <td>113.79</td>\n",
       "    </tr>\n",
       "    <tr>\n",
       "      <th>58807</th>\n",
       "      <td>2017-05-05</td>\n",
       "      <td>Friday</td>\n",
       "      <td>VENUS RASU SING ROSA</td>\n",
       "      <td>Right Data</td>\n",
       "      <td>4</td>\n",
       "      <td>18</td>\n",
       "      <td>3356</td>\n",
       "      <td>1.0</td>\n",
       "      <td>37.93</td>\n",
       "      <td>37.93</td>\n",
       "    </tr>\n",
       "    <tr>\n",
       "      <th>58808</th>\n",
       "      <td>2017-05-05</td>\n",
       "      <td>Friday</td>\n",
       "      <td>VENUS RASU SING ROSA</td>\n",
       "      <td>Right Data</td>\n",
       "      <td>4</td>\n",
       "      <td>18</td>\n",
       "      <td>3523</td>\n",
       "      <td>1.0</td>\n",
       "      <td>36.21</td>\n",
       "      <td>36.21</td>\n",
       "    </tr>\n",
       "    <tr>\n",
       "      <th>58809</th>\n",
       "      <td>2017-05-05</td>\n",
       "      <td>Friday</td>\n",
       "      <td>VENUS RASU SING ROSA</td>\n",
       "      <td>Right Data</td>\n",
       "      <td>4</td>\n",
       "      <td>18</td>\n",
       "      <td>3547</td>\n",
       "      <td>1.0</td>\n",
       "      <td>36.21</td>\n",
       "      <td>36.21</td>\n",
       "    </tr>\n",
       "    <tr>\n",
       "      <th>58810</th>\n",
       "      <td>2017-05-05</td>\n",
       "      <td>Friday</td>\n",
       "      <td>VENUS RASU SING ROSA</td>\n",
       "      <td>Right Data</td>\n",
       "      <td>4</td>\n",
       "      <td>18</td>\n",
       "      <td>3560</td>\n",
       "      <td>2.0</td>\n",
       "      <td>72.42</td>\n",
       "      <td>72.42</td>\n",
       "    </tr>\n",
       "    <tr>\n",
       "      <th>58811</th>\n",
       "      <td>2017-05-05</td>\n",
       "      <td>Friday</td>\n",
       "      <td>VENUS RASU SING ROSA</td>\n",
       "      <td>Right Data</td>\n",
       "      <td>4</td>\n",
       "      <td>18</td>\n",
       "      <td>3631</td>\n",
       "      <td>1.0</td>\n",
       "      <td>37.93</td>\n",
       "      <td>37.93</td>\n",
       "    </tr>\n",
       "    <tr>\n",
       "      <th>58812</th>\n",
       "      <td>2017-05-05</td>\n",
       "      <td>Friday</td>\n",
       "      <td>VENUS RASU SING ROSA</td>\n",
       "      <td>Right Data</td>\n",
       "      <td>4</td>\n",
       "      <td>18</td>\n",
       "      <td>3751</td>\n",
       "      <td>2.0</td>\n",
       "      <td>72.42</td>\n",
       "      <td>72.42</td>\n",
       "    </tr>\n",
       "    <tr>\n",
       "      <th>58813</th>\n",
       "      <td>2017-05-05</td>\n",
       "      <td>Friday</td>\n",
       "      <td>VENUS RASU SING ROSA</td>\n",
       "      <td>Right Data</td>\n",
       "      <td>4</td>\n",
       "      <td>18</td>\n",
       "      <td>3763</td>\n",
       "      <td>3.0</td>\n",
       "      <td>108.63</td>\n",
       "      <td>108.63</td>\n",
       "    </tr>\n",
       "    <tr>\n",
       "      <th>58814</th>\n",
       "      <td>2017-05-05</td>\n",
       "      <td>Friday</td>\n",
       "      <td>VENUS RASU SING ROSA</td>\n",
       "      <td>Right Data</td>\n",
       "      <td>4</td>\n",
       "      <td>18</td>\n",
       "      <td>3775</td>\n",
       "      <td>2.0</td>\n",
       "      <td>72.42</td>\n",
       "      <td>72.42</td>\n",
       "    </tr>\n",
       "    <tr>\n",
       "      <th>58815</th>\n",
       "      <td>2017-05-05</td>\n",
       "      <td>Friday</td>\n",
       "      <td>VENUS RASU SING ROSA</td>\n",
       "      <td>Right Data</td>\n",
       "      <td>4</td>\n",
       "      <td>18</td>\n",
       "      <td>3787</td>\n",
       "      <td>2.0</td>\n",
       "      <td>72.42</td>\n",
       "      <td>72.42</td>\n",
       "    </tr>\n",
       "    <tr>\n",
       "      <th>58816</th>\n",
       "      <td>2017-05-05</td>\n",
       "      <td>Friday</td>\n",
       "      <td>VENUS RASU SING ROSA</td>\n",
       "      <td>Right Data</td>\n",
       "      <td>4</td>\n",
       "      <td>18</td>\n",
       "      <td>3799</td>\n",
       "      <td>3.0</td>\n",
       "      <td>108.63</td>\n",
       "      <td>108.63</td>\n",
       "    </tr>\n",
       "    <tr>\n",
       "      <th>58817</th>\n",
       "      <td>2017-05-05</td>\n",
       "      <td>Friday</td>\n",
       "      <td>VENUS RASU SING ROSA</td>\n",
       "      <td>Right Data</td>\n",
       "      <td>4</td>\n",
       "      <td>18</td>\n",
       "      <td>3846</td>\n",
       "      <td>2.0</td>\n",
       "      <td>75.86</td>\n",
       "      <td>75.86</td>\n",
       "    </tr>\n",
       "    <tr>\n",
       "      <th>58818</th>\n",
       "      <td>2017-05-05</td>\n",
       "      <td>Friday</td>\n",
       "      <td>VENUS RASU SING ROSA</td>\n",
       "      <td>Right Data</td>\n",
       "      <td>4</td>\n",
       "      <td>18</td>\n",
       "      <td>3858</td>\n",
       "      <td>3.0</td>\n",
       "      <td>113.79</td>\n",
       "      <td>113.79</td>\n",
       "    </tr>\n",
       "    <tr>\n",
       "      <th>58819</th>\n",
       "      <td>2017-05-05</td>\n",
       "      <td>Friday</td>\n",
       "      <td>VENUS RASU SING ROSA</td>\n",
       "      <td>Right Data</td>\n",
       "      <td>4</td>\n",
       "      <td>18</td>\n",
       "      <td>3871</td>\n",
       "      <td>1.0</td>\n",
       "      <td>36.21</td>\n",
       "      <td>36.21</td>\n",
       "    </tr>\n",
       "    <tr>\n",
       "      <th>58820</th>\n",
       "      <td>2017-05-05</td>\n",
       "      <td>Friday</td>\n",
       "      <td>VENUS RASU SING ROSA</td>\n",
       "      <td>Right Data</td>\n",
       "      <td>4</td>\n",
       "      <td>18</td>\n",
       "      <td>3883</td>\n",
       "      <td>1.0</td>\n",
       "      <td>36.21</td>\n",
       "      <td>36.21</td>\n",
       "    </tr>\n",
       "    <tr>\n",
       "      <th>58821</th>\n",
       "      <td>2017-05-05</td>\n",
       "      <td>Friday</td>\n",
       "      <td>VENUS RASU SING ROSA</td>\n",
       "      <td>Right Data</td>\n",
       "      <td>4</td>\n",
       "      <td>18</td>\n",
       "      <td>3895</td>\n",
       "      <td>2.0</td>\n",
       "      <td>75.86</td>\n",
       "      <td>75.86</td>\n",
       "    </tr>\n",
       "    <tr>\n",
       "      <th>58822</th>\n",
       "      <td>2017-05-05</td>\n",
       "      <td>Friday</td>\n",
       "      <td>VENUS RASU SING ROSA</td>\n",
       "      <td>Right Data</td>\n",
       "      <td>4</td>\n",
       "      <td>18</td>\n",
       "      <td>3929</td>\n",
       "      <td>3.0</td>\n",
       "      <td>113.79</td>\n",
       "      <td>113.79</td>\n",
       "    </tr>\n",
       "    <tr>\n",
       "      <th>58823</th>\n",
       "      <td>2017-05-05</td>\n",
       "      <td>Friday</td>\n",
       "      <td>VENUS RASU SING ROSA</td>\n",
       "      <td>Right Data</td>\n",
       "      <td>4</td>\n",
       "      <td>18</td>\n",
       "      <td>3930</td>\n",
       "      <td>1.0</td>\n",
       "      <td>36.21</td>\n",
       "      <td>36.21</td>\n",
       "    </tr>\n",
       "    <tr>\n",
       "      <th>58824</th>\n",
       "      <td>2017-05-05</td>\n",
       "      <td>Friday</td>\n",
       "      <td>VENUS RASU SING ROSA</td>\n",
       "      <td>Right Data</td>\n",
       "      <td>4</td>\n",
       "      <td>18</td>\n",
       "      <td>4113</td>\n",
       "      <td>2.0</td>\n",
       "      <td>72.42</td>\n",
       "      <td>72.42</td>\n",
       "    </tr>\n",
       "    <tr>\n",
       "      <th>58825</th>\n",
       "      <td>2017-05-05</td>\n",
       "      <td>Friday</td>\n",
       "      <td>VENUS RASU SING ROSA</td>\n",
       "      <td>Right Data</td>\n",
       "      <td>4</td>\n",
       "      <td>18</td>\n",
       "      <td>4125</td>\n",
       "      <td>1.0</td>\n",
       "      <td>36.21</td>\n",
       "      <td>NaN</td>\n",
       "    </tr>\n",
       "    <tr>\n",
       "      <th>58826</th>\n",
       "      <td>2017-05-05</td>\n",
       "      <td>Friday</td>\n",
       "      <td>VENUS RASU SING ROSA</td>\n",
       "      <td>Right Data</td>\n",
       "      <td>4</td>\n",
       "      <td>18</td>\n",
       "      <td>4137</td>\n",
       "      <td>1.0</td>\n",
       "      <td>37.93</td>\n",
       "      <td>37.93</td>\n",
       "    </tr>\n",
       "    <tr>\n",
       "      <th>58827</th>\n",
       "      <td>2017-05-05</td>\n",
       "      <td>Friday</td>\n",
       "      <td>VENUS RASU SING ROSA</td>\n",
       "      <td>Right Data</td>\n",
       "      <td>4</td>\n",
       "      <td>18</td>\n",
       "      <td>4162</td>\n",
       "      <td>1.0</td>\n",
       "      <td>36.21</td>\n",
       "      <td>36.21</td>\n",
       "    </tr>\n",
       "    <tr>\n",
       "      <th>58828</th>\n",
       "      <td>2017-05-05</td>\n",
       "      <td>Friday</td>\n",
       "      <td>VENUS RASU SING ROSA</td>\n",
       "      <td>Right Data</td>\n",
       "      <td>4</td>\n",
       "      <td>18</td>\n",
       "      <td>5469</td>\n",
       "      <td>1.0</td>\n",
       "      <td>37.93</td>\n",
       "      <td>37.93</td>\n",
       "    </tr>\n",
       "    <tr>\n",
       "      <th>58829</th>\n",
       "      <td>2017-05-05</td>\n",
       "      <td>Friday</td>\n",
       "      <td>VENUS RASU SING ROSA</td>\n",
       "      <td>Right Data</td>\n",
       "      <td>4</td>\n",
       "      <td>18</td>\n",
       "      <td>5624</td>\n",
       "      <td>1.0</td>\n",
       "      <td>36.21</td>\n",
       "      <td>36.21</td>\n",
       "    </tr>\n",
       "    <tr>\n",
       "      <th>58830</th>\n",
       "      <td>2017-05-05</td>\n",
       "      <td>Friday</td>\n",
       "      <td>VENUS RASU SING ROSA</td>\n",
       "      <td>Right Data</td>\n",
       "      <td>4</td>\n",
       "      <td>18</td>\n",
       "      <td>5827</td>\n",
       "      <td>2.0</td>\n",
       "      <td>72.42</td>\n",
       "      <td>72.42</td>\n",
       "    </tr>\n",
       "    <tr>\n",
       "      <th>58831</th>\n",
       "      <td>2017-05-05</td>\n",
       "      <td>Friday</td>\n",
       "      <td>WHITESTRIPS ADVANCE</td>\n",
       "      <td>Right Data</td>\n",
       "      <td>4</td>\n",
       "      <td>18</td>\n",
       "      <td>1724</td>\n",
       "      <td>1.0</td>\n",
       "      <td>118.97</td>\n",
       "      <td>118.97</td>\n",
       "    </tr>\n",
       "    <tr>\n",
       "      <th>58832</th>\n",
       "      <td>2017-05-05</td>\n",
       "      <td>Friday</td>\n",
       "      <td>XREF03022017</td>\n",
       "      <td>Right Data</td>\n",
       "      <td>4</td>\n",
       "      <td>18</td>\n",
       "      <td>1411</td>\n",
       "      <td>1.0</td>\n",
       "      <td>43.10</td>\n",
       "      <td>43.10</td>\n",
       "    </tr>\n",
       "    <tr>\n",
       "      <th>58833</th>\n",
       "      <td>2017-05-05</td>\n",
       "      <td>Friday</td>\n",
       "      <td>XREF03022017</td>\n",
       "      <td>Right Data</td>\n",
       "      <td>4</td>\n",
       "      <td>18</td>\n",
       "      <td>1423</td>\n",
       "      <td>4.0</td>\n",
       "      <td>175.86</td>\n",
       "      <td>175.86</td>\n",
       "    </tr>\n",
       "    <tr>\n",
       "      <th>58834</th>\n",
       "      <td>2017-05-05</td>\n",
       "      <td>Friday</td>\n",
       "      <td>XREF03022017</td>\n",
       "      <td>Right Data</td>\n",
       "      <td>4</td>\n",
       "      <td>18</td>\n",
       "      <td>2731</td>\n",
       "      <td>1.0</td>\n",
       "      <td>44.83</td>\n",
       "      <td>44.83</td>\n",
       "    </tr>\n",
       "    <tr>\n",
       "      <th>58835</th>\n",
       "      <td>2017-05-05</td>\n",
       "      <td>Friday</td>\n",
       "      <td>XREF03022017</td>\n",
       "      <td>Right Data</td>\n",
       "      <td>4</td>\n",
       "      <td>18</td>\n",
       "      <td>2946</td>\n",
       "      <td>1.0</td>\n",
       "      <td>43.10</td>\n",
       "      <td>43.10</td>\n",
       "    </tr>\n",
       "  </tbody>\n",
       "</table>\n",
       "<p>58836 rows × 10 columns</p>\n",
       "</div>"
      ],
      "text/plain": [
       "       Sale_date weekday_name               product  assessment  month  \\\n",
       "0     2017-04-07       Friday  CREST B+S 2PACK 75ML  Right Data      4   \n",
       "1     2017-04-07       Friday  CREST B+S 2PACK 75ML  Right Data      4   \n",
       "2     2017-04-07       Friday  CREST B+S 2PACK 75ML  Right Data      4   \n",
       "3     2017-04-07       Friday  CREST B+S 2PACK 75ML  Right Data      4   \n",
       "4     2017-04-07       Friday  CREST B+S 2PACK 75ML  Right Data      4   \n",
       "5     2017-04-07       Friday  CREST B+S 2PACK 75ML  Right Data      4   \n",
       "6     2017-04-07       Friday  CREST B+S 2PACK 75ML  Right Data      4   \n",
       "7     2017-04-07       Friday  CREST B+S 2PACK 75ML  Right Data      4   \n",
       "8     2017-04-07       Friday  CREST B+S 2PACK 75ML  Right Data      4   \n",
       "9     2017-04-07       Friday  CREST B+S 2PACK 75ML  Right Data      4   \n",
       "10    2017-04-07       Friday  CREST B+S 2PACK 75ML  Right Data      4   \n",
       "11    2017-04-07       Friday  CREST B+S 2PACK 75ML  Right Data      4   \n",
       "12    2017-04-07       Friday  CREST B+S 2PACK 75ML  Right Data      4   \n",
       "13    2017-04-07       Friday  CREST B+S 2PACK 75ML  Right Data      4   \n",
       "14    2017-04-07       Friday  CREST B+S 2PACK 75ML  Right Data      4   \n",
       "15    2017-04-07       Friday  CREST B+S 2PACK 75ML  Right Data      4   \n",
       "16    2017-04-07       Friday  CREST B+S 2PACK 75ML  Right Data      4   \n",
       "17    2017-04-07       Friday  CREST B+S 2PACK 75ML  Right Data      4   \n",
       "18    2017-04-07       Friday  CREST B+S 2PACK 75ML  Right Data      4   \n",
       "19    2017-04-07       Friday  CREST B+S 2PACK 75ML  Right Data      4   \n",
       "20    2017-04-07       Friday  CREST B+S 2PACK 75ML  Right Data      4   \n",
       "21    2017-04-07       Friday  CREST B+S 2PACK 75ML  Right Data      4   \n",
       "22    2017-04-07       Friday  CREST B+S 2PACK 75ML  Right Data      4   \n",
       "23    2017-04-07       Friday  CREST B+S 2PACK 75ML  Right Data      4   \n",
       "24    2017-04-07       Friday  CREST B+S 2PACK 75ML  Right Data      4   \n",
       "25    2017-04-07       Friday  CREST B+S 2PACK 75ML  Right Data      4   \n",
       "26    2017-04-07       Friday  CREST B+S 2PACK 75ML  Right Data      4   \n",
       "27    2017-04-07       Friday  CREST B+S 2PACK 75ML  Right Data      4   \n",
       "28    2017-04-07       Friday  CREST B+S 2PACK 75ML  Right Data      4   \n",
       "29    2017-04-07       Friday  CREST B+S 2PACK 75ML  Right Data      4   \n",
       "...          ...          ...                   ...         ...    ...   \n",
       "58806 2017-05-05       Friday  VENUS RASU SING ROSA  Right Data      4   \n",
       "58807 2017-05-05       Friday  VENUS RASU SING ROSA  Right Data      4   \n",
       "58808 2017-05-05       Friday  VENUS RASU SING ROSA  Right Data      4   \n",
       "58809 2017-05-05       Friday  VENUS RASU SING ROSA  Right Data      4   \n",
       "58810 2017-05-05       Friday  VENUS RASU SING ROSA  Right Data      4   \n",
       "58811 2017-05-05       Friday  VENUS RASU SING ROSA  Right Data      4   \n",
       "58812 2017-05-05       Friday  VENUS RASU SING ROSA  Right Data      4   \n",
       "58813 2017-05-05       Friday  VENUS RASU SING ROSA  Right Data      4   \n",
       "58814 2017-05-05       Friday  VENUS RASU SING ROSA  Right Data      4   \n",
       "58815 2017-05-05       Friday  VENUS RASU SING ROSA  Right Data      4   \n",
       "58816 2017-05-05       Friday  VENUS RASU SING ROSA  Right Data      4   \n",
       "58817 2017-05-05       Friday  VENUS RASU SING ROSA  Right Data      4   \n",
       "58818 2017-05-05       Friday  VENUS RASU SING ROSA  Right Data      4   \n",
       "58819 2017-05-05       Friday  VENUS RASU SING ROSA  Right Data      4   \n",
       "58820 2017-05-05       Friday  VENUS RASU SING ROSA  Right Data      4   \n",
       "58821 2017-05-05       Friday  VENUS RASU SING ROSA  Right Data      4   \n",
       "58822 2017-05-05       Friday  VENUS RASU SING ROSA  Right Data      4   \n",
       "58823 2017-05-05       Friday  VENUS RASU SING ROSA  Right Data      4   \n",
       "58824 2017-05-05       Friday  VENUS RASU SING ROSA  Right Data      4   \n",
       "58825 2017-05-05       Friday  VENUS RASU SING ROSA  Right Data      4   \n",
       "58826 2017-05-05       Friday  VENUS RASU SING ROSA  Right Data      4   \n",
       "58827 2017-05-05       Friday  VENUS RASU SING ROSA  Right Data      4   \n",
       "58828 2017-05-05       Friday  VENUS RASU SING ROSA  Right Data      4   \n",
       "58829 2017-05-05       Friday  VENUS RASU SING ROSA  Right Data      4   \n",
       "58830 2017-05-05       Friday  VENUS RASU SING ROSA  Right Data      4   \n",
       "58831 2017-05-05       Friday   WHITESTRIPS ADVANCE  Right Data      4   \n",
       "58832 2017-05-05       Friday          XREF03022017  Right Data      4   \n",
       "58833 2017-05-05       Friday          XREF03022017  Right Data      4   \n",
       "58834 2017-05-05       Friday          XREF03022017  Right Data      4   \n",
       "58835 2017-05-05       Friday          XREF03022017  Right Data      4   \n",
       "\n",
       "       weekno  store_number  volume  turnover  turnover_missing  \n",
       "0          14          2732     2.0     48.10             48.10  \n",
       "1          14          2768     6.0    149.46            149.46  \n",
       "2          14          2839     3.0     72.15             72.15  \n",
       "3          14          2840     3.0     72.15             72.15  \n",
       "4          14          2947     4.0     96.20             96.20  \n",
       "5          14          2996     2.0     49.82             49.82  \n",
       "6          14          3023     1.0     24.91               NaN  \n",
       "7          14          3047     1.0     24.91             24.91  \n",
       "8          14          3143     1.0     24.91             24.91  \n",
       "9          14          3167     2.0     49.82             49.82  \n",
       "10         14          3238     4.0     99.64             99.64  \n",
       "11         14          3358     4.0     96.20             96.20  \n",
       "12         14          3442     1.0     24.91               NaN  \n",
       "13         14          3549     4.0     99.64               NaN  \n",
       "14         14          3586     2.0     48.10               NaN  \n",
       "15         14          3669     6.0    149.46               NaN  \n",
       "16         14          3670     1.0     24.91               NaN  \n",
       "17         14          3716     5.0    124.55               NaN  \n",
       "18         14          3753     7.0    174.37            174.37  \n",
       "19         14          3765     1.0     24.91             24.91  \n",
       "20         14          3790     1.0     24.05             24.05  \n",
       "21         14          3800     3.0     72.15             72.15  \n",
       "22         14          3848     2.0     48.10             48.10  \n",
       "23         14          3861     3.0     72.15             72.15  \n",
       "24         14          3907     3.0     74.73             74.73  \n",
       "25         14          3919     5.0    124.55            124.55  \n",
       "26         14          3920     2.0     49.82             49.82  \n",
       "27         14          3956     3.0     72.15             72.15  \n",
       "28         14          4044     2.0     49.82             49.82  \n",
       "29         14          4068     3.0     74.73             74.73  \n",
       "...       ...           ...     ...       ...               ...  \n",
       "58806      18          3069     3.0    113.79            113.79  \n",
       "58807      18          3356     1.0     37.93             37.93  \n",
       "58808      18          3523     1.0     36.21             36.21  \n",
       "58809      18          3547     1.0     36.21             36.21  \n",
       "58810      18          3560     2.0     72.42             72.42  \n",
       "58811      18          3631     1.0     37.93             37.93  \n",
       "58812      18          3751     2.0     72.42             72.42  \n",
       "58813      18          3763     3.0    108.63            108.63  \n",
       "58814      18          3775     2.0     72.42             72.42  \n",
       "58815      18          3787     2.0     72.42             72.42  \n",
       "58816      18          3799     3.0    108.63            108.63  \n",
       "58817      18          3846     2.0     75.86             75.86  \n",
       "58818      18          3858     3.0    113.79            113.79  \n",
       "58819      18          3871     1.0     36.21             36.21  \n",
       "58820      18          3883     1.0     36.21             36.21  \n",
       "58821      18          3895     2.0     75.86             75.86  \n",
       "58822      18          3929     3.0    113.79            113.79  \n",
       "58823      18          3930     1.0     36.21             36.21  \n",
       "58824      18          4113     2.0     72.42             72.42  \n",
       "58825      18          4125     1.0     36.21               NaN  \n",
       "58826      18          4137     1.0     37.93             37.93  \n",
       "58827      18          4162     1.0     36.21             36.21  \n",
       "58828      18          5469     1.0     37.93             37.93  \n",
       "58829      18          5624     1.0     36.21             36.21  \n",
       "58830      18          5827     2.0     72.42             72.42  \n",
       "58831      18          1724     1.0    118.97            118.97  \n",
       "58832      18          1411     1.0     43.10             43.10  \n",
       "58833      18          1423     4.0    175.86            175.86  \n",
       "58834      18          2731     1.0     44.83             44.83  \n",
       "58835      18          2946     1.0     43.10             43.10  \n",
       "\n",
       "[58836 rows x 10 columns]"
      ]
     },
     "execution_count": 11,
     "metadata": {},
     "output_type": "execute_result"
    }
   ],
   "source": [
    "first_set.head()"
   ]
  },
  {
   "cell_type": "code",
   "execution_count": 12,
   "metadata": {},
   "outputs": [
    {
     "data": {
      "text/plain": [
       "575"
      ]
     },
     "execution_count": 12,
     "metadata": {},
     "output_type": "execute_result"
    }
   ],
   "source": [
    "len(np.unique(first_set['product']))"
   ]
  },
  {
   "cell_type": "code",
   "execution_count": 13,
   "metadata": {},
   "outputs": [
    {
     "data": {
      "text/html": [
       "<div>\n",
       "<style scoped>\n",
       "    .dataframe tbody tr th:only-of-type {\n",
       "        vertical-align: middle;\n",
       "    }\n",
       "\n",
       "    .dataframe tbody tr th {\n",
       "        vertical-align: top;\n",
       "    }\n",
       "\n",
       "    .dataframe thead th {\n",
       "        text-align: right;\n",
       "    }\n",
       "</style>\n",
       "<table border=\"1\" class=\"dataframe\">\n",
       "  <thead>\n",
       "    <tr style=\"text-align: right;\">\n",
       "      <th></th>\n",
       "      <th>month</th>\n",
       "      <th>weekno</th>\n",
       "      <th>store_number</th>\n",
       "      <th>volume</th>\n",
       "      <th>turnover</th>\n",
       "      <th>turnover_missing</th>\n",
       "    </tr>\n",
       "  </thead>\n",
       "  <tbody>\n",
       "    <tr>\n",
       "      <th>count</th>\n",
       "      <td>58836.0</td>\n",
       "      <td>58836.000000</td>\n",
       "      <td>58836.000000</td>\n",
       "      <td>58836.000000</td>\n",
       "      <td>58836.000000</td>\n",
       "      <td>58816.000000</td>\n",
       "    </tr>\n",
       "    <tr>\n",
       "      <th>mean</th>\n",
       "      <td>4.0</td>\n",
       "      <td>15.776837</td>\n",
       "      <td>2926.835016</td>\n",
       "      <td>4.238205</td>\n",
       "      <td>121.309352</td>\n",
       "      <td>121.320219</td>\n",
       "    </tr>\n",
       "    <tr>\n",
       "      <th>std</th>\n",
       "      <td>0.0</td>\n",
       "      <td>1.461136</td>\n",
       "      <td>1239.128888</td>\n",
       "      <td>11.273705</td>\n",
       "      <td>216.870703</td>\n",
       "      <td>216.904153</td>\n",
       "    </tr>\n",
       "    <tr>\n",
       "      <th>min</th>\n",
       "      <td>4.0</td>\n",
       "      <td>14.000000</td>\n",
       "      <td>58.000000</td>\n",
       "      <td>-2.000000</td>\n",
       "      <td>-187.940000</td>\n",
       "      <td>-187.940000</td>\n",
       "    </tr>\n",
       "    <tr>\n",
       "      <th>25%</th>\n",
       "      <td>4.0</td>\n",
       "      <td>15.000000</td>\n",
       "      <td>1892.000000</td>\n",
       "      <td>1.000000</td>\n",
       "      <td>34.400000</td>\n",
       "      <td>34.400000</td>\n",
       "    </tr>\n",
       "    <tr>\n",
       "      <th>50%</th>\n",
       "      <td>4.0</td>\n",
       "      <td>16.000000</td>\n",
       "      <td>3016.000000</td>\n",
       "      <td>2.000000</td>\n",
       "      <td>63.800000</td>\n",
       "      <td>63.800000</td>\n",
       "    </tr>\n",
       "    <tr>\n",
       "      <th>75%</th>\n",
       "      <td>4.0</td>\n",
       "      <td>17.000000</td>\n",
       "      <td>3807.000000</td>\n",
       "      <td>4.000000</td>\n",
       "      <td>124.140000</td>\n",
       "      <td>124.140000</td>\n",
       "    </tr>\n",
       "    <tr>\n",
       "      <th>max</th>\n",
       "      <td>4.0</td>\n",
       "      <td>18.000000</td>\n",
       "      <td>5855.000000</td>\n",
       "      <td>553.000000</td>\n",
       "      <td>8570.640000</td>\n",
       "      <td>8570.640000</td>\n",
       "    </tr>\n",
       "  </tbody>\n",
       "</table>\n",
       "</div>"
      ],
      "text/plain": [
       "         month        weekno  store_number        volume      turnover  \\\n",
       "count  58836.0  58836.000000  58836.000000  58836.000000  58836.000000   \n",
       "mean       4.0     15.776837   2926.835016      4.238205    121.309352   \n",
       "std        0.0      1.461136   1239.128888     11.273705    216.870703   \n",
       "min        4.0     14.000000     58.000000     -2.000000   -187.940000   \n",
       "25%        4.0     15.000000   1892.000000      1.000000     34.400000   \n",
       "50%        4.0     16.000000   3016.000000      2.000000     63.800000   \n",
       "75%        4.0     17.000000   3807.000000      4.000000    124.140000   \n",
       "max        4.0     18.000000   5855.000000    553.000000   8570.640000   \n",
       "\n",
       "       turnover_missing  \n",
       "count      58816.000000  \n",
       "mean         121.320219  \n",
       "std          216.904153  \n",
       "min         -187.940000  \n",
       "25%           34.400000  \n",
       "50%           63.800000  \n",
       "75%          124.140000  \n",
       "max         8570.640000  "
      ]
     },
     "execution_count": 13,
     "metadata": {},
     "output_type": "execute_result"
    }
   ],
   "source": [
    "first_set.describe()"
   ]
  },
  {
   "cell_type": "code",
   "execution_count": 14,
   "metadata": {},
   "outputs": [],
   "source": [
    "import warnings\n",
    "warnings.filterwarnings('ignore')\n",
    "import math\n",
    "def variable(row):\n",
    "    x = row['volume']\n",
    "    y = row['turnover_missing']\n",
    "#     print(x,y, type(x), type(y), math.isnan(y))\n",
    "    if ((x==0) & (y==0)):\n",
    "        return 'Right Data'\n",
    "    if ((x>0) & (y>0)):\n",
    "        return 'Right Data'\n",
    "    if ((x<0) & (y<0)):\n",
    "        return 'Right Data'\n",
    "    if ((x!=0) & (math.isnan(y))):\n",
    "        return 'Missing Data'\n",
    "    if ((x==0) & (math.isnan(y))):\n",
    "        return 'Missing Data'\n",
    "    if ((math.isnan(x)) & (y!=0)):\n",
    "        return 'Missing Data'\n",
    "    return 'Invalid Data'\n",
    "    \n",
    "first_set['Assessment'] = first_set.apply(variable, axis=1)"
   ]
  },
  {
   "cell_type": "code",
   "execution_count": 15,
   "metadata": {},
   "outputs": [
    {
     "name": "stdout",
     "output_type": "stream",
     "text": [
      "('Null Values in Volume:', 0)\n"
     ]
    }
   ],
   "source": [
    "sample_V = first_set[first_set['volume']!=0]\n",
    "sample2_V = sample_V[sample_V['volume'].notnull()]\n",
    "print('Null Values in Volume:', sample2_V.volume.isnull().sum())\n",
    "# print('------')\n",
    "# print('Count after removing zeros in Volume:',sample_T.shape)\n",
    "# print('Count after removing empty values in Volume:', sample2_T.shape)"
   ]
  },
  {
   "cell_type": "code",
   "execution_count": 16,
   "metadata": {},
   "outputs": [
    {
     "name": "stdout",
     "output_type": "stream",
     "text": [
      "(58836, 11)\n",
      "(58836, 11)\n"
     ]
    }
   ],
   "source": [
    "# Shape of the total data set and Dataset after removing zeros from Volume.\n",
    "print(first_set.shape)\n",
    "print(sample2_V.shape)"
   ]
  },
  {
   "cell_type": "code",
   "execution_count": 17,
   "metadata": {
    "scrolled": true
   },
   "outputs": [
    {
     "data": {
      "text/plain": [
       "<matplotlib.axes._subplots.AxesSubplot at 0x146c1898>"
      ]
     },
     "execution_count": 17,
     "metadata": {},
     "output_type": "execute_result"
    },
    {
     "data": {
      "image/png": "[encoded data removed]",
      "text/plain": [
       "<matplotlib.figure.Figure at 0x146c1320>"
      ]
     },
     "metadata": {},
     "output_type": "display_data"
    }
   ],
   "source": [
    "# sns.FacetGrid(sample2_V, size=4).map(sns.distplot, 'volume')\n",
    "plt.grid()\n",
    "# print ('Skewness is', sample2_T.skew())\n",
    "sns.kdeplot(sample2_V.volume)"
   ]
  },
  {
   "cell_type": "code",
   "execution_count": 18,
   "metadata": {},
   "outputs": [
    {
     "data": {
      "text/plain": [
       "<matplotlib.axes._subplots.AxesSubplot at 0x162c8ac8>"
      ]
     },
     "execution_count": 18,
     "metadata": {},
     "output_type": "execute_result"
    },
    {
     "data": {
      "image/png": "[encoded data removed]",
      "text/plain": [
       "<matplotlib.figure.Figure at 0x15f7ba20>"
      ]
     },
     "metadata": {},
     "output_type": "display_data"
    }
   ],
   "source": [
    "sns.boxplot(sample2_V.turnover_missing)"
   ]
  },
  {
   "cell_type": "code",
   "execution_count": 19,
   "metadata": {},
   "outputs": [],
   "source": [
    "def outliers_z_score(sample2_V):\n",
    "    threshold = 3\n",
    "\n",
    "    mean_y = np.mean(sample2_V.volume)\n",
    "    stdev_y = np.std(sample2_V.volume)\n",
    "    z_scores = [(y - mean_y) / stdev_y for y in sample2_V.volume]\n",
    "    return np.where(np.abs(z_scores) > threshold)"
   ]
  },
  {
   "cell_type": "code",
   "execution_count": 20,
   "metadata": {},
   "outputs": [],
   "source": [
    "test = outliers_z_score(sample2_V)\n"
   ]
  },
  {
   "cell_type": "code",
   "execution_count": 21,
   "metadata": {},
   "outputs": [],
   "source": [
    "# test"
   ]
  },
  {
   "cell_type": "code",
   "execution_count": 22,
   "metadata": {},
   "outputs": [
    {
     "data": {
      "image/png": "[encoded data removed]",
      "text/plain": [
       "<matplotlib.figure.Figure at 0x14f5c358>"
      ]
     },
     "metadata": {},
     "output_type": "display_data"
    },
    {
     "name": "stdout",
     "output_type": "stream",
     "text": [
      "8.0\n",
      "14.0\n",
      "21.0\n",
      "23.0\n",
      "27.0\n",
      "40.0\n",
      "42.0\n",
      "64.0\n",
      "70.0\n",
      "83.0\n",
      "101.0\n",
      "139.16500000000815\n",
      "553.0\n",
      "-------\n",
      "Number of Outliers which are > 1755: 52\n"
     ]
    }
   ],
   "source": [
    "Volume_data = sample2_V['volume'].values\n",
    "\n",
    "sns.kdeplot(Volume_data, shade=True, cumulative=True)\n",
    "plt.xlabel('No of ratings by user')\n",
    "plt.title('CDF')\n",
    "\n",
    "plt.show()\n",
    "# print(Volume_data)\n",
    "# counts, g = np.histogram(sample2_V['volume'])\n",
    "# pdf = counts/(sum(counts))\n",
    "\n",
    "# h=Volume_data/sum(Volume_data)\n",
    "# cdf = np.cumsum(h)\n",
    "# plt.plot(cdf)\n",
    "# np.histogram(cdf)\n",
    "# plt.plot(g[1:], pdf)\n",
    "# plt.plot(g[1:],cdf)\n",
    "# plt.grid()\n",
    "\n",
    "print(np.percentile(Volume_data, 90))\n",
    "print(np.percentile(Volume_data, 95))\n",
    "print(np.percentile(Volume_data, 97))\n",
    "print(np.percentile(Volume_data, 97.5))\n",
    "print(np.percentile(Volume_data, 98.0))\n",
    "print(np.percentile(Volume_data, 98.9))\n",
    "print(np.percentile(Volume_data, 99.0))\n",
    "print(np.percentile(Volume_data, 99.5))\n",
    "print(np.percentile(Volume_data, 99.6))\n",
    "print(np.percentile(Volume_data, 99.7))\n",
    "print(np.percentile(Volume_data, 99.8))\n",
    "print(np.percentile(Volume_data, 99.9))\n",
    "print(np.percentile(Volume_data, 100))\n",
    "\n",
    "print('-------')\n",
    "\n",
    "print('Number of Outliers which are > 1755: %0r'%len(Volume_data[np.where( Volume_data > 148)]))\n"
   ]
  },
  {
   "cell_type": "code",
   "execution_count": 23,
   "metadata": {},
   "outputs": [
    {
     "name": "stdout",
     "output_type": "stream",
     "text": [
      "row count Before removing outliers from \"Volume\": 58836L\n",
      "row count After removing outliers from \"Volume\": 58836L\n"
     ]
    }
   ],
   "source": [
    "print('row count Before removing outliers from \"Volume\": %0r' %first_set.volume.shape)\n",
    "Removing_outliers = first_set[first_set['volume']< 1755]\n",
    "print('row count After removing outliers from \"Volume\": %0r' %Removing_outliers.volume.shape)"
   ]
  },
  {
   "cell_type": "code",
   "execution_count": 24,
   "metadata": {},
   "outputs": [],
   "source": [
    "sample2_V = sample2_V[sample2_V['volume']<1755]"
   ]
  },
  {
   "cell_type": "code",
   "execution_count": 25,
   "metadata": {},
   "outputs": [
    {
     "data": {
      "text/plain": [
       "<matplotlib.axes._subplots.AxesSubplot at 0x149bfda0>"
      ]
     },
     "execution_count": 25,
     "metadata": {},
     "output_type": "execute_result"
    },
    {
     "data": {
      "image/png": "[encoded data removed]",
      "text/plain": [
       "<matplotlib.figure.Figure at 0x149adac8>"
      ]
     },
     "metadata": {},
     "output_type": "display_data"
    }
   ],
   "source": [
    "# sns.FacetGrid(sample2_V, size=4).map(sns.distplot, 'volume')\n",
    "plt.grid()\n",
    "sns.kdeplot(sample2_V.volume)"
   ]
  },
  {
   "cell_type": "code",
   "execution_count": 26,
   "metadata": {},
   "outputs": [
    {
     "data": {
      "text/plain": [
       "(58836, 11)"
      ]
     },
     "execution_count": 26,
     "metadata": {},
     "output_type": "execute_result"
    }
   ],
   "source": [
    "first_set.shape"
   ]
  },
  {
   "cell_type": "code",
   "execution_count": 27,
   "metadata": {},
   "outputs": [
    {
     "data": {
      "text/plain": [
       "(58836, 11)"
      ]
     },
     "execution_count": 27,
     "metadata": {},
     "output_type": "execute_result"
    }
   ],
   "source": [
    "second_set = first_set[first_set['volume']<1755]\n",
    "second_set.shape"
   ]
  },
  {
   "cell_type": "code",
   "execution_count": 28,
   "metadata": {},
   "outputs": [
    {
     "data": {
      "text/html": [
       "<div>\n",
       "<style scoped>\n",
       "    .dataframe tbody tr th:only-of-type {\n",
       "        vertical-align: middle;\n",
       "    }\n",
       "\n",
       "    .dataframe tbody tr th {\n",
       "        vertical-align: top;\n",
       "    }\n",
       "\n",
       "    .dataframe thead th {\n",
       "        text-align: right;\n",
       "    }\n",
       "</style>\n",
       "<table border=\"1\" class=\"dataframe\">\n",
       "  <thead>\n",
       "    <tr style=\"text-align: right;\">\n",
       "      <th></th>\n",
       "      <th>month</th>\n",
       "      <th>weekno</th>\n",
       "      <th>store_number</th>\n",
       "      <th>volume</th>\n",
       "      <th>turnover</th>\n",
       "      <th>turnover_missing</th>\n",
       "    </tr>\n",
       "  </thead>\n",
       "  <tbody>\n",
       "    <tr>\n",
       "      <th>count</th>\n",
       "      <td>58836.0</td>\n",
       "      <td>58836.000000</td>\n",
       "      <td>58836.000000</td>\n",
       "      <td>58836.000000</td>\n",
       "      <td>58836.000000</td>\n",
       "      <td>58816.000000</td>\n",
       "    </tr>\n",
       "    <tr>\n",
       "      <th>mean</th>\n",
       "      <td>4.0</td>\n",
       "      <td>15.776837</td>\n",
       "      <td>2926.835016</td>\n",
       "      <td>4.238205</td>\n",
       "      <td>121.309352</td>\n",
       "      <td>121.320219</td>\n",
       "    </tr>\n",
       "    <tr>\n",
       "      <th>std</th>\n",
       "      <td>0.0</td>\n",
       "      <td>1.461136</td>\n",
       "      <td>1239.128888</td>\n",
       "      <td>11.273705</td>\n",
       "      <td>216.870703</td>\n",
       "      <td>216.904153</td>\n",
       "    </tr>\n",
       "    <tr>\n",
       "      <th>min</th>\n",
       "      <td>4.0</td>\n",
       "      <td>14.000000</td>\n",
       "      <td>58.000000</td>\n",
       "      <td>-2.000000</td>\n",
       "      <td>-187.940000</td>\n",
       "      <td>-187.940000</td>\n",
       "    </tr>\n",
       "    <tr>\n",
       "      <th>25%</th>\n",
       "      <td>4.0</td>\n",
       "      <td>15.000000</td>\n",
       "      <td>1892.000000</td>\n",
       "      <td>1.000000</td>\n",
       "      <td>34.400000</td>\n",
       "      <td>34.400000</td>\n",
       "    </tr>\n",
       "    <tr>\n",
       "      <th>50%</th>\n",
       "      <td>4.0</td>\n",
       "      <td>16.000000</td>\n",
       "      <td>3016.000000</td>\n",
       "      <td>2.000000</td>\n",
       "      <td>63.800000</td>\n",
       "      <td>63.800000</td>\n",
       "    </tr>\n",
       "    <tr>\n",
       "      <th>75%</th>\n",
       "      <td>4.0</td>\n",
       "      <td>17.000000</td>\n",
       "      <td>3807.000000</td>\n",
       "      <td>4.000000</td>\n",
       "      <td>124.140000</td>\n",
       "      <td>124.140000</td>\n",
       "    </tr>\n",
       "    <tr>\n",
       "      <th>max</th>\n",
       "      <td>4.0</td>\n",
       "      <td>18.000000</td>\n",
       "      <td>5855.000000</td>\n",
       "      <td>553.000000</td>\n",
       "      <td>8570.640000</td>\n",
       "      <td>8570.640000</td>\n",
       "    </tr>\n",
       "  </tbody>\n",
       "</table>\n",
       "</div>"
      ],
      "text/plain": [
       "         month        weekno  store_number        volume      turnover  \\\n",
       "count  58836.0  58836.000000  58836.000000  58836.000000  58836.000000   \n",
       "mean       4.0     15.776837   2926.835016      4.238205    121.309352   \n",
       "std        0.0      1.461136   1239.128888     11.273705    216.870703   \n",
       "min        4.0     14.000000     58.000000     -2.000000   -187.940000   \n",
       "25%        4.0     15.000000   1892.000000      1.000000     34.400000   \n",
       "50%        4.0     16.000000   3016.000000      2.000000     63.800000   \n",
       "75%        4.0     17.000000   3807.000000      4.000000    124.140000   \n",
       "max        4.0     18.000000   5855.000000    553.000000   8570.640000   \n",
       "\n",
       "       turnover_missing  \n",
       "count      58816.000000  \n",
       "mean         121.320219  \n",
       "std          216.904153  \n",
       "min         -187.940000  \n",
       "25%           34.400000  \n",
       "50%           63.800000  \n",
       "75%          124.140000  \n",
       "max         8570.640000  "
      ]
     },
     "execution_count": 28,
     "metadata": {},
     "output_type": "execute_result"
    }
   ],
   "source": [
    "second_set.describe()"
   ]
  },
  {
   "cell_type": "code",
   "execution_count": 29,
   "metadata": {},
   "outputs": [],
   "source": [
    "from pynverse import inversefunc\n",
    "cube = (lambda n: n**3)\n",
    "invcube = inversefunc(cube, second_set['turnover_missing'])\n",
    "second_set['Inv_Cubic'] = invcube"
   ]
  },
  {
   "cell_type": "code",
   "execution_count": 30,
   "metadata": {},
   "outputs": [
    {
     "name": "stdout",
     "output_type": "stream",
     "text": [
      "8.417318692610143\n",
      "1.8753148541925788\n"
     ]
    }
   ],
   "source": [
    "print(first_set.turnover_missing.skew())\n",
    "print(second_set['Inv_Cubic'].skew())"
   ]
  },
  {
   "cell_type": "code",
   "execution_count": 31,
   "metadata": {},
   "outputs": [
    {
     "data": {
      "text/plain": [
       "<matplotlib.axes._subplots.AxesSubplot at 0x15d23c18>"
      ]
     },
     "execution_count": 31,
     "metadata": {},
     "output_type": "execute_result"
    },
    {
     "data": {
      "image/png": "[encoded data removed]",
      "text/plain": [
       "<matplotlib.figure.Figure at 0x15d23c50>"
      ]
     },
     "metadata": {},
     "output_type": "display_data"
    }
   ],
   "source": [
    "plt.subplot(211)\n",
    "sns.kdeplot(second_set.turnover)\n",
    "\n",
    "plt.subplot(212)\n",
    "sns.kdeplot(second_set['Inv_Cubic'])"
   ]
  },
  {
   "cell_type": "code",
   "execution_count": 32,
   "metadata": {},
   "outputs": [
    {
     "data": {
      "text/html": [
       "<div>\n",
       "<style scoped>\n",
       "    .dataframe tbody tr th:only-of-type {\n",
       "        vertical-align: middle;\n",
       "    }\n",
       "\n",
       "    .dataframe tbody tr th {\n",
       "        vertical-align: top;\n",
       "    }\n",
       "\n",
       "    .dataframe thead th {\n",
       "        text-align: right;\n",
       "    }\n",
       "</style>\n",
       "<table border=\"1\" class=\"dataframe\">\n",
       "  <thead>\n",
       "    <tr style=\"text-align: right;\">\n",
       "      <th></th>\n",
       "      <th>month</th>\n",
       "      <th>weekno</th>\n",
       "      <th>store_number</th>\n",
       "      <th>volume</th>\n",
       "      <th>turnover</th>\n",
       "      <th>turnover_missing</th>\n",
       "      <th>Inv_Cubic</th>\n",
       "    </tr>\n",
       "  </thead>\n",
       "  <tbody>\n",
       "    <tr>\n",
       "      <th>count</th>\n",
       "      <td>58836.0</td>\n",
       "      <td>58836.000000</td>\n",
       "      <td>58836.000000</td>\n",
       "      <td>58836.000000</td>\n",
       "      <td>58836.000000</td>\n",
       "      <td>58816.000000</td>\n",
       "      <td>58836.000000</td>\n",
       "    </tr>\n",
       "    <tr>\n",
       "      <th>mean</th>\n",
       "      <td>4.0</td>\n",
       "      <td>15.776837</td>\n",
       "      <td>2926.835016</td>\n",
       "      <td>4.238205</td>\n",
       "      <td>121.309352</td>\n",
       "      <td>121.320219</td>\n",
       "      <td>4.331135</td>\n",
       "    </tr>\n",
       "    <tr>\n",
       "      <th>std</th>\n",
       "      <td>0.0</td>\n",
       "      <td>1.461136</td>\n",
       "      <td>1239.128888</td>\n",
       "      <td>11.273705</td>\n",
       "      <td>216.870703</td>\n",
       "      <td>216.904153</td>\n",
       "      <td>1.583730</td>\n",
       "    </tr>\n",
       "    <tr>\n",
       "      <th>min</th>\n",
       "      <td>4.0</td>\n",
       "      <td>14.000000</td>\n",
       "      <td>58.000000</td>\n",
       "      <td>-2.000000</td>\n",
       "      <td>-187.940000</td>\n",
       "      <td>-187.940000</td>\n",
       "      <td>-5.728045</td>\n",
       "    </tr>\n",
       "    <tr>\n",
       "      <th>25%</th>\n",
       "      <td>4.0</td>\n",
       "      <td>15.000000</td>\n",
       "      <td>1892.000000</td>\n",
       "      <td>1.000000</td>\n",
       "      <td>34.400000</td>\n",
       "      <td>34.400000</td>\n",
       "      <td>3.252267</td>\n",
       "    </tr>\n",
       "    <tr>\n",
       "      <th>50%</th>\n",
       "      <td>4.0</td>\n",
       "      <td>16.000000</td>\n",
       "      <td>3016.000000</td>\n",
       "      <td>2.000000</td>\n",
       "      <td>63.800000</td>\n",
       "      <td>63.800000</td>\n",
       "      <td>3.995829</td>\n",
       "    </tr>\n",
       "    <tr>\n",
       "      <th>75%</th>\n",
       "      <td>4.0</td>\n",
       "      <td>17.000000</td>\n",
       "      <td>3807.000000</td>\n",
       "      <td>4.000000</td>\n",
       "      <td>124.140000</td>\n",
       "      <td>124.140000</td>\n",
       "      <td>4.988507</td>\n",
       "    </tr>\n",
       "    <tr>\n",
       "      <th>max</th>\n",
       "      <td>4.0</td>\n",
       "      <td>18.000000</td>\n",
       "      <td>5855.000000</td>\n",
       "      <td>553.000000</td>\n",
       "      <td>8570.640000</td>\n",
       "      <td>8570.640000</td>\n",
       "      <td>20.464655</td>\n",
       "    </tr>\n",
       "  </tbody>\n",
       "</table>\n",
       "</div>"
      ],
      "text/plain": [
       "         month        weekno  store_number        volume      turnover  \\\n",
       "count  58836.0  58836.000000  58836.000000  58836.000000  58836.000000   \n",
       "mean       4.0     15.776837   2926.835016      4.238205    121.309352   \n",
       "std        0.0      1.461136   1239.128888     11.273705    216.870703   \n",
       "min        4.0     14.000000     58.000000     -2.000000   -187.940000   \n",
       "25%        4.0     15.000000   1892.000000      1.000000     34.400000   \n",
       "50%        4.0     16.000000   3016.000000      2.000000     63.800000   \n",
       "75%        4.0     17.000000   3807.000000      4.000000    124.140000   \n",
       "max        4.0     18.000000   5855.000000    553.000000   8570.640000   \n",
       "\n",
       "       turnover_missing     Inv_Cubic  \n",
       "count      58816.000000  58836.000000  \n",
       "mean         121.320219      4.331135  \n",
       "std          216.904153      1.583730  \n",
       "min         -187.940000     -5.728045  \n",
       "25%           34.400000      3.252267  \n",
       "50%           63.800000      3.995829  \n",
       "75%          124.140000      4.988507  \n",
       "max         8570.640000     20.464655  "
      ]
     },
     "execution_count": 32,
     "metadata": {},
     "output_type": "execute_result"
    }
   ],
   "source": [
    "second_set.describe()"
   ]
  },
  {
   "cell_type": "code",
   "execution_count": 33,
   "metadata": {},
   "outputs": [
    {
     "data": {
      "text/html": [
       "<div>\n",
       "<style scoped>\n",
       "    .dataframe tbody tr th:only-of-type {\n",
       "        vertical-align: middle;\n",
       "    }\n",
       "\n",
       "    .dataframe tbody tr th {\n",
       "        vertical-align: top;\n",
       "    }\n",
       "\n",
       "    .dataframe thead th {\n",
       "        text-align: right;\n",
       "    }\n",
       "</style>\n",
       "<table border=\"1\" class=\"dataframe\">\n",
       "  <thead>\n",
       "    <tr style=\"text-align: right;\">\n",
       "      <th></th>\n",
       "      <th>Sale_date</th>\n",
       "      <th>weekday_name</th>\n",
       "      <th>product</th>\n",
       "      <th>assessment</th>\n",
       "      <th>month</th>\n",
       "      <th>weekno</th>\n",
       "      <th>store_number</th>\n",
       "      <th>volume</th>\n",
       "      <th>turnover</th>\n",
       "      <th>turnover_missing</th>\n",
       "      <th>Assessment</th>\n",
       "      <th>Inv_Cubic</th>\n",
       "    </tr>\n",
       "  </thead>\n",
       "  <tbody>\n",
       "    <tr>\n",
       "      <th>0</th>\n",
       "      <td>2017-04-07</td>\n",
       "      <td>Friday</td>\n",
       "      <td>CREST B+S 2PACK 75ML</td>\n",
       "      <td>Right Data</td>\n",
       "      <td>4</td>\n",
       "      <td>14</td>\n",
       "      <td>2732</td>\n",
       "      <td>2.0</td>\n",
       "      <td>48.10</td>\n",
       "      <td>48.10</td>\n",
       "      <td>Right Data</td>\n",
       "      <td>3.636763</td>\n",
       "    </tr>\n",
       "    <tr>\n",
       "      <th>1</th>\n",
       "      <td>2017-04-07</td>\n",
       "      <td>Friday</td>\n",
       "      <td>CREST B+S 2PACK 75ML</td>\n",
       "      <td>Right Data</td>\n",
       "      <td>4</td>\n",
       "      <td>14</td>\n",
       "      <td>2768</td>\n",
       "      <td>6.0</td>\n",
       "      <td>149.46</td>\n",
       "      <td>149.46</td>\n",
       "      <td>Right Data</td>\n",
       "      <td>5.306909</td>\n",
       "    </tr>\n",
       "    <tr>\n",
       "      <th>2</th>\n",
       "      <td>2017-04-07</td>\n",
       "      <td>Friday</td>\n",
       "      <td>CREST B+S 2PACK 75ML</td>\n",
       "      <td>Right Data</td>\n",
       "      <td>4</td>\n",
       "      <td>14</td>\n",
       "      <td>2839</td>\n",
       "      <td>3.0</td>\n",
       "      <td>72.15</td>\n",
       "      <td>72.15</td>\n",
       "      <td>Right Data</td>\n",
       "      <td>4.163055</td>\n",
       "    </tr>\n",
       "    <tr>\n",
       "      <th>3</th>\n",
       "      <td>2017-04-07</td>\n",
       "      <td>Friday</td>\n",
       "      <td>CREST B+S 2PACK 75ML</td>\n",
       "      <td>Right Data</td>\n",
       "      <td>4</td>\n",
       "      <td>14</td>\n",
       "      <td>2840</td>\n",
       "      <td>3.0</td>\n",
       "      <td>72.15</td>\n",
       "      <td>72.15</td>\n",
       "      <td>Right Data</td>\n",
       "      <td>4.163055</td>\n",
       "    </tr>\n",
       "    <tr>\n",
       "      <th>4</th>\n",
       "      <td>2017-04-07</td>\n",
       "      <td>Friday</td>\n",
       "      <td>CREST B+S 2PACK 75ML</td>\n",
       "      <td>Right Data</td>\n",
       "      <td>4</td>\n",
       "      <td>14</td>\n",
       "      <td>2947</td>\n",
       "      <td>4.0</td>\n",
       "      <td>96.20</td>\n",
       "      <td>96.20</td>\n",
       "      <td>Right Data</td>\n",
       "      <td>4.582035</td>\n",
       "    </tr>\n",
       "  </tbody>\n",
       "</table>\n",
       "</div>"
      ],
      "text/plain": [
       "   Sale_date weekday_name               product  assessment  month  weekno  \\\n",
       "0 2017-04-07       Friday  CREST B+S 2PACK 75ML  Right Data      4      14   \n",
       "1 2017-04-07       Friday  CREST B+S 2PACK 75ML  Right Data      4      14   \n",
       "2 2017-04-07       Friday  CREST B+S 2PACK 75ML  Right Data      4      14   \n",
       "3 2017-04-07       Friday  CREST B+S 2PACK 75ML  Right Data      4      14   \n",
       "4 2017-04-07       Friday  CREST B+S 2PACK 75ML  Right Data      4      14   \n",
       "\n",
       "   store_number  volume  turnover  turnover_missing  Assessment  Inv_Cubic  \n",
       "0          2732     2.0     48.10             48.10  Right Data   3.636763  \n",
       "1          2768     6.0    149.46            149.46  Right Data   5.306909  \n",
       "2          2839     3.0     72.15             72.15  Right Data   4.163055  \n",
       "3          2840     3.0     72.15             72.15  Right Data   4.163055  \n",
       "4          2947     4.0     96.20             96.20  Right Data   4.582035  "
      ]
     },
     "execution_count": 33,
     "metadata": {},
     "output_type": "execute_result"
    }
   ],
   "source": [
    "second_set.head()\n",
    "# print(min(sample2_V.turnover))"
   ]
  },
  {
   "cell_type": "markdown",
   "metadata": {},
   "source": [
    "<p> Need to Correct the Product Names by removing the spaces <br>\n",
    "    1. <b>From the below lines of code, don't remove anything.</b> </p>"
   ]
  },
  {
   "cell_type": "code",
   "execution_count": 34,
   "metadata": {},
   "outputs": [
    {
     "data": {
      "text/plain": [
       "0    CREST B+S 2PACK 75ML\n",
       "1    CREST B+S 2PACK 75ML\n",
       "2    CREST B+S 2PACK 75ML\n",
       "Name: product, dtype: object"
      ]
     },
     "execution_count": 34,
     "metadata": {},
     "output_type": "execute_result"
    }
   ],
   "source": [
    "second_set['product'].head(3)"
   ]
  },
  {
   "cell_type": "code",
   "execution_count": 35,
   "metadata": {},
   "outputs": [],
   "source": [
    "third_set = second_set['product'].str.replace(' ','_')"
   ]
  },
  {
   "cell_type": "code",
   "execution_count": 36,
   "metadata": {},
   "outputs": [],
   "source": [
    "third_set['product'] = third_set"
   ]
  },
  {
   "cell_type": "code",
   "execution_count": 37,
   "metadata": {},
   "outputs": [],
   "source": [
    "second_set['product'] = third_set['product']"
   ]
  },
  {
   "cell_type": "code",
   "execution_count": 38,
   "metadata": {},
   "outputs": [
    {
     "data": {
      "text/plain": [
       "Index([u'Sale_date', u'weekday_name', u'product', u'assessment', u'month',\n",
       "       u'weekno', u'store_number', u'volume', u'turnover', u'turnover_missing',\n",
       "       u'Assessment', u'Inv_Cubic'],\n",
       "      dtype='object')"
      ]
     },
     "execution_count": 38,
     "metadata": {},
     "output_type": "execute_result"
    }
   ],
   "source": [
    "second_set.columns"
   ]
  },
  {
   "cell_type": "code",
   "execution_count": 39,
   "metadata": {},
   "outputs": [],
   "source": [
    "second_set = second_set[['Sale_date','product','Assessment','weekno','store_number','volume','turnover','turnover_missing','Inv_Cubic']]"
   ]
  },
  {
   "cell_type": "code",
   "execution_count": 40,
   "metadata": {},
   "outputs": [
    {
     "data": {
      "text/plain": [
       "(58836, 9)"
      ]
     },
     "execution_count": 40,
     "metadata": {},
     "output_type": "execute_result"
    }
   ],
   "source": [
    "second_set.shape"
   ]
  },
  {
   "cell_type": "code",
   "execution_count": 41,
   "metadata": {},
   "outputs": [
    {
     "name": "stdout",
     "output_type": "stream",
     "text": [
      "(58816, 9)\n",
      "(20, 9)\n"
     ]
    }
   ],
   "source": [
    "# Outliers, Invalid Data was removed from this \"Second_set\" dataset.\n",
    "# Printing the shapes of Second_set_positive, second_set_negative for reference\n",
    "\n",
    "# second_set_right = second_set[second_set.Assessment=='Right Data']\n",
    "# print(second_set_right.shape)\n",
    "\n",
    "# Finding (Right Data) in Turnover column\n",
    "second_set_Right = second_set[second_set['Assessment']=='Right Data']\n",
    "print(second_set_Right.shape)\n",
    "\n",
    "# # Finding (Missing Data) values in Turnover column \n",
    "second_set_Missing = second_set[second_set['Assessment']=='Missing Data']\n",
    "print(second_set_Missing.shape)"
   ]
  },
  {
   "cell_type": "markdown",
   "metadata": {},
   "source": [
    "## Vectorizing the Product Name"
   ]
  },
  {
   "cell_type": "code",
   "execution_count": 42,
   "metadata": {},
   "outputs": [],
   "source": [
    "fourth_set = second_set"
   ]
  },
  {
   "cell_type": "code",
   "execution_count": 43,
   "metadata": {},
   "outputs": [
    {
     "data": {
      "text/plain": [
       "Index([u'Sale_date', u'product', u'Assessment', u'weekno', u'store_number',\n",
       "       u'volume', u'turnover', u'turnover_missing', u'Inv_Cubic'],\n",
       "      dtype='object')"
      ]
     },
     "execution_count": 43,
     "metadata": {},
     "output_type": "execute_result"
    }
   ],
   "source": [
    "fourth_set.columns"
   ]
  },
  {
   "cell_type": "code",
   "execution_count": 44,
   "metadata": {},
   "outputs": [
    {
     "data": {
      "text/plain": [
       "(58836, 9)"
      ]
     },
     "execution_count": 44,
     "metadata": {},
     "output_type": "execute_result"
    }
   ],
   "source": [
    "fourth_set.shape"
   ]
  },
  {
   "cell_type": "code",
   "execution_count": 45,
   "metadata": {},
   "outputs": [],
   "source": [
    "# Vectorizing on the \"Products\" of second_set (contains no outliers and Invalid data)\n",
    "\n",
    "from sklearn.feature_extraction.text import CountVectorizer\n",
    "OHE = CountVectorizer()\n",
    "fourth_set1 = OHE.fit_transform(second_set['product'])\n",
    "fourth_set2 = second_set['store_number'].values.reshape(-1,1)\n",
    "fourth_set3 = second_set['weekno'].values.reshape(-1,1)\n",
    "# fourth_set4 = second_set['Store'].reshape(-1,1)\n",
    "fourth_set4 = second_set['volume'].values.reshape(-1,1)\n"
   ]
  },
  {
   "cell_type": "code",
   "execution_count": 46,
   "metadata": {},
   "outputs": [
    {
     "data": {
      "text/plain": [
       "dtype('float64')"
      ]
     },
     "execution_count": 46,
     "metadata": {},
     "output_type": "execute_result"
    }
   ],
   "source": [
    "# Applying One Hot Encoding on the \"Products\" of  Second_set.\n",
    "\n",
    "from sklearn import preprocessing\n",
    "\n",
    "# limit to categorical data using df.select_dtypes()\n",
    "Onehot = second_set[['Sale_date','product','weekno','store_number','volume','turnover','turnover_missing','Inv_Cubic']]\n",
    "# Onehot.columns\n",
    "X = Onehot.select_dtypes(include=[object])\n",
    "X.head(3)\n",
    "\n",
    "# 1. INSTANTIATE\n",
    "# encode labels with value between 0 and n_classes-1.\n",
    "le = preprocessing.LabelEncoder()\n",
    "# 2/3. FIT AND TRANSFORM\n",
    "# use df.apply() to apply le.fit_transform to all columns\n",
    "X_2 = X.apply(le.fit_transform)\n",
    "X_2.head()\n",
    "enc = preprocessing.OneHotEncoder()\n",
    "enc.fit(X_2)\n",
    "fourth_set1 = enc.transform(X_2)\n",
    "fourth_set1.dtype"
   ]
  },
  {
   "cell_type": "markdown",
   "metadata": {},
   "source": [
    "<p><b>Training Dataset</b></p>"
   ]
  },
  {
   "cell_type": "code",
   "execution_count": 47,
   "metadata": {},
   "outputs": [],
   "source": [
    "from sklearn.model_selection import train_test_split"
   ]
  },
  {
   "cell_type": "code",
   "execution_count": 48,
   "metadata": {},
   "outputs": [],
   "source": [
    "Train_Products = fourth_set1[np.where(second_set['Assessment']=='Right Data')]\n",
    "Train_store_number = fourth_set2[np.where(second_set['Assessment']=='Right Data')]\n",
    "Train_weekno = fourth_set3[np.where(second_set['Assessment']=='Right Data')]\n",
    "# Train_Store = fourth_set4[np.where(second_set['Assessment']=='Right Data')]\n",
    "Train_Volume = fourth_set4[np.where(second_set['Assessment']=='Right Data')]\n"
   ]
  },
  {
   "cell_type": "code",
   "execution_count": 49,
   "metadata": {},
   "outputs": [],
   "source": [
    "from scipy.sparse import hstack\n",
    "Train_X = hstack((Train_Products, Train_store_number, Train_weekno, Train_Volume))\n",
    "Train_Y = second_set_Right.Inv_Cubic\n"
   ]
  },
  {
   "cell_type": "code",
   "execution_count": null,
   "metadata": {},
   "outputs": [],
   "source": []
  },
  {
   "cell_type": "code",
   "execution_count": 50,
   "metadata": {},
   "outputs": [],
   "source": [
    "# Train_X, Test_X, Train_Y, Test_Y = train_test_split(X, Y, test_size=0.2, random_state = 0)"
   ]
  },
  {
   "cell_type": "code",
   "execution_count": 51,
   "metadata": {},
   "outputs": [
    {
     "name": "stdout",
     "output_type": "stream",
     "text": [
      "(58816, 578)\n",
      "(58816L,)\n"
     ]
    }
   ],
   "source": [
    "print(Train_X.shape)\n",
    "print(Train_Y.shape)\n",
    "# print('-----------')\n",
    "# print(Test_X.shape)\n",
    "# print(Test_Y.shape)"
   ]
  },
  {
   "cell_type": "markdown",
   "metadata": {},
   "source": [
    "<p><b> Test Dataset </b></p>"
   ]
  },
  {
   "cell_type": "code",
   "execution_count": 52,
   "metadata": {},
   "outputs": [],
   "source": [
    "Test_Products = fourth_set1[np.where(second_set['Assessment']=='Missing Data')]\n",
    "Test_weekday = fourth_set2[np.where(second_set['Assessment']=='Missing Data')]\n",
    "Test_weekno = fourth_set3[np.where(second_set['Assessment']=='Missing Data')]\n",
    "Test_Volume = fourth_set4[np.where(second_set['Assessment']=='Missing Data')]"
   ]
  },
  {
   "cell_type": "code",
   "execution_count": 53,
   "metadata": {},
   "outputs": [],
   "source": [
    "from scipy.sparse import hstack\n",
    "Test_X = hstack((Test_Products, Test_weekday, Test_weekno, Test_Volume))\n",
    "Test_Y = second_set_Missing.turnover_missing\n"
   ]
  },
  {
   "cell_type": "code",
   "execution_count": 54,
   "metadata": {},
   "outputs": [
    {
     "name": "stdout",
     "output_type": "stream",
     "text": [
      "(20, 578)\n",
      "(20L,)\n"
     ]
    }
   ],
   "source": [
    "print(Test_X.shape)\n",
    "print(Test_Y.shape)"
   ]
  },
  {
   "cell_type": "markdown",
   "metadata": {},
   "source": [
    "#### Grid Search for KNN"
   ]
  },
  {
   "cell_type": "code",
   "execution_count": 55,
   "metadata": {},
   "outputs": [],
   "source": [
    "# sklearn.cross_validation has been changed to sklearn.model_selection\n",
    "from sklearn.model_selection import *\n",
    "from sklearn.model_selection import KFold\n",
    "from sklearn.neighbors import KNeighborsRegressor\n",
    "\n",
    "# cv_scores = []\n",
    "# neighbors = range(0,30,2)\n",
    "\n",
    "# #Perform 10-fold cross validation on training set for odd values of k:\n",
    "# for k in neighbors:\n",
    "#     k_value = k+1\n",
    "#     KNN = KNeighborsRegressor(n_neighbors = k_value, weights='distance', p=2, metric='euclidean')\n",
    "#     kfold = KFold(n_splits=10, random_state=0)\n",
    "#     scores = cross_val_score(KNN, Train_X, Train_Y)\n",
    "    \n",
    "# ###########   Finding Mean and Standard Deviation\n",
    "    \n",
    "#     cv_scores.append(scores.mean()*100)\n",
    "#     print(\"k=%d %0.2f (+/- %0.2f)\" % (k_value, scores.mean()*100, scores.std()*100))\n",
    "\n",
    "# # ############    MAPE\n",
    "    \n",
    "#     #     print(np.mean(np.abs((y_cv - pred) / y_cv)) * 10)\n",
    "    \n",
    "# # ###########     MSE\n",
    "    \n",
    "# # #     mse = mean_squared_error(y_cv, pred)\n",
    "# # #     RMSE=sqrt(mse)\n",
    "# # #     print(\"RMSE: %.2f\" % RMSE)\n",
    "\n",
    "# # ###########     R2 Score\n",
    "\n",
    "# # #     r2 = r2_score(y_cv, pred)\n",
    "# # #     print(\"r2: %.2f\" % r2)\n",
    "\n",
    "# # ##########      MAE    \n",
    "    \n",
    "# #     mae = mean_absolute_error(y_cv, pred)\n",
    "# #     print('MAE: %f' % mae)"
   ]
  },
  {
   "cell_type": "markdown",
   "metadata": {},
   "source": [
    "<p><b>KNN - Cross Validation</b></p>"
   ]
  },
  {
   "cell_type": "code",
   "execution_count": 56,
   "metadata": {},
   "outputs": [],
   "source": [
    "from sklearn import ensemble\n",
    "from sklearn import (metrics, model_selection, linear_model, preprocessing)\n",
    "from sklearn.model_selection import KFold, train_test_split, GridSearchCV\n",
    "from xgboost.sklearn import XGBRegressor\n",
    "import datetime\n",
    "# from sklearn import (metrics, cross_validation, linear_model, preprocessing)\n",
    "from sklearn.metrics import mean_absolute_error\n",
    "from sklearn.model_selection import StratifiedKFold\n",
    "from sklearn.metrics import mean_squared_error\n",
    "from math import sqrt\n",
    "from sklearn.metrics import r2_score\n",
    "\n",
    "# start_time  = datetime.datetime.now()\n",
    "\n",
    "\n",
    "# kf = 5\n",
    "\n",
    "# for i in range(kf):\n",
    "#     X_tr, X_cv, y_tr, y_cv = cross_validation.train_test_split(Train_X, Train_Y, test_size = 0.3)\n",
    "\n",
    "#     KNN = KNeighborsRegressor(n_neighbors = 5, weights='distance', p=2, metric='euclidean')\n",
    "#     KNN.fit(X_tr, y_tr)\n",
    "\n",
    "#     pred = KNN.predict(X_cv)\n",
    "    \n",
    "\n",
    "# ###########   Finding Mean and Standard Deviation\n",
    "    \n",
    "# #     cv_scores.append(scores.mean()*100)\n",
    "# #     print(\"k=%d %0.2f (+/- %0.2f)\" % (k_value, scores.mean()*100, scores.std()*100))\n",
    "\n",
    "# ############    MAPE\n",
    "    \n",
    "#     #     print(np.mean(np.abs((y_cv - pred) / y_cv)) * 100)\n",
    "    \n",
    "# ###########     RMSE\n",
    "    \n",
    "#     mse = mean_squared_error(y_cv, pred)\n",
    "#     RMSE=sqrt(mse)\n",
    "#     print(\"RMSE: %.2f\" % RMSE)\n",
    "\n",
    "# ###########     R2 Score\n",
    "\n",
    "#     r2 = r2_score(y_cv, pred)\n",
    "#     print(\"r2: %.2f\" % r2)\n",
    "\n",
    "# ##########      MAE    \n",
    "    \n",
    "#     mae = mean_absolute_error(y_cv, pred)\n",
    "#     print('MAE: %f' % mae)\n",
    "    \n",
    "# end_time = datetime.datetime.now()\n",
    "# print ('Training Done..., Time Cost: %d' % ((end_time - start_time).seconds))"
   ]
  },
  {
   "cell_type": "markdown",
   "metadata": {},
   "source": [
    "<p><b>Grid Search for XGB</b></p>"
   ]
  },
  {
   "cell_type": "code",
   "execution_count": 57,
   "metadata": {
    "scrolled": true
   },
   "outputs": [],
   "source": [
    "# param_test6 = {\n",
    "#  'n_estimators':[100, 200, 300, 400, 500, 600, 700, 1000, 1100, 1200,1300, 1400, 1500],\n",
    "#  'learning_rate':[0.0001, 0.001, 0.01, 0.1]\n",
    "# }\n",
    "# gsearch6 = GridSearchCV(estimator = XGBRegressor( learning_rate =0.1, n_estimators=100, max_depth=4,\n",
    "#  min_child_weight=6, gamma=0.1, subsample=0.8, colsample_bytree=0.8, nthread=4, scale_pos_weight=1,seed=27), \n",
    "#  param_grid = param_test6, n_jobs=4,iid=False, cv=5)\n",
    "# gsearch6.fit(Train_X,Train_Y)\n",
    "# gsearch6.grid_scores_, gsearch6.best_params_, gsearch6.best_score_"
   ]
  },
  {
   "cell_type": "markdown",
   "metadata": {},
   "source": [
    "Max_depth and min_child_weight"
   ]
  },
  {
   "cell_type": "code",
   "execution_count": 58,
   "metadata": {},
   "outputs": [],
   "source": [
    "# param_test1 = {\n",
    "#  'max_depth':[4,5,6],\n",
    "#  'min_child_weight':[4,5,6]\n",
    "# }\n",
    "# gsearch1 = GridSearchCV(estimator = XGBRegressor( learning_rate =0.7, n_estimators=1000, max_depth=5,\n",
    "#  min_child_weight=4, gamma=0.1, subsample=0.8, colsample_bytree=0.8, nthread=4, scale_pos_weight=1), \n",
    "#  param_grid = param_test1,n_jobs=4,iid=False, cv=5)\n",
    "# gsearch1.fit(Train_X,Train_Y)\n",
    "# gsearch1.grid_scores_, gsearch1.best_params_, gsearch1.best_score_"
   ]
  },
  {
   "cell_type": "code",
   "execution_count": 59,
   "metadata": {},
   "outputs": [],
   "source": [
    "# param_test4 = {\n",
    "#  'subsample':[i/10.0 for i in range(6,10)],\n",
    "#  'colsample_bytree':[i/10.0 for i in range(6,10)]\n",
    "# }\n",
    "# gsearch4 = GridSearchCV(estimator = XGBRegressor( learning_rate =0.7, n_estimators=1000, max_depth=4,\n",
    "#  min_child_weight=4, gamma=0, subsample=0.8, colsample_bytree=0.8, nthread=4, scale_pos_weight=1,seed=27), \n",
    "#  param_grid = param_test4, n_jobs=4,iid=False, cv=5)\n",
    "# gsearch4.fit(Train_X ,Train_Y)\n",
    "# gsearch4.grid_scores_, gsearch4.best_params_, gsearch4.best_score_"
   ]
  },
  {
   "cell_type": "markdown",
   "metadata": {},
   "source": [
    "Gamma"
   ]
  },
  {
   "cell_type": "code",
   "execution_count": 60,
   "metadata": {},
   "outputs": [],
   "source": [
    "# param_test3 = {\n",
    "#  'gamma':[i/10.0 for i in range(0,5)]\n",
    "# }\n",
    "# gsearch3 = GridSearchCV(estimator = XGBRegressor( learning_rate =0.7, n_estimators=1000, max_depth=4,\n",
    "#  min_child_weight=4, gamma=0, subsample=0.9, colsample_bytree=0.8, nthread=4, scale_pos_weight=1,seed=27), \n",
    "#  param_grid = param_test3,n_jobs=4,iid=False, cv=5)\n",
    "# gsearch3.fit(Train_X,Train_Y)\n",
    "# gsearch3.grid_scores_, gsearch3.best_params_, gsearch3.best_score_"
   ]
  },
  {
   "cell_type": "code",
   "execution_count": 61,
   "metadata": {},
   "outputs": [],
   "source": [
    "# param_test6 = {\n",
    "#  'reg_alpha':[0, 0.001, 0.005, 0.01, 0.05]\n",
    "# }\n",
    "# gsearch6 = GridSearchCV(estimator = XGBRegressor( learning_rate =0.7, n_estimators=1000, max_depth=4,\n",
    "#  min_child_weight=4, gamma=0.0, subsample=0.9, colsample_bytree=0.8, nthread=4, scale_pos_weight=1,seed=27), \n",
    "#  param_grid = param_test6, n_jobs=4,iid=False, cv=5)\n",
    "# gsearch6.fit(Train_X,Train_Y)\n",
    "# gsearch6.grid_scores_, gsearch6.best_params_, gsearch6.best_score_"
   ]
  },
  {
   "cell_type": "code",
   "execution_count": null,
   "metadata": {},
   "outputs": [],
   "source": []
  },
  {
   "cell_type": "markdown",
   "metadata": {},
   "source": [
    "OLD CODE FOR GRID SERCH THE ESTIMATES AND LEARNING RATES"
   ]
  },
  {
   "cell_type": "code",
   "execution_count": 62,
   "metadata": {},
   "outputs": [],
   "source": [
    "# model = XGBRegressor()\n",
    "# n_estimators = [100, 200, 300, 400, 500]\n",
    "# learning_rate = [0.0001, 0.001, 0.01, 0.1]\n",
    "# kf= 5\n",
    "# for i in range(kf):\n",
    "#     param_grid = dict(learning_rate=learning_rate, n_estimators=n_estimators )\n",
    "# # kfold = StratifiedKFold(n_splits=10, shuffle=True, random_state=7)\n",
    "#     grid_search = GridSearchCV(model, param_grid, n_jobs=-1, cv=kfold)\n",
    "#     grid_result = grid_search.fit(Train_X, Train_Y)"
   ]
  },
  {
   "cell_type": "code",
   "execution_count": 63,
   "metadata": {},
   "outputs": [],
   "source": [
    "# print(\"Best: %f using %s\" % (grid_result.best_score_, grid_result.best_params_))\n",
    "# means = grid_result.cv_results_['mean_test_score']\n",
    "# stds = grid_result.cv_results_['std_test_score']\n",
    "# params = grid_result.cv_results_['params']\n",
    "# metrics = grid_result.cv_results_['eval']\n",
    "# for mean, stdev, param, eval in zip(means, stds, params, eval):\n",
    "#     print(\"%f (%f) with: %r\" % (mean, stdev, param, eval))"
   ]
  },
  {
   "cell_type": "code",
   "execution_count": 64,
   "metadata": {},
   "outputs": [],
   "source": [
    "# from matplotlib import pyplot\n",
    "# n_estimators = [100, 200, 300, 400, 500]\n",
    "# loss = [0.025828, 0.121318 , 0.197507 , 0.257324, 0.308393]\n",
    "# pyplot.plot(n_estimators, loss)\n",
    "# pyplot.xlabel('n_estimators')\n",
    "# pyplot.ylabel('Log Loss')\n",
    "# pyplot.title('XGBoost learning_rate=0.1 n_estimators vs Log Loss')\n",
    "# pyplot.show()"
   ]
  },
  {
   "cell_type": "markdown",
   "metadata": {},
   "source": [
    "XGB Regressor"
   ]
  },
  {
   "cell_type": "code",
   "execution_count": 65,
   "metadata": {},
   "outputs": [],
   "source": [
    "# from sklearn import ensemble\n",
    "\n",
    "# start_time  = datetime.datetime.now()\n",
    "\n",
    "\n",
    "# # params = {'n_estimators': 10000, 'max_depth': 10, 'min_samples_split': 5,\n",
    "# #           'learning_rate': 0.01, 'loss': 'ls'}\n",
    "# # clf = XGBRegressor(**params)\n",
    "# start_time  = datetime.datetime.now()\n",
    "# kf = 10\n",
    "# params = {'learning_rate' : 0.1,'n_estimators' : 100,'max_depth' : 6,'min_child_weight' : 4,'gamma' : 0.0,'reg_lambda' : 10,'booster' : 'gbtree' ,'subsample' : 0.6,'reg_alpha' : 0,'colsample_bytree' : 0.8,'n_jobs' : -1,'silent' : True,'scale_pos_weight' : 1}\n",
    "# for i in range(kf):\n",
    "#     X_tr, X_cv, y_tr, y_cv = cross_validation.train_test_split(Train_X, Train_Y, test_size = 0.2)\n",
    "\n",
    "#     clf = XGBRegressor(**params)\n",
    "#     clf.fit(X_tr, y_tr)\n",
    "\n",
    "#     pred = clf.predict(X_cv)\n",
    "    \n",
    "\n",
    "# ###########   Finding Mean and Standard Deviation\n",
    "    \n",
    "# #     cv_scores.append(scores.mean()*100)\n",
    "# #     print(\"k=%d %0.2f (+/- %0.2f)\" % (k_value, scores.mean()*100, scores.std()*100))\n",
    "\n",
    "# ############    MAPE\n",
    "    \n",
    "#     print('MAPE',np.mean(np.abs((y_cv - pred) / y_cv)) * 10)\n",
    "    \n",
    "# ###########     MSE\n",
    "    \n",
    "#     mse = mean_squared_error(y_cv, pred)\n",
    "#     RMSE=sqrt(mse)\n",
    "#     print(\"RMSE: %.2f\" % RMSE)\n",
    "\n",
    "# ###########     R2 Score\n",
    "\n",
    "#     r2 = r2_score(y_cv, pred)\n",
    "#     print(\"r2: %.2f\" % r2)\n",
    "\n",
    "# ##########      MAE    \n",
    "    \n",
    "# #     mae = mean_absolute_error(y_cv, pred)\n",
    "# #     print('MAE: %f' % mae)\n",
    "\n",
    "# end_time = datetime.datetime.now()\n",
    "# print ('Training Done..., Time Cost: %d' % ((end_time - start_time).seconds))"
   ]
  },
  {
   "cell_type": "markdown",
   "metadata": {},
   "source": [
    "XGBRegressor to Test the data"
   ]
  },
  {
   "cell_type": "code",
   "execution_count": 66,
   "metadata": {},
   "outputs": [
    {
     "name": "stdout",
     "output_type": "stream",
     "text": [
      "Training Done..., Time Cost: 17\n"
     ]
    }
   ],
   "source": [
    "from sklearn import ensemble\n",
    "import datetime\n",
    "\n",
    "start_time  = datetime.datetime.now()\n",
    "\n",
    "\n",
    "# params = {'n_estimators': 10000, 'max_depth': 10, 'min_samples_split': 5,\n",
    "#           'learning_rate': 0.01, 'loss': 'ls'}\n",
    "# clf = XGBRegressor(**params)\n",
    "start_time  = datetime.datetime.now()\n",
    "\n",
    "# params = {'learning_rate' : 0.7,'n_estimators' : 1000,'max_depth' : 4,'min_child_weight' : 4,'gamma' : 0,'reg_lambda' : 0,'booster' : 'gbtree' ,'subsample' : 0.9,'reg_alpha' : 0.01,'colsample_bytree' : 0.8,'n_jobs' : -1,'silent' : True,'scale_pos_weight' : 1}\n",
    "params = {'learning_rate' : 0.7,'n_estimators' : 1000,'max_depth' : 5,'min_child_weight' : 4,'gamma' : 0.3,'reg_lambda' : 0,'booster' : 'gbtree' ,'subsample' : 0.9,'reg_alpha' : 0.001,'colsample_bytree' : 0.9,'n_jobs' : -1,'silent' : True,'scale_pos_weight' : 1}\n",
    "\n",
    "\n",
    "clf = XGBRegressor(**params)\n",
    "clf.fit(Train_X, Train_Y)\n",
    "\n",
    "pred_XGB = clf.predict(Test_X)\n",
    "\n",
    "\n",
    "###########   Finding Mean and Standard Deviation\n",
    "\n",
    "#     cv_scores.append(scores.mean()*100)\n",
    "#     print(\"k=%d %0.2f (+/- %0.2f)\" % (k_value, scores.mean()*100, scores.std()*100))\n",
    "\n",
    "############    MAPE\n",
    "\n",
    "# print('MAPE',np.mean(np.abs((Test_Y - pred_XGB) / Test_Y)) * 10)\n",
    "\n",
    "###########     MSE\n",
    "\n",
    "# mse = mean_squared_error(Test_Y, pred_XGB)\n",
    "# RMSE=sqrt(mse)\n",
    "# print(\"RMSE: %.2f\" % RMSE)\n",
    "\n",
    "# ###########     R2 Score\n",
    "\n",
    "# r2 = r2_score(Test_Y, pred_XGB)\n",
    "# print(\"r2: %.2f\" % r2)\n",
    "\n",
    "# # ##########      MAE    \n",
    "\n",
    "# mae = mean_absolute_error(Test_Y, pred_XGB)\n",
    "# print('MAE: %f' % mae)\n",
    "\n",
    "end_time = datetime.datetime.now()\n",
    "print ('Training Done..., Time Cost: %d' % ((end_time - start_time).seconds))"
   ]
  },
  {
   "cell_type": "code",
   "execution_count": 67,
   "metadata": {
    "scrolled": false
   },
   "outputs": [
    {
     "ename": "NameError",
     "evalue": "name 'RandomForestRegressor' is not defined",
     "output_type": "error",
     "traceback": [
      "\u001b[1;31m---------------------------------------------------------------------------\u001b[0m",
      "\u001b[1;31mNameError\u001b[0m                                 Traceback (most recent call last)",
      "\u001b[1;32m<ipython-input-67-822d7efd5b0a>\u001b[0m in \u001b[0;36m<module>\u001b[1;34m()\u001b[0m\n\u001b[0;32m     10\u001b[0m \u001b[1;33m\u001b[0m\u001b[0m\n\u001b[0;32m     11\u001b[0m \u001b[1;33m\u001b[0m\u001b[0m\n\u001b[1;32m---> 12\u001b[1;33m \u001b[0mRF\u001b[0m\u001b[1;33m=\u001b[0m\u001b[0mRandomForestRegressor\u001b[0m\u001b[1;33m(\u001b[0m\u001b[1;33m)\u001b[0m\u001b[1;33m\u001b[0m\u001b[0m\n\u001b[0m\u001b[0;32m     13\u001b[0m \u001b[0mgrid_search\u001b[0m \u001b[1;33m=\u001b[0m \u001b[0mGridSearchCV\u001b[0m\u001b[1;33m(\u001b[0m\u001b[0mRF\u001b[0m\u001b[1;33m,\u001b[0m \u001b[0mgrid_1\u001b[0m\u001b[1;33m,\u001b[0m \u001b[0mn_jobs\u001b[0m\u001b[1;33m=\u001b[0m\u001b[1;33m-\u001b[0m\u001b[1;36m1\u001b[0m\u001b[1;33m,\u001b[0m \u001b[0mcv\u001b[0m\u001b[1;33m=\u001b[0m\u001b[1;36m5\u001b[0m\u001b[1;33m)\u001b[0m\u001b[1;33m\u001b[0m\u001b[0m\n\u001b[0;32m     14\u001b[0m \u001b[0mgrid_search\u001b[0m\u001b[1;33m.\u001b[0m\u001b[0mfit\u001b[0m\u001b[1;33m(\u001b[0m\u001b[0mTrain_X\u001b[0m\u001b[1;33m,\u001b[0m \u001b[0mTrain_Y\u001b[0m\u001b[1;33m)\u001b[0m\u001b[1;33m\u001b[0m\u001b[0m\n",
      "\u001b[1;31mNameError\u001b[0m: name 'RandomForestRegressor' is not defined"
     ]
    }
   ],
   "source": [
    "grid_1 = { \n",
    "                 \"n_estimators\"      : [100],\n",
    "#                \"criterion\"         : [\"gini\", \"entropy\"],\n",
    "               \"max_features\"      : [0.2,0.5,0.8],\n",
    "               \"max_depth\"         : [3,4,6,10],\n",
    "               \"min_samples_split\" : [2, 5, 20,50],\n",
    "#                 \"random_state\"     : range(1,42)\n",
    "         }\n",
    "\n",
    "\n",
    "\n",
    "RF=RandomForestRegressor()\n",
    "grid_search = GridSearchCV(RF, grid_1, n_jobs=-1, cv=5)\n",
    "grid_search.fit(Train_X, Train_Y)\n",
    "\n",
    "\n",
    "\n"
   ]
  },
  {
   "cell_type": "code",
   "execution_count": 68,
   "metadata": {},
   "outputs": [
    {
     "ename": "NameError",
     "evalue": "name 'grid_search' is not defined",
     "output_type": "error",
     "traceback": [
      "\u001b[1;31m---------------------------------------------------------------------------\u001b[0m",
      "\u001b[1;31mNameError\u001b[0m                                 Traceback (most recent call last)",
      "\u001b[1;32m<ipython-input-68-1159add50d47>\u001b[0m in \u001b[0;36m<module>\u001b[1;34m()\u001b[0m\n\u001b[1;32m----> 1\u001b[1;33m \u001b[0mgrid_search\u001b[0m\u001b[1;33m.\u001b[0m\u001b[0mgrid_scores_\u001b[0m\u001b[1;33m\u001b[0m\u001b[0m\n\u001b[0m",
      "\u001b[1;31mNameError\u001b[0m: name 'grid_search' is not defined"
     ]
    }
   ],
   "source": [
    "grid_search.grid_scores_"
   ]
  },
  {
   "cell_type": "code",
   "execution_count": 69,
   "metadata": {},
   "outputs": [
    {
     "ename": "NameError",
     "evalue": "name 'grid_search' is not defined",
     "output_type": "error",
     "traceback": [
      "\u001b[1;31m---------------------------------------------------------------------------\u001b[0m",
      "\u001b[1;31mNameError\u001b[0m                                 Traceback (most recent call last)",
      "\u001b[1;32m<ipython-input-69-99e6964859a0>\u001b[0m in \u001b[0;36m<module>\u001b[1;34m()\u001b[0m\n\u001b[1;32m----> 1\u001b[1;33m \u001b[0mgrid_search\u001b[0m\u001b[1;33m.\u001b[0m\u001b[0mbest_score_\u001b[0m\u001b[1;33m\u001b[0m\u001b[0m\n\u001b[0m",
      "\u001b[1;31mNameError\u001b[0m: name 'grid_search' is not defined"
     ]
    }
   ],
   "source": [
    "grid_search.best_score_"
   ]
  },
  {
   "cell_type": "code",
   "execution_count": 70,
   "metadata": {},
   "outputs": [
    {
     "name": "stdout",
     "output_type": "stream",
     "text": [
      "Training Done..., Time Cost: 117\n"
     ]
    }
   ],
   "source": [
    "#This code is to impute the incorrect values of Turnover.\n",
    "\n",
    "from sklearn.linear_model import LinearRegression\n",
    "from sklearn.neighbors import KNeighborsRegressor\n",
    "from sklearn.ensemble import RandomForestRegressor\n",
    "from sklearn.linear_model import Lasso\n",
    "import warnings\n",
    "warnings.filterwarnings('ignore')\n",
    "\n",
    "start_time  = datetime.datetime.now()\n",
    "# clf = Lasso()\n",
    "RF = RandomForestRegressor(n_estimators=1000, min_samples_split=5, max_features=0.8, max_depth=10, random_state=0)\n",
    "\n",
    "KNN = KNeighborsRegressor(n_neighbors=15, weights='distance', metric = 'euclidean')\n",
    "\n",
    "KNN.fit(Train_X, Train_Y)\n",
    "RF.fit(Train_X, Train_Y)\n",
    "\n",
    "pred_KNN = KNN.predict(Test_X)\n",
    "pred_RF = RF.predict(Test_X)\n",
    "\n",
    "actual = Test_Y\n",
    "\n",
    "############    MAPE\n",
    "\n",
    "# print('MAPE_KNN',np.mean(np.abs((actual - pred_KNN) / actual)) * 100)\n",
    "##############################################\n",
    "# r2_RF = r2_score(actual, pred_RF)\n",
    "# print(\"r2_RF: %.2f\" % r2_RF)\n",
    "\n",
    "# mae_RF = mean_absolute_error(actual, pred_RF)\n",
    "# print('MAE_RF: %f' % mae_RF)\n",
    "\n",
    "#########################################\n",
    "\n",
    "# r2_KNN = r2_score(actual, pred_KNN)\n",
    "# print(\"r2_KNN: %.2f\" % r2_KNN)\n",
    "\n",
    "# mae_KNN = mean_absolute_error(actual, pred_KNN)\n",
    "# print('MAE_KNN: %f' % mae_KNN)\n",
    "\n",
    "\n",
    "end_time = datetime.datetime.now()\n",
    "print ('Training Done..., Time Cost: %d' % ((end_time - start_time).seconds))"
   ]
  },
  {
   "cell_type": "code",
   "execution_count": 71,
   "metadata": {},
   "outputs": [
    {
     "data": {
      "text/plain": [
       "nan"
      ]
     },
     "execution_count": 71,
     "metadata": {},
     "output_type": "execute_result"
    }
   ],
   "source": [
    "np.mean(Test_Y)"
   ]
  },
  {
   "cell_type": "code",
   "execution_count": 72,
   "metadata": {},
   "outputs": [],
   "source": [
    "# def mape(y_cv, pred):\n",
    "#     return np.mean(np.abs((y_cv - pred) / y_cv)) * 100\n",
    "# print(mape(y_cv, pred))"
   ]
  },
  {
   "cell_type": "code",
   "execution_count": 73,
   "metadata": {},
   "outputs": [],
   "source": [
    "\n",
    "# MSE1 = mean_squared_error(Test_Y, pred)\n",
    "# rmse1=sqrt(MSE1)\n",
    "# print(rmse1)\n",
    "\n",
    "# rsqerror3=r2_score(Test_Y, pred)\n",
    "# print (rsqerror3)"
   ]
  },
  {
   "cell_type": "code",
   "execution_count": 74,
   "metadata": {},
   "outputs": [],
   "source": [
    "# T = Test_Y.reshape(-1,1)\n",
    "# P_KNN = pred_KNN.reshape(-1,1)\n",
    "# P_XGB = pred_XGB.reshape(-1,1)"
   ]
  },
  {
   "cell_type": "code",
   "execution_count": 75,
   "metadata": {},
   "outputs": [],
   "source": [
    "import math\n",
    "T1 = pd.DataFrame(Test_Y)\n",
    "T1_KNN = pd.DataFrame(pred_KNN)\n",
    "T1_XGB = pd.DataFrame(pred_XGB)\n",
    "T1_RF = pd.DataFrame(pred_RF)"
   ]
  },
  {
   "cell_type": "code",
   "execution_count": 76,
   "metadata": {},
   "outputs": [],
   "source": [
    "T1['KNN'] = pred_KNN\n",
    "T1['XGB'] = pred_XGB\n",
    "T1['RF'] = pred_RF"
   ]
  },
  {
   "cell_type": "code",
   "execution_count": 77,
   "metadata": {},
   "outputs": [
    {
     "name": "stdout",
     "output_type": "stream",
     "text": [
      "(20, 4)\n"
     ]
    },
    {
     "data": {
      "text/html": [
       "<div>\n",
       "<style scoped>\n",
       "    .dataframe tbody tr th:only-of-type {\n",
       "        vertical-align: middle;\n",
       "    }\n",
       "\n",
       "    .dataframe tbody tr th {\n",
       "        vertical-align: top;\n",
       "    }\n",
       "\n",
       "    .dataframe thead th {\n",
       "        text-align: right;\n",
       "    }\n",
       "</style>\n",
       "<table border=\"1\" class=\"dataframe\">\n",
       "  <thead>\n",
       "    <tr style=\"text-align: right;\">\n",
       "      <th></th>\n",
       "      <th>KNN</th>\n",
       "      <th>XGB</th>\n",
       "      <th>RF</th>\n",
       "    </tr>\n",
       "  </thead>\n",
       "  <tbody>\n",
       "    <tr>\n",
       "      <th>6</th>\n",
       "      <td>3.613922</td>\n",
       "      <td>2.923041</td>\n",
       "      <td>3.312154</td>\n",
       "    </tr>\n",
       "    <tr>\n",
       "      <th>12</th>\n",
       "      <td>3.139164</td>\n",
       "      <td>2.915920</td>\n",
       "      <td>3.312154</td>\n",
       "    </tr>\n",
       "    <tr>\n",
       "      <th>13</th>\n",
       "      <td>4.411875</td>\n",
       "      <td>4.648457</td>\n",
       "      <td>4.847376</td>\n",
       "    </tr>\n",
       "    <tr>\n",
       "      <th>14</th>\n",
       "      <td>4.330484</td>\n",
       "      <td>3.688511</td>\n",
       "      <td>4.026897</td>\n",
       "    </tr>\n",
       "    <tr>\n",
       "      <th>15</th>\n",
       "      <td>4.578934</td>\n",
       "      <td>5.287376</td>\n",
       "      <td>5.335779</td>\n",
       "    </tr>\n",
       "    <tr>\n",
       "      <th>16</th>\n",
       "      <td>3.254415</td>\n",
       "      <td>2.915920</td>\n",
       "      <td>3.312154</td>\n",
       "    </tr>\n",
       "    <tr>\n",
       "      <th>17</th>\n",
       "      <td>5.048620</td>\n",
       "      <td>5.049445</td>\n",
       "      <td>5.255242</td>\n",
       "    </tr>\n",
       "    <tr>\n",
       "      <th>36</th>\n",
       "      <td>4.123974</td>\n",
       "      <td>4.652948</td>\n",
       "      <td>4.847376</td>\n",
       "    </tr>\n",
       "    <tr>\n",
       "      <th>56</th>\n",
       "      <td>3.243818</td>\n",
       "      <td>2.310264</td>\n",
       "      <td>3.312154</td>\n",
       "    </tr>\n",
       "    <tr>\n",
       "      <th>47329</th>\n",
       "      <td>3.449969</td>\n",
       "      <td>3.928104</td>\n",
       "      <td>3.312154</td>\n",
       "    </tr>\n",
       "    <tr>\n",
       "      <th>47330</th>\n",
       "      <td>4.291342</td>\n",
       "      <td>5.681531</td>\n",
       "      <td>4.546069</td>\n",
       "    </tr>\n",
       "    <tr>\n",
       "      <th>47331</th>\n",
       "      <td>3.751597</td>\n",
       "      <td>4.929092</td>\n",
       "      <td>4.026897</td>\n",
       "    </tr>\n",
       "    <tr>\n",
       "      <th>47332</th>\n",
       "      <td>4.068945</td>\n",
       "      <td>4.929092</td>\n",
       "      <td>4.026897</td>\n",
       "    </tr>\n",
       "    <tr>\n",
       "      <th>47333</th>\n",
       "      <td>3.633543</td>\n",
       "      <td>3.929790</td>\n",
       "      <td>3.312154</td>\n",
       "    </tr>\n",
       "    <tr>\n",
       "      <th>47334</th>\n",
       "      <td>3.949544</td>\n",
       "      <td>4.922364</td>\n",
       "      <td>4.026897</td>\n",
       "    </tr>\n",
       "    <tr>\n",
       "      <th>47335</th>\n",
       "      <td>4.941216</td>\n",
       "      <td>6.420018</td>\n",
       "      <td>4.848917</td>\n",
       "    </tr>\n",
       "    <tr>\n",
       "      <th>47336</th>\n",
       "      <td>3.373308</td>\n",
       "      <td>3.923062</td>\n",
       "      <td>3.312154</td>\n",
       "    </tr>\n",
       "    <tr>\n",
       "      <th>47337</th>\n",
       "      <td>3.419671</td>\n",
       "      <td>3.923062</td>\n",
       "      <td>3.312154</td>\n",
       "    </tr>\n",
       "    <tr>\n",
       "      <th>52578</th>\n",
       "      <td>4.069341</td>\n",
       "      <td>4.936761</td>\n",
       "      <td>4.026897</td>\n",
       "    </tr>\n",
       "    <tr>\n",
       "      <th>58825</th>\n",
       "      <td>3.431547</td>\n",
       "      <td>3.320818</td>\n",
       "      <td>3.312154</td>\n",
       "    </tr>\n",
       "  </tbody>\n",
       "</table>\n",
       "</div>"
      ],
      "text/plain": [
       "            KNN       XGB        RF\n",
       "6      3.613922  2.923041  3.312154\n",
       "12     3.139164  2.915920  3.312154\n",
       "13     4.411875  4.648457  4.847376\n",
       "14     4.330484  3.688511  4.026897\n",
       "15     4.578934  5.287376  5.335779\n",
       "16     3.254415  2.915920  3.312154\n",
       "17     5.048620  5.049445  5.255242\n",
       "36     4.123974  4.652948  4.847376\n",
       "56     3.243818  2.310264  3.312154\n",
       "47329  3.449969  3.928104  3.312154\n",
       "47330  4.291342  5.681531  4.546069\n",
       "47331  3.751597  4.929092  4.026897\n",
       "47332  4.068945  4.929092  4.026897\n",
       "47333  3.633543  3.929790  3.312154\n",
       "47334  3.949544  4.922364  4.026897\n",
       "47335  4.941216  6.420018  4.848917\n",
       "47336  3.373308  3.923062  3.312154\n",
       "47337  3.419671  3.923062  3.312154\n",
       "52578  4.069341  4.936761  4.026897\n",
       "58825  3.431547  3.320818  3.312154"
      ]
     },
     "execution_count": 77,
     "metadata": {},
     "output_type": "execute_result"
    }
   ],
   "source": [
    "print(T1.shape)\n",
    "T1[['KNN','XGB','RF']]"
   ]
  },
  {
   "cell_type": "code",
   "execution_count": 78,
   "metadata": {},
   "outputs": [],
   "source": [
    "# def pow(row):\n",
    "#     x = row['Inv_Cubic']\n",
    "#     if x ==x:\n",
    "#         return math.pow(x,3)\n",
    "# T1['Inv_Cubic'] = T1.apply(pow, axis=1)"
   ]
  },
  {
   "cell_type": "code",
   "execution_count": 79,
   "metadata": {},
   "outputs": [],
   "source": [
    "def pow2(row2):\n",
    "    x = row2['KNN']\n",
    "    if x == x:\n",
    "        return math.pow(x,3)\n",
    "T1['KNN'] = T1.apply(pow2, axis=1)    "
   ]
  },
  {
   "cell_type": "code",
   "execution_count": 80,
   "metadata": {},
   "outputs": [],
   "source": [
    "def pow3(row3):\n",
    "    x = row3['XGB']\n",
    "    if x == x:\n",
    "        return math.pow(x,3)\n",
    "T1['XGB'] = T1.apply(pow3, axis=1) "
   ]
  },
  {
   "cell_type": "code",
   "execution_count": 81,
   "metadata": {},
   "outputs": [],
   "source": [
    "def pow4(row4):\n",
    "    x = row4['RF']\n",
    "    if x == x:\n",
    "        return math.pow(x,3)\n",
    "T1['RF'] = T1.apply(pow4, axis=1) "
   ]
  },
  {
   "cell_type": "code",
   "execution_count": 82,
   "metadata": {},
   "outputs": [],
   "source": [
    "# def Assessment(row4):\n",
    "#     y = row4['Assessment']\n",
    "#     if y == y:\n",
    "#         return 'Missing Data'\n",
    "#     T1['Assessment'] = T1.apply(Assessment, axis=1)"
   ]
  },
  {
   "cell_type": "code",
   "execution_count": 83,
   "metadata": {},
   "outputs": [
    {
     "data": {
      "text/html": [
       "<div>\n",
       "<style scoped>\n",
       "    .dataframe tbody tr th:only-of-type {\n",
       "        vertical-align: middle;\n",
       "    }\n",
       "\n",
       "    .dataframe tbody tr th {\n",
       "        vertical-align: top;\n",
       "    }\n",
       "\n",
       "    .dataframe thead th {\n",
       "        text-align: right;\n",
       "    }\n",
       "</style>\n",
       "<table border=\"1\" class=\"dataframe\">\n",
       "  <thead>\n",
       "    <tr style=\"text-align: right;\">\n",
       "      <th></th>\n",
       "      <th>turnover_missing</th>\n",
       "      <th>KNN</th>\n",
       "      <th>XGB</th>\n",
       "      <th>RF</th>\n",
       "    </tr>\n",
       "  </thead>\n",
       "  <tbody>\n",
       "    <tr>\n",
       "      <th>count</th>\n",
       "      <td>0.0</td>\n",
       "      <td>20.000000</td>\n",
       "      <td>20.000000</td>\n",
       "      <td>20.000000</td>\n",
       "    </tr>\n",
       "    <tr>\n",
       "      <th>mean</th>\n",
       "      <td>NaN</td>\n",
       "      <td>63.264844</td>\n",
       "      <td>91.029970</td>\n",
       "      <td>69.316326</td>\n",
       "    </tr>\n",
       "    <tr>\n",
       "      <th>std</th>\n",
       "      <td>NaN</td>\n",
       "      <td>28.386209</td>\n",
       "      <td>62.611320</td>\n",
       "      <td>39.082001</td>\n",
       "    </tr>\n",
       "    <tr>\n",
       "      <th>min</th>\n",
       "      <td>NaN</td>\n",
       "      <td>30.934437</td>\n",
       "      <td>12.330623</td>\n",
       "      <td>36.335543</td>\n",
       "    </tr>\n",
       "    <tr>\n",
       "      <th>25%</th>\n",
       "      <td>NaN</td>\n",
       "      <td>40.303707</td>\n",
       "      <td>46.792314</td>\n",
       "      <td>36.335543</td>\n",
       "    </tr>\n",
       "    <tr>\n",
       "      <th>50%</th>\n",
       "      <td>NaN</td>\n",
       "      <td>57.205142</td>\n",
       "      <td>80.566645</td>\n",
       "      <td>65.299771</td>\n",
       "    </tr>\n",
       "    <tr>\n",
       "      <th>75%</th>\n",
       "      <td>NaN</td>\n",
       "      <td>79.573272</td>\n",
       "      <td>119.896928</td>\n",
       "      <td>98.939106</td>\n",
       "    </tr>\n",
       "    <tr>\n",
       "      <th>max</th>\n",
       "      <td>NaN</td>\n",
       "      <td>128.682087</td>\n",
       "      <td>264.611479</td>\n",
       "      <td>151.912517</td>\n",
       "    </tr>\n",
       "  </tbody>\n",
       "</table>\n",
       "</div>"
      ],
      "text/plain": [
       "       turnover_missing         KNN         XGB          RF\n",
       "count               0.0   20.000000   20.000000   20.000000\n",
       "mean                NaN   63.264844   91.029970   69.316326\n",
       "std                 NaN   28.386209   62.611320   39.082001\n",
       "min                 NaN   30.934437   12.330623   36.335543\n",
       "25%                 NaN   40.303707   46.792314   36.335543\n",
       "50%                 NaN   57.205142   80.566645   65.299771\n",
       "75%                 NaN   79.573272  119.896928   98.939106\n",
       "max                 NaN  128.682087  264.611479  151.912517"
      ]
     },
     "execution_count": 83,
     "metadata": {},
     "output_type": "execute_result"
    }
   ],
   "source": [
    "T1.describe()"
   ]
  },
  {
   "cell_type": "code",
   "execution_count": 84,
   "metadata": {},
   "outputs": [
    {
     "data": {
      "text/plain": [
       "Index([u'Sale_date', u'product', u'Assessment', u'weekno', u'store_number',\n",
       "       u'volume', u'turnover', u'turnover_missing', u'Inv_Cubic'],\n",
       "      dtype='object')"
      ]
     },
     "execution_count": 84,
     "metadata": {},
     "output_type": "execute_result"
    }
   ],
   "source": [
    "fourth_set.columns"
   ]
  },
  {
   "cell_type": "code",
   "execution_count": 85,
   "metadata": {},
   "outputs": [],
   "source": [
    "T1['Assessment'] = fourth_set[fourth_set[['Sale_date','product','Assessment','weekno','store_number','volume','turnover','turnover_missing']].Assessment == 'Missing Data'].Assessment"
   ]
  },
  {
   "cell_type": "code",
   "execution_count": 86,
   "metadata": {},
   "outputs": [],
   "source": [
    "fourth_set.loc[fourth_set['Assessment']=='Missing Data','XGB'] = T1['XGB']\n",
    "fourth_set.loc[fourth_set['Assessment']=='Missing Data','KNN'] = T1['KNN']\n",
    "fourth_set.loc[fourth_set['Assessment']=='Missing Data','RF'] = T1['RF']"
   ]
  },
  {
   "cell_type": "code",
   "execution_count": 87,
   "metadata": {},
   "outputs": [],
   "source": [
    "fourth_set.loc[fourth_set['XGB'].isnull(),'XGB'] = fourth_set['turnover']\n",
    "fourth_set.loc[fourth_set['KNN'].isnull(),'KNN'] = fourth_set['turnover']\n",
    "fourth_set.loc[fourth_set['RF'].isnull(),'RF'] = fourth_set['turnover']"
   ]
  },
  {
   "cell_type": "code",
   "execution_count": 88,
   "metadata": {},
   "outputs": [
    {
     "data": {
      "text/html": [
       "<div>\n",
       "<style scoped>\n",
       "    .dataframe tbody tr th:only-of-type {\n",
       "        vertical-align: middle;\n",
       "    }\n",
       "\n",
       "    .dataframe tbody tr th {\n",
       "        vertical-align: top;\n",
       "    }\n",
       "\n",
       "    .dataframe thead th {\n",
       "        text-align: right;\n",
       "    }\n",
       "</style>\n",
       "<table border=\"1\" class=\"dataframe\">\n",
       "  <thead>\n",
       "    <tr style=\"text-align: right;\">\n",
       "      <th></th>\n",
       "      <th>turnover</th>\n",
       "      <th>XGB</th>\n",
       "      <th>KNN</th>\n",
       "      <th>RF</th>\n",
       "    </tr>\n",
       "  </thead>\n",
       "  <tbody>\n",
       "    <tr>\n",
       "      <th>6</th>\n",
       "      <td>24.91</td>\n",
       "      <td>24.974958</td>\n",
       "      <td>47.199395</td>\n",
       "      <td>36.335543</td>\n",
       "    </tr>\n",
       "    <tr>\n",
       "      <th>12</th>\n",
       "      <td>24.91</td>\n",
       "      <td>24.792883</td>\n",
       "      <td>30.934437</td>\n",
       "      <td>36.335543</td>\n",
       "    </tr>\n",
       "    <tr>\n",
       "      <th>13</th>\n",
       "      <td>99.64</td>\n",
       "      <td>100.444540</td>\n",
       "      <td>85.875568</td>\n",
       "      <td>113.899042</td>\n",
       "    </tr>\n",
       "    <tr>\n",
       "      <th>14</th>\n",
       "      <td>48.10</td>\n",
       "      <td>50.182606</td>\n",
       "      <td>81.209972</td>\n",
       "      <td>65.299771</td>\n",
       "    </tr>\n",
       "    <tr>\n",
       "      <th>15</th>\n",
       "      <td>149.46</td>\n",
       "      <td>147.815701</td>\n",
       "      <td>96.004829</td>\n",
       "      <td>151.912517</td>\n",
       "    </tr>\n",
       "    <tr>\n",
       "      <th>16</th>\n",
       "      <td>24.91</td>\n",
       "      <td>24.792883</td>\n",
       "      <td>34.468218</td>\n",
       "      <td>36.335543</td>\n",
       "    </tr>\n",
       "    <tr>\n",
       "      <th>17</th>\n",
       "      <td>124.55</td>\n",
       "      <td>128.745180</td>\n",
       "      <td>128.682087</td>\n",
       "      <td>145.136986</td>\n",
       "    </tr>\n",
       "    <tr>\n",
       "      <th>36</th>\n",
       "      <td>99.64</td>\n",
       "      <td>100.736000</td>\n",
       "      <td>70.137096</td>\n",
       "      <td>113.899042</td>\n",
       "    </tr>\n",
       "    <tr>\n",
       "      <th>56</th>\n",
       "      <td>11.68</td>\n",
       "      <td>12.330623</td>\n",
       "      <td>34.132593</td>\n",
       "      <td>36.335543</td>\n",
       "    </tr>\n",
       "    <tr>\n",
       "      <th>47329</th>\n",
       "      <td>60.34</td>\n",
       "      <td>60.610634</td>\n",
       "      <td>41.062516</td>\n",
       "      <td>36.335543</td>\n",
       "    </tr>\n",
       "    <tr>\n",
       "      <th>47330</th>\n",
       "      <td>142.23</td>\n",
       "      <td>183.398649</td>\n",
       "      <td>79.027705</td>\n",
       "      <td>93.952461</td>\n",
       "    </tr>\n",
       "    <tr>\n",
       "      <th>47331</th>\n",
       "      <td>136.20</td>\n",
       "      <td>119.756958</td>\n",
       "      <td>52.801762</td>\n",
       "      <td>65.299771</td>\n",
       "    </tr>\n",
       "    <tr>\n",
       "      <th>47332</th>\n",
       "      <td>136.20</td>\n",
       "      <td>119.756958</td>\n",
       "      <td>67.366712</td>\n",
       "      <td>65.299771</td>\n",
       "    </tr>\n",
       "    <tr>\n",
       "      <th>47333</th>\n",
       "      <td>68.10</td>\n",
       "      <td>60.688750</td>\n",
       "      <td>47.972331</td>\n",
       "      <td>36.335543</td>\n",
       "    </tr>\n",
       "    <tr>\n",
       "      <th>47334</th>\n",
       "      <td>136.20</td>\n",
       "      <td>119.267225</td>\n",
       "      <td>61.608522</td>\n",
       "      <td>65.299771</td>\n",
       "    </tr>\n",
       "    <tr>\n",
       "      <th>47335</th>\n",
       "      <td>241.36</td>\n",
       "      <td>264.611479</td>\n",
       "      <td>120.642812</td>\n",
       "      <td>114.007738</td>\n",
       "    </tr>\n",
       "    <tr>\n",
       "      <th>47336</th>\n",
       "      <td>47.41</td>\n",
       "      <td>60.377547</td>\n",
       "      <td>38.385555</td>\n",
       "      <td>36.335543</td>\n",
       "    </tr>\n",
       "    <tr>\n",
       "      <th>47337</th>\n",
       "      <td>47.41</td>\n",
       "      <td>60.377547</td>\n",
       "      <td>39.990149</td>\n",
       "      <td>36.335543</td>\n",
       "    </tr>\n",
       "    <tr>\n",
       "      <th>52578</th>\n",
       "      <td>127.58</td>\n",
       "      <td>120.316837</td>\n",
       "      <td>67.386393</td>\n",
       "      <td>65.299771</td>\n",
       "    </tr>\n",
       "    <tr>\n",
       "      <th>58825</th>\n",
       "      <td>36.21</td>\n",
       "      <td>36.621438</td>\n",
       "      <td>40.408226</td>\n",
       "      <td>36.335543</td>\n",
       "    </tr>\n",
       "  </tbody>\n",
       "</table>\n",
       "</div>"
      ],
      "text/plain": [
       "       turnover         XGB         KNN          RF\n",
       "6         24.91   24.974958   47.199395   36.335543\n",
       "12        24.91   24.792883   30.934437   36.335543\n",
       "13        99.64  100.444540   85.875568  113.899042\n",
       "14        48.10   50.182606   81.209972   65.299771\n",
       "15       149.46  147.815701   96.004829  151.912517\n",
       "16        24.91   24.792883   34.468218   36.335543\n",
       "17       124.55  128.745180  128.682087  145.136986\n",
       "36        99.64  100.736000   70.137096  113.899042\n",
       "56        11.68   12.330623   34.132593   36.335543\n",
       "47329     60.34   60.610634   41.062516   36.335543\n",
       "47330    142.23  183.398649   79.027705   93.952461\n",
       "47331    136.20  119.756958   52.801762   65.299771\n",
       "47332    136.20  119.756958   67.366712   65.299771\n",
       "47333     68.10   60.688750   47.972331   36.335543\n",
       "47334    136.20  119.267225   61.608522   65.299771\n",
       "47335    241.36  264.611479  120.642812  114.007738\n",
       "47336     47.41   60.377547   38.385555   36.335543\n",
       "47337     47.41   60.377547   39.990149   36.335543\n",
       "52578    127.58  120.316837   67.386393   65.299771\n",
       "58825     36.21   36.621438   40.408226   36.335543"
      ]
     },
     "execution_count": 88,
     "metadata": {},
     "output_type": "execute_result"
    }
   ],
   "source": [
    "fourth_set[fourth_set['Assessment']=='Missing Data'][['turnover','XGB','KNN','RF']]"
   ]
  },
  {
   "cell_type": "markdown",
   "metadata": {},
   "source": [
    "<p> Observations <br>\n",
    "    1. For Turnover Mean is 4.23 and Median is 2, so need to check the BoxCox or log transform to make them gaussian. <br>\n",
    "    2.  Tried with Cubic root Transformation</p>"
   ]
  },
  {
   "cell_type": "code",
   "execution_count": 89,
   "metadata": {},
   "outputs": [
    {
     "data": {
      "text/html": [
       "<div>\n",
       "<style scoped>\n",
       "    .dataframe tbody tr th:only-of-type {\n",
       "        vertical-align: middle;\n",
       "    }\n",
       "\n",
       "    .dataframe tbody tr th {\n",
       "        vertical-align: top;\n",
       "    }\n",
       "\n",
       "    .dataframe thead th {\n",
       "        text-align: right;\n",
       "    }\n",
       "</style>\n",
       "<table border=\"1\" class=\"dataframe\">\n",
       "  <thead>\n",
       "    <tr style=\"text-align: right;\">\n",
       "      <th></th>\n",
       "      <th>Sale_date</th>\n",
       "      <th>product</th>\n",
       "      <th>Assessment</th>\n",
       "      <th>weekno</th>\n",
       "      <th>store_number</th>\n",
       "      <th>volume</th>\n",
       "      <th>turnover</th>\n",
       "      <th>turnover_missing</th>\n",
       "      <th>Inv_Cubic</th>\n",
       "      <th>XGB</th>\n",
       "      <th>KNN</th>\n",
       "      <th>RF</th>\n",
       "    </tr>\n",
       "  </thead>\n",
       "  <tbody>\n",
       "    <tr>\n",
       "      <th>0</th>\n",
       "      <td>2017-04-07</td>\n",
       "      <td>CREST_B+S_2PACK_75ML</td>\n",
       "      <td>Right Data</td>\n",
       "      <td>14</td>\n",
       "      <td>2732</td>\n",
       "      <td>2.0</td>\n",
       "      <td>48.10</td>\n",
       "      <td>48.10</td>\n",
       "      <td>3.636763</td>\n",
       "      <td>48.10</td>\n",
       "      <td>48.10</td>\n",
       "      <td>48.10</td>\n",
       "    </tr>\n",
       "    <tr>\n",
       "      <th>1</th>\n",
       "      <td>2017-04-07</td>\n",
       "      <td>CREST_B+S_2PACK_75ML</td>\n",
       "      <td>Right Data</td>\n",
       "      <td>14</td>\n",
       "      <td>2768</td>\n",
       "      <td>6.0</td>\n",
       "      <td>149.46</td>\n",
       "      <td>149.46</td>\n",
       "      <td>5.306909</td>\n",
       "      <td>149.46</td>\n",
       "      <td>149.46</td>\n",
       "      <td>149.46</td>\n",
       "    </tr>\n",
       "  </tbody>\n",
       "</table>\n",
       "</div>"
      ],
      "text/plain": [
       "   Sale_date               product  Assessment  weekno  store_number  volume  \\\n",
       "0 2017-04-07  CREST_B+S_2PACK_75ML  Right Data      14          2732     2.0   \n",
       "1 2017-04-07  CREST_B+S_2PACK_75ML  Right Data      14          2768     6.0   \n",
       "\n",
       "   turnover  turnover_missing  Inv_Cubic     XGB     KNN      RF  \n",
       "0     48.10             48.10   3.636763   48.10   48.10   48.10  \n",
       "1    149.46            149.46   5.306909  149.46  149.46  149.46  "
      ]
     },
     "execution_count": 89,
     "metadata": {},
     "output_type": "execute_result"
    }
   ],
   "source": [
    "fourth_set.head(2)"
   ]
  },
  {
   "cell_type": "code",
   "execution_count": null,
   "metadata": {},
   "outputs": [],
   "source": [
    "fourth_set =fourth_set[['Sale_date','product','Assessment','weekno','store_number','volume','turnover','turnover_missing','XGB','KNN', 'RF']]"
   ]
  },
  {
   "cell_type": "code",
   "execution_count": null,
   "metadata": {},
   "outputs": [],
   "source": [
    "fifth_set = fourth_set[fourth_set[['Sale_date','product','Assessment','weekno','store_number','volume','turnover','turnover_missing','XGB','KNN','RF']].Assessment=='Missing Data']"
   ]
  },
  {
   "cell_type": "code",
   "execution_count": null,
   "metadata": {},
   "outputs": [],
   "source": [
    "fifth_set.shape"
   ]
  },
  {
   "cell_type": "code",
   "execution_count": null,
   "metadata": {},
   "outputs": [],
   "source": [
    "fifth_set['Retailer'] = 'Boots_UK'"
   ]
  },
  {
   "cell_type": "code",
   "execution_count": null,
   "metadata": {},
   "outputs": [],
   "source": [
    "fifth_set.head()"
   ]
  },
  {
   "cell_type": "code",
   "execution_count": null,
   "metadata": {},
   "outputs": [],
   "source": [
    "fifth_set.to_csv(r'D:\\CDSDQ-POC\\Boots_UK\\boots_UK.csv')"
   ]
  },
  {
   "cell_type": "code",
   "execution_count": null,
   "metadata": {},
   "outputs": [],
   "source": [
    "print('MAPE_XGB',np.mean(np.abs((fifth_set.turnover - fifth_set.XGB) / fifth_set.turnover)) * 100)\n",
    "##########     MSE\n",
    "\n",
    "mse = mean_squared_error(fifth_set.turnover, fifth_set.XGB)\n",
    "RMSE=sqrt(mse)\n",
    "print(\"RMSE: %.2f\" % RMSE)\n",
    "\n",
    "###########     R2 Score\n",
    "\n",
    "r2 = r2_score(fifth_set.turnover, fifth_set.XGB)\n",
    "print(\"r2: %.2f\" % r2)\n",
    "\n",
    "# ##########      MAE    \n",
    "\n",
    "\n",
    "mae = mean_absolute_error(fifth_set.turnover, fifth_set.XGB)\n",
    "print('MAE: %f' % mae)"
   ]
  },
  {
   "cell_type": "code",
   "execution_count": null,
   "metadata": {},
   "outputs": [],
   "source": [
    "MAPE = np.mean(np.abs((fifth_set.turnover - fifth_set.XGB) / fifth_set.turnover)) * 100\n",
    "XGBaccuracy = 100-np.mean(MAPE)\n",
    "print('Accuracy Avg of XGB: %.2f'%XGBaccuracy)"
   ]
  },
  {
   "cell_type": "code",
   "execution_count": null,
   "metadata": {},
   "outputs": [],
   "source": [
    "MAPE = np.mean(np.abs((fifth_set.turnover - fifth_set.KNN) / fifth_set.turnover)) * 100\n",
    "KNNaccuracy = 100-np.mean(MAPE)\n",
    "print('Accuracy Avg of KNN: %.2f'%KNNaccuracy)"
   ]
  },
  {
   "cell_type": "code",
   "execution_count": null,
   "metadata": {},
   "outputs": [],
   "source": [
    "MAPE = np.mean(np.abs((fifth_set.turnover - fifth_set.RF) / fifth_set.turnover)) * 100\n",
    "RFaccuracy = 100-np.mean(MAPE)\n",
    "print('Accuracy Avg of XGB: %.2f'%XGBaccuracy)\n",
    "print('Accuracy Avg of KNN: %.2f'%KNNaccuracy)\n",
    "print('Accuracy Avg of RF: %.2f'%RFaccuracy)"
   ]
  },
  {
   "cell_type": "code",
   "execution_count": null,
   "metadata": {},
   "outputs": [],
   "source": [
    "fifth_set = fifth_set[['turnover','XGB','KNN','RF']]\n",
    "fifth_set.head(2)"
   ]
  },
  {
   "cell_type": "code",
   "execution_count": null,
   "metadata": {},
   "outputs": [],
   "source": [
    "fifth_set['XGB%']= np.abs(100-((np.abs((fifth_set.turnover - fifth_set.XGB) / fifth_set.turnover))*100))\n",
    "fifth_set['KNN%']= np.abs(100-((np.abs((fifth_set.turnover - fifth_set.KNN) / fifth_set.turnover))*100))\n",
    "fifth_set['RF%']= np.abs(100-((np.abs((fifth_set.turnover - fifth_set.RF) / fifth_set.turnover))*100))"
   ]
  },
  {
   "cell_type": "code",
   "execution_count": null,
   "metadata": {},
   "outputs": [],
   "source": [
    "fifth_set"
   ]
  },
  {
   "cell_type": "code",
   "execution_count": null,
   "metadata": {},
   "outputs": [],
   "source": [
    "# import os\n",
    "# import pandas\n",
    "# # import pyodbc \n",
    "# from impala.dbapi import connect\n",
    "# from impala.util import as_pandas\n",
    "\n",
    "# # Specify HIVE_HMS_HOST as an environment variable in your project settings\n",
    "# HIVE_HMS_HOST = os.getenv('HIVE_HMS_HOST', '192.168.184.129')\n",
    "\n",
    "# # This connection string depends on your cluster setup and authentication mechanism\n",
    "# conn = connect(host=HIVE_HMS_HOST,\n",
    "#                port='10000',\n",
    "#                auth_mechanism='PLAIN',\n",
    "#                user='cloudera', password='cloudera', database='cdsdq' )\n",
    "# cursor = conn.cursor()\n",
    "# cursor.execute('''CREATE EXTERNAL TABLE cdsdq.boots_retailer (\n",
    "# index int, sale_date string, product string, Assessment string,\n",
    "# weekno int, store_number string,\n",
    "# volume DECIMAL(18,2), turnover DECIMAL(18,2), turnover_missing DECIMAL(18,2),XGB DECIMAL(18,2), KNN DECIMAL(18,2)\n",
    "# )\n",
    "# ROW FORMAT DELIMITED\n",
    "# FIELDS TERMINATED BY ','\n",
    "# STORED AS TEXTFILE\n",
    "# LOCATION '/user/cloudera/CDSDQ'\n",
    "\n",
    "# ''')\n",
    "# cursor.close()\n",
    "              \n",
    "                                                              \n",
    "\n",
    "\n"
   ]
  },
  {
   "cell_type": "code",
   "execution_count": null,
   "metadata": {},
   "outputs": [],
   "source": []
  },
  {
   "cell_type": "code",
   "execution_count": null,
   "metadata": {},
   "outputs": [],
   "source": []
  },
  {
   "cell_type": "code",
   "execution_count": null,
   "metadata": {},
   "outputs": [],
   "source": []
  },
  {
   "cell_type": "code",
   "execution_count": null,
   "metadata": {},
   "outputs": [],
   "source": []
  },
  {
   "cell_type": "code",
   "execution_count": null,
   "metadata": {},
   "outputs": [],
   "source": [
    "# fourth_set.to_csv('http://quickstart.cloudera:8888/hue/filebrowser/view%3D/user/cloudera/#/user/cloudera/CDSDQ/test.csv',sep='\\t', index=False)\n",
    "\n",
    "# load_statement = \"hive -e \\\"LOAD DATA LOCAL INPATH '/home/user/cloudera/test.csv' OVERWRITE INTO TABLE boots_retailer\\\"\"\n",
    "\n",
    "# os.system(load_statement);"
   ]
  },
  {
   "cell_type": "code",
   "execution_count": null,
   "metadata": {},
   "outputs": [],
   "source": []
  }
 ],
 "metadata": {
  "kernelspec": {
   "display_name": "Python 3",
   "language": "python",
   "name": "python3"
  },
  "language_info": {
   "codemirror_mode": {
    "name": "ipython",
    "version": 3
   },
   "file_extension": ".py",
   "mimetype": "text/x-python",
   "name": "python",
   "nbconvert_exporter": "python",
   "pygments_lexer": "ipython3",
   "version": "3.6.4"
  }
 },
 "nbformat": 4,
 "nbformat_minor": 2
}
