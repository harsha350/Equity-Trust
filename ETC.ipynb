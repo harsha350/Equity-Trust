{
 "cells": [
  {
   "cell_type": "code",
   "execution_count": 1,
   "metadata": {},
   "outputs": [],
   "source": [
    "import pandas as pd\n",
    "import numpy as np\n",
    "import scipy as sc\n",
    "from matplotlib import pyplot as plt\n",
    "import seaborn as sns\n",
    "import sqlite3\n",
    "import numexpr\n"
   ]
  },
  {
   "cell_type": "code",
   "execution_count": 2,
   "metadata": {},
   "outputs": [],
   "source": [
    "data = pd.read_excel(r'D:\\Python27\\ETCSalesData.xlsx')"
   ]
  },
  {
   "cell_type": "code",
   "execution_count": 3,
   "metadata": {},
   "outputs": [],
   "source": [
    "from sklearn.preprocessing import LabelEncoder\n",
    "from sklearn import preprocessing\n",
    "from sklearn.feature_selection import RFE\n",
    "from sklearn.linear_model import LogisticRegression"
   ]
  },
  {
   "cell_type": "code",
   "execution_count": 4,
   "metadata": {},
   "outputs": [
    {
     "data": {
      "text/html": [
       "<div>\n",
       "<style scoped>\n",
       "    .dataframe tbody tr th:only-of-type {\n",
       "        vertical-align: middle;\n",
       "    }\n",
       "\n",
       "    .dataframe tbody tr th {\n",
       "        vertical-align: top;\n",
       "    }\n",
       "\n",
       "    .dataframe thead th {\n",
       "        text-align: right;\n",
       "    }\n",
       "</style>\n",
       "<table border=\"1\" class=\"dataframe\">\n",
       "  <thead>\n",
       "    <tr style=\"text-align: right;\">\n",
       "      <th></th>\n",
       "      <th>CycleStartDateKey</th>\n",
       "      <th>CycleStartDate</th>\n",
       "      <th>CycleStartYear</th>\n",
       "      <th>CycleStartQuarter</th>\n",
       "      <th>CycleStartYearQuarter</th>\n",
       "      <th>CycleStartYearMonth</th>\n",
       "      <th>CycleStartYearMonthName</th>\n",
       "      <th>CycleStartMonthName</th>\n",
       "      <th>CycleStartMonthNameLong</th>\n",
       "      <th>CycleStartYearWeek</th>\n",
       "      <th>...</th>\n",
       "      <th>FeesNotInvoiced</th>\n",
       "      <th>FeesPaid</th>\n",
       "      <th>FeesUnpaid</th>\n",
       "      <th>FeesWrittenOff</th>\n",
       "      <th>LeadScore</th>\n",
       "      <th>LeadGrade</th>\n",
       "      <th>YearCycleSequece</th>\n",
       "      <th>LeadsEngaged</th>\n",
       "      <th>LeadsQualified</th>\n",
       "      <th>LeadsPromoted</th>\n",
       "    </tr>\n",
       "  </thead>\n",
       "  <tbody>\n",
       "    <tr>\n",
       "      <th>0</th>\n",
       "      <td>20170615</td>\n",
       "      <td>2017-06-15</td>\n",
       "      <td>2017</td>\n",
       "      <td>Q2</td>\n",
       "      <td>2017 Q2</td>\n",
       "      <td>201706</td>\n",
       "      <td>2017 Jun</td>\n",
       "      <td>Jun</td>\n",
       "      <td>June</td>\n",
       "      <td>2017-W24</td>\n",
       "      <td>...</td>\n",
       "      <td>0</td>\n",
       "      <td>0</td>\n",
       "      <td>0</td>\n",
       "      <td>0</td>\n",
       "      <td>100</td>\n",
       "      <td>A</td>\n",
       "      <td>1</td>\n",
       "      <td>1</td>\n",
       "      <td>1</td>\n",
       "      <td>1</td>\n",
       "    </tr>\n",
       "    <tr>\n",
       "      <th>1</th>\n",
       "      <td>20170711</td>\n",
       "      <td>2017-07-11</td>\n",
       "      <td>2017</td>\n",
       "      <td>Q3</td>\n",
       "      <td>2017 Q3</td>\n",
       "      <td>201707</td>\n",
       "      <td>2017 Jul</td>\n",
       "      <td>Jul</td>\n",
       "      <td>July</td>\n",
       "      <td>2017-W28</td>\n",
       "      <td>...</td>\n",
       "      <td>0</td>\n",
       "      <td>0</td>\n",
       "      <td>0</td>\n",
       "      <td>0</td>\n",
       "      <td>65</td>\n",
       "      <td>B</td>\n",
       "      <td>1</td>\n",
       "      <td>1</td>\n",
       "      <td>0</td>\n",
       "      <td>0</td>\n",
       "    </tr>\n",
       "    <tr>\n",
       "      <th>2</th>\n",
       "      <td>20180705</td>\n",
       "      <td>2018-07-05</td>\n",
       "      <td>2018</td>\n",
       "      <td>Q3</td>\n",
       "      <td>2018 Q3</td>\n",
       "      <td>201807</td>\n",
       "      <td>2018 Jul</td>\n",
       "      <td>Jul</td>\n",
       "      <td>July</td>\n",
       "      <td>2018-W27</td>\n",
       "      <td>...</td>\n",
       "      <td>0</td>\n",
       "      <td>1</td>\n",
       "      <td>0</td>\n",
       "      <td>0</td>\n",
       "      <td>100</td>\n",
       "      <td>A</td>\n",
       "      <td>1</td>\n",
       "      <td>1</td>\n",
       "      <td>1</td>\n",
       "      <td>1</td>\n",
       "    </tr>\n",
       "    <tr>\n",
       "      <th>3</th>\n",
       "      <td>20170203</td>\n",
       "      <td>2017-02-03</td>\n",
       "      <td>2017</td>\n",
       "      <td>Q1</td>\n",
       "      <td>2017 Q1</td>\n",
       "      <td>201702</td>\n",
       "      <td>2017 Feb</td>\n",
       "      <td>Feb</td>\n",
       "      <td>February</td>\n",
       "      <td>2017-W05</td>\n",
       "      <td>...</td>\n",
       "      <td>0</td>\n",
       "      <td>0</td>\n",
       "      <td>0</td>\n",
       "      <td>0</td>\n",
       "      <td>100</td>\n",
       "      <td>A</td>\n",
       "      <td>1</td>\n",
       "      <td>1</td>\n",
       "      <td>1</td>\n",
       "      <td>1</td>\n",
       "    </tr>\n",
       "    <tr>\n",
       "      <th>4</th>\n",
       "      <td>20180425</td>\n",
       "      <td>2018-04-25</td>\n",
       "      <td>2018</td>\n",
       "      <td>Q2</td>\n",
       "      <td>2018 Q2</td>\n",
       "      <td>201804</td>\n",
       "      <td>2018 Apr</td>\n",
       "      <td>Apr</td>\n",
       "      <td>April</td>\n",
       "      <td>2018-W17</td>\n",
       "      <td>...</td>\n",
       "      <td>0</td>\n",
       "      <td>0</td>\n",
       "      <td>0</td>\n",
       "      <td>0</td>\n",
       "      <td>65</td>\n",
       "      <td>B</td>\n",
       "      <td>1</td>\n",
       "      <td>1</td>\n",
       "      <td>1</td>\n",
       "      <td>0</td>\n",
       "    </tr>\n",
       "  </tbody>\n",
       "</table>\n",
       "<p>5 rows × 48 columns</p>\n",
       "</div>"
      ],
      "text/plain": [
       "   CycleStartDateKey CycleStartDate  CycleStartYear CycleStartQuarter  \\\n",
       "0           20170615     2017-06-15            2017                Q2   \n",
       "1           20170711     2017-07-11            2017                Q3   \n",
       "2           20180705     2018-07-05            2018                Q3   \n",
       "3           20170203     2017-02-03            2017                Q1   \n",
       "4           20180425     2018-04-25            2018                Q2   \n",
       "\n",
       "  CycleStartYearQuarter  CycleStartYearMonth CycleStartYearMonthName  \\\n",
       "0               2017 Q2               201706                2017 Jun   \n",
       "1               2017 Q3               201707                2017 Jul   \n",
       "2               2018 Q3               201807                2018 Jul   \n",
       "3               2017 Q1               201702                2017 Feb   \n",
       "4               2018 Q2               201804                2018 Apr   \n",
       "\n",
       "  CycleStartMonthName CycleStartMonthNameLong CycleStartYearWeek  \\\n",
       "0                 Jun                    June           2017-W24   \n",
       "1                 Jul                    July           2017-W28   \n",
       "2                 Jul                    July           2018-W27   \n",
       "3                 Feb                February           2017-W05   \n",
       "4                 Apr                   April           2018-W17   \n",
       "\n",
       "       ...      FeesNotInvoiced FeesPaid FeesUnpaid FeesWrittenOff LeadScore  \\\n",
       "0      ...                    0        0          0              0       100   \n",
       "1      ...                    0        0          0              0        65   \n",
       "2      ...                    0        1          0              0       100   \n",
       "3      ...                    0        0          0              0       100   \n",
       "4      ...                    0        0          0              0        65   \n",
       "\n",
       "  LeadGrade YearCycleSequece LeadsEngaged LeadsQualified LeadsPromoted  \n",
       "0         A                1            1              1             1  \n",
       "1         B                1            1              0             0  \n",
       "2         A                1            1              1             1  \n",
       "3         A                1            1              1             1  \n",
       "4         B                1            1              1             0  \n",
       "\n",
       "[5 rows x 48 columns]"
      ]
     },
     "execution_count": 4,
     "metadata": {},
     "output_type": "execute_result"
    }
   ],
   "source": [
    "data.head()\n",
    "# print(data.describe())"
   ]
  },
  {
   "cell_type": "markdown",
   "metadata": {},
   "source": [
    "<p> <h1> Percentage of Accounts Opened / Not Opened </h1></p>"
   ]
  },
  {
   "cell_type": "code",
   "execution_count": 5,
   "metadata": {},
   "outputs": [
    {
     "name": "stdout",
     "output_type": "stream",
     "text": [
      "Total number of Accounts (106210, 48)\n",
      "*=*=*=*=*=*=*=*=*=*=*=*=*=*=*=*=*=*=*=*=*=*=*=*=*=*=*=*=*=*=*=*=*=*=*=*=*=*=*=*=*=*=*=*=*=*=*=*=*=*=\n",
      "(13986, 48)\n",
      "(92224, 48)\n",
      "*=*=*=*=*=*=*=*=*=*=*=*=*=*=*=*=*=*=*=*=*=*=*=*=*=*=*=*=*=*=*=*=*=*=*=*=*=*=*=*=*=*=*=*=*=*=*=*=*=*=\n",
      "Percentage of accounts opened successfully: 13.168251577064307\n",
      "Percentage of accounts not opened successfully: 86.83174842293569\n"
     ]
    }
   ],
   "source": [
    "print(\"Total number of Accounts\", data.shape)\n",
    "# print(data.describe())\n",
    "\n",
    "print('*='*50)\n",
    "\n",
    "data_iswon_1 = data[data['isWon']==1]\n",
    "data_iswon_0 = data[data['isWon']==0]\n",
    "print(data_iswon_1.shape)\n",
    "print(data_iswon_0.shape)\n",
    "\n",
    "print('*='*50)\n",
    "\n",
    "print(\"Percentage of accounts opened successfully:\", (len(data_iswon_1['isWon'])/data['isWon'].shape[0])*100)\n",
    "print(\"Percentage of accounts not opened successfully:\", (len(data_iswon_0['isWon'])/data['isWon'].shape[0])*100)"
   ]
  },
  {
   "cell_type": "code",
   "execution_count": 6,
   "metadata": {},
   "outputs": [
    {
     "name": "stdout",
     "output_type": "stream",
     "text": [
      "1    13986\n",
      "Name: isWon, dtype: int64\n",
      "106210\n"
     ]
    }
   ],
   "source": [
    "print(data_iswon_1['isWon'].value_counts())\n",
    "print(data['isWon'].shape[0])"
   ]
  },
  {
   "cell_type": "markdown",
   "metadata": {},
   "source": [
    "<p> <b> Lead Source Group: \"Opened Accounts\" </B> <br> Number of customers who opened their accounts (Qualified Leads) through different <B>Source Groups </b>"
   ]
  },
  {
   "cell_type": "code",
   "execution_count": 7,
   "metadata": {},
   "outputs": [
    {
     "name": "stdout",
     "output_type": "stream",
     "text": [
      "Digital Leads              3664\n",
      "Sales Lead                 3502\n",
      "Inbound Call               1850\n",
      "House Account              1385\n",
      "Events                      951\n",
      "Specialty                   847\n",
      "Event                       828\n",
      "Webinars                    379\n",
      "Service to Sales            328\n",
      "NONE                        190\n",
      "New Marketing Campaigns      62\n",
      "Name: LeadSourceGroup, dtype: int64\n"
     ]
    },
    {
     "data": {
      "image/png": "[encoded data removed]",
      "text/plain": [
       "<matplotlib.figure.Figure at 0x283cdf67e80>"
      ]
     },
     "metadata": {},
     "output_type": "display_data"
    }
   ],
   "source": [
    "g1 = sns.countplot(data_iswon_1['LeadSourceGroup'])\n",
    "for item in g1.get_xticklabels():\n",
    "    item.set_rotation(70)\n",
    "print(data_iswon_1.LeadSourceGroup.value_counts())"
   ]
  },
  {
   "cell_type": "markdown",
   "metadata": {},
   "source": [
    "<p> <b> Lead Source Group: \"Did not Opened their accounts\"</B> <br>Number of customers who did not opened their accounts (Unqualified Leads)"
   ]
  },
  {
   "cell_type": "code",
   "execution_count": 8,
   "metadata": {},
   "outputs": [
    {
     "name": "stdout",
     "output_type": "stream",
     "text": [
      "Digital Leads              48929\n",
      "Events                     12727\n",
      "Specialty                  11751\n",
      "Webinars                    5708\n",
      "Inbound Call                4592\n",
      "Sales Lead                  3820\n",
      "New Marketing Campaigns     1822\n",
      "House Account               1608\n",
      "Service to Sales            1048\n",
      "NONE                         219\n",
      "Name: LeadSourceGroup, dtype: int64\n"
     ]
    },
    {
     "data": {
      "image/png": "[encoded data removed]",
      "text/plain": [
       "<matplotlib.figure.Figure at 0x283cb0c3128>"
      ]
     },
     "metadata": {},
     "output_type": "display_data"
    }
   ],
   "source": [
    "g2= sns.countplot(data_iswon_0['LeadSourceGroup'])\n",
    "for item in g2.get_xticklabels():\n",
    "    item.set_rotation(70)\n",
    "\n",
    "print(data_iswon_0.LeadSourceGroup.value_counts())"
   ]
  },
  {
   "cell_type": "code",
   "execution_count": 9,
   "metadata": {},
   "outputs": [],
   "source": [
    "# g2_1= sns.countplot(data_iswon_0[data_iswon_0.LeadSourceGroup=='Digital Leads'].LeadSourceType)\n",
    "# for item in g2_1.get_xticklabels():\n",
    "#     item.set_rotation(70)"
   ]
  },
  {
   "cell_type": "code",
   "execution_count": 10,
   "metadata": {},
   "outputs": [],
   "source": [
    "# f = np.unique(data_iswon_0.LeadSourceGroup)\n",
    "# for i in f:\n",
    "#     print(i)"
   ]
  },
  {
   "cell_type": "markdown",
   "metadata": {},
   "source": [
    "<p> <h1> Question 6 </H1></p><br>\n",
    "<b> Objective: </b>How accurate are <b>lead grades</b> given to leads in determining likelihood of an account open? <br>\n",
    "\n",
    "<h3> Solution </h3><br>\n",
    "<p> Here objective is to determine how accurate the lead grades were assigned to the leads for opening an account..<br>\n",
    "    1. I am using the column <b>\"isWon\"</b> to identify only the Opened Accounts<br>\n",
    "    2. Calculating the percentage of Individual grades assigned to Leads, which will give us the insights of the correct percentages given to the leads for opening an account.</p>\n"
   ]
  },
  {
   "cell_type": "code",
   "execution_count": 11,
   "metadata": {},
   "outputs": [
    {
     "name": "stdout",
     "output_type": "stream",
     "text": [
      "(106210, 48)\n",
      "*=*=*=*=*=*=*=*=*=*=*=*=*=*=*=*=*=*=*=*=*=*=*=*=*=*=*=*=*=*=*=*=*=*=*=*=*=*=*=*=*=*=*=*=*=*=*=*=*=*=\n"
     ]
    },
    {
     "data": {
      "text/plain": [
       "B    55992\n",
       "A    42321\n",
       "C     7897\n",
       "Name: LeadGrade, dtype: int64"
      ]
     },
     "execution_count": 11,
     "metadata": {},
     "output_type": "execute_result"
    }
   ],
   "source": [
    "# Total Count of individual Lead Grades For all customers.\n",
    "print(data.shape)\n",
    "print('*='*50)\n",
    "# sns.countplot(data['LeadGrade'])\n",
    "data.LeadGrade.value_counts()"
   ]
  },
  {
   "cell_type": "markdown",
   "metadata": {},
   "source": [
    "<p>From the below pecentages I can draw a conclusion that, these were the accurate percentages of lead grades which were given to leads correctly for opening an account</p>"
   ]
  },
  {
   "cell_type": "code",
   "execution_count": 12,
   "metadata": {
    "scrolled": false
   },
   "outputs": [
    {
     "name": "stdout",
     "output_type": "stream",
     "text": [
      "A    11777\n",
      "C     1230\n",
      "B      979\n",
      "Name: LeadGrade, dtype: int64\n",
      "*=*=*=*=*=*=*=*=*=*=*=*=*=*=*=*=*=*=*=*=*=*=*=*=*=*=*=*=*=*=*=*=*=*=*=*=*=*=*=*=*=*=*=*=*=*=*=*=*=*=\n",
      "B    55992\n",
      "A    42321\n",
      "C     7897\n",
      "Name: LeadGrade, dtype: int64\n",
      "   0 percentage\n",
      "0  A     27.83%\n",
      "1  B      1.75%\n",
      "2  C     15.58%\n",
      "*=*=*=*=*=*=*=*=*=*=*=*=*=*=*=*=*=*=*=*=*=*=*=*=*=*=*=*=*=*=*=*=*=*=*=*=*=*=*=*=*=*=*=*=*=*=*=*=*=*=\n"
     ]
    },
    {
     "data": {
      "image/png": "[encoded data removed]",
      "text/plain": [
       "<matplotlib.figure.Figure at 0x283d0278d30>"
      ]
     },
     "metadata": {},
     "output_type": "display_data"
    }
   ],
   "source": [
    "# Total Count of individual Lead Grades For all customers who WON / Opened an account.\n",
    "\n",
    "print(data_iswon_1.LeadGrade.value_counts())\n",
    "print('*='*50)\n",
    "average  = (data_iswon_1['LeadGrade'].value_counts()/ data['LeadGrade'].value_counts())*100\n",
    "\n",
    "print((data['LeadGrade'].value_counts()))\n",
    "T1  = pd.DataFrame(average.index)\n",
    "percentage = pd.DataFrame(average.values)\n",
    "T1['percentage'] = percentage\n",
    "\n",
    "per = []\n",
    "for i in T1['percentage']:\n",
    "    value = \"%.2f\"%i+\"%\"\n",
    "    per.append(value)\n",
    "T1['percentage'] = per\n",
    "print(T1)\n",
    "\n",
    "\n",
    "#Plot\n",
    "ax = sns.countplot(data_iswon_1['LeadGrade'])\n",
    "print('*='*50)\n",
    "for p in ax.patches:\n",
    "    ax.text(p.get_x() + p.get_width()/2., p.get_height(), '%d' % int(p.get_height()), \n",
    "            fontsize=12, color='black', ha='center', va='bottom')\n"
   ]
  },
  {
   "cell_type": "markdown",
   "metadata": {},
   "source": [
    "<h1>Question 2:</h1><br>\n",
    "<b>Objective: </b> Which campaigns have had the most success with generating qualified leads? <br>\n",
    "\n",
    "<h3> Solution</h3>\n",
    "\n"
   ]
  },
  {
   "cell_type": "code",
   "execution_count": 13,
   "metadata": {},
   "outputs": [
    {
     "name": "stdout",
     "output_type": "stream",
     "text": [
      "(106210, 48)\n"
     ]
    }
   ],
   "source": [
    "print(data.shape)"
   ]
  },
  {
   "cell_type": "code",
   "execution_count": 14,
   "metadata": {},
   "outputs": [
    {
     "name": "stdout",
     "output_type": "stream",
     "text": [
      "Total number of LeadsQualified: (35460, 48)\n",
      "Total number of Leads UnQualified: (70750, 48)\n"
     ]
    }
   ],
   "source": [
    "data_qlead_1 = data[data['LeadsQualified']==1]\n",
    "data_qlead_0 = data[data['LeadsQualified']==0]\n",
    "\n",
    "print(\"Total number of LeadsQualified:\", data_qlead_1.shape)\n",
    "print(\"Total number of Leads UnQualified:\", data_qlead_0.shape)"
   ]
  },
  {
   "cell_type": "code",
   "execution_count": 15,
   "metadata": {},
   "outputs": [
    {
     "name": "stdout",
     "output_type": "stream",
     "text": [
      "Total Leads Qualified: 35460\n",
      "********************\n",
      "0    21474\n",
      "1    13986\n",
      "Name: isWon, dtype: int64\n",
      "*=*=*=*=*=*=*=*=*=*=*=*=*=*=*=*=*=*=*=*=*=*=*=*=*=*=*=*=*=*=*=*=*=*=*=*=*=*=*=*=*=*=*=*=*=*=*=*=*=*=\n"
     ]
    },
    {
     "data": {
      "text/plain": [
       "<matplotlib.axes._subplots.AxesSubplot at 0x283cfa8ecf8>"
      ]
     },
     "execution_count": 15,
     "metadata": {},
     "output_type": "execute_result"
    },
    {
     "data": {
      "image/png": "[encoded data removed]",
      "text/plain": [
       "<matplotlib.figure.Figure at 0x283d0278eb8>"
      ]
     },
     "metadata": {},
     "output_type": "display_data"
    }
   ],
   "source": [
    "print(\"Total Leads Qualified:\",data_qlead_1.shape[0])\n",
    "print(\"*\"*20)\n",
    "print(data_qlead_1['isWon'].value_counts())\n",
    "print(\"*=\"*50)\n",
    "sns.countplot(data_qlead_1['isWon'])\n"
   ]
  },
  {
   "cell_type": "code",
   "execution_count": 16,
   "metadata": {},
   "outputs": [
    {
     "name": "stdout",
     "output_type": "stream",
     "text": [
      "(13986, 48)\n"
     ]
    }
   ],
   "source": [
    "data_qlead_1_iswon_1 = data_qlead_1[data_qlead_1['isWon']==1]\n",
    "print(data_qlead_1_iswon_1.shape)"
   ]
  },
  {
   "cell_type": "markdown",
   "metadata": {},
   "source": [
    "<p> <B>Percentage of \"LEAD SOURCE GROUP\"</B> </P> "
   ]
  },
  {
   "cell_type": "code",
   "execution_count": 17,
   "metadata": {},
   "outputs": [
    {
     "name": "stdout",
     "output_type": "stream",
     "text": [
      "Success Percentage of every individual 'LEAD SOURCE GROUP' in generating qualified leads\n",
      "\n",
      "                          0 Percentage\n",
      "0             Digital Leads     37.98%\n",
      "1                Sales Lead     14.24%\n",
      "2              Inbound Call     11.92%\n",
      "3                    Events      8.75%\n",
      "4                 Specialty      8.29%\n",
      "5             House Account      6.90%\n",
      "6                  Webinars      6.25%\n",
      "7                     Event      2.34%\n",
      "8          Service to Sales      1.94%\n",
      "9                      NONE      0.74%\n",
      "10  New Marketing Campaigns      0.67%\n",
      "*=*=*=*=*=*=*=*=*=*=*=*=*=*=*=*=*=*=*=*=*=*=*=*=*=*=*=*=*=*=*=*=*=*=*=*=*=*=*=*=*=*=*=*=*=*=*=*=*=*=\n"
     ]
    },
    {
     "data": {
      "image/png": "[encoded data removed]",
      "text/plain": [
       "<matplotlib.figure.Figure at 0x283cf2b8550>"
      ]
     },
     "metadata": {},
     "output_type": "display_data"
    }
   ],
   "source": [
    "print(\"Success Percentage of every individual 'LEAD SOURCE GROUP' in generating qualified leads\")\n",
    "print(\"\")\n",
    "average_DQ = (data_qlead_1['LeadSourceGroup'].value_counts()/data_qlead_1.shape[0])*100\n",
    "T2 = pd.DataFrame(average_DQ.index)\n",
    "T2['Percentage'] = pd.DataFrame(average_DQ.values)\n",
    "\n",
    "per_DQ = []\n",
    "for j in T2['Percentage']:\n",
    "    value_DQ = \"%.2f\"%j+\"%\"\n",
    "    per_DQ.append(value_DQ)\n",
    "T2['Percentage'] = per_DQ\n",
    "print(T2)\n",
    "\n",
    "print('*='*50)\n",
    "DQ = sns.countplot(data_qlead_1.LeadSourceGroup)\n",
    "for item in DQ.get_xticklabels():\n",
    "    item.set_rotation(70)\n",
    "for p in DQ.patches:\n",
    "    DQ.text(p.get_x() + p.get_width()/2., p.get_height(), '%d' % int(p.get_height()), \n",
    "            fontsize=12, color='black', ha='center', va='bottom')    \n",
    "    "
   ]
  },
  {
   "cell_type": "code",
   "execution_count": 18,
   "metadata": {},
   "outputs": [
    {
     "name": "stdout",
     "output_type": "stream",
     "text": [
      "Success Percentage of every individual 'LEAD SOURCE TYPE' in generating qualified leads\n",
      "\n",
      "                                     0 Percentage\n",
      "0                              Website     22.81%\n",
      "1                                  PPC     12.87%\n",
      "2                             Referral     12.01%\n",
      "3                         Inbound Call     11.91%\n",
      "4                          ETC Webinar      6.08%\n",
      "5                        House Account      5.59%\n",
      "6                 Special Time of Year      4.61%\n",
      "7                    Educator Meetings      2.89%\n",
      "8                    Client Cross Sell      2.34%\n",
      "9                               NAREIA      2.34%\n",
      "10                     NAREIA Meetings      1.97%\n",
      "11                                 WBW      1.95%\n",
      "12                    Service to Sales      1.94%\n",
      "13                  Cross-Sell Account      1.41%\n",
      "14              Incomplete Application      1.29%\n",
      "15                        Social Media      0.94%\n",
      "16                 Non NAREIA Meetings      0.94%\n",
      "17                           Live Chat      0.92%\n",
      "18                                NONE      0.74%\n",
      "19                    Digital Currency      0.54%\n",
      "20                 Beneficiary Account      0.50%\n",
      "21              REIA / NREIA Tradeshow      0.43%\n",
      "22                          Newsletter      0.43%\n",
      "23                3rd Party Paid Leads      0.39%\n",
      "24     Flash Sales with Account Offers      0.39%\n",
      "25                             Unknown      0.37%\n",
      "26                         Sales Email      0.33%\n",
      "27               Pardot C Lead Upgrade      0.29%\n",
      "28      Flash Sales with Account Offer      0.21%\n",
      "29                    Meet up Meetings      0.20%\n",
      "30                      NAREIA Webinar      0.08%\n",
      "31          Turnkey/Investment Sponsor      0.06%\n",
      "32                    Referral Program      0.06%\n",
      "33                Seminar / Conference      0.06%\n",
      "34                  Non NAREIA Webinar      0.03%\n",
      "35                   Web Advertisement      0.03%\n",
      "36                         Direct Mail      0.02%\n",
      "37                               Email      0.01%\n",
      "38               Event Follow Up Email      0.01%\n",
      "39                               Other      0.01%\n",
      "40                             Webinar      0.01%\n",
      "41  Competitor Campaign - Free TX Acct      0.01%\n",
      "*=*=*=*=*=*=*=*=*=*=*=*=*=*=*=*=*=*=*=*=*=*=*=*=*=*=*=*=*=*=*=*=*=*=*=*=*=*=*=*=*=*=*=*=*=*=*=*=*=*=*=*=*=*=*=\n"
     ]
    },
    {
     "data": {
      "image/png": "[encoded data removed]",
      "text/plain": [
       "<matplotlib.figure.Figure at 0x283ce65e358>"
      ]
     },
     "metadata": {},
     "output_type": "display_data"
    }
   ],
   "source": [
    "print(\"Success Percentage of every individual 'LEAD SOURCE TYPE' in generating qualified leads\")\n",
    "print(\"\")\n",
    "average_DQ = (data_qlead_1['LeadSourceType'].value_counts()/data_qlead_1.shape[0])*100\n",
    "T2 = pd.DataFrame(average_DQ.index)\n",
    "T2['Percentage'] = pd.DataFrame(average_DQ.values)\n",
    "\n",
    "per_DQ = []\n",
    "for j in T2['Percentage']:\n",
    "    value_DQ = \"%.2f\"%j+\"%\"\n",
    "    per_DQ.append(value_DQ)\n",
    "T2['Percentage'] = per_DQ\n",
    "print(T2)\n",
    "\n",
    "print('*='*55)\n",
    "dims = plt.figure(figsize = (19, 7))\n",
    "DQ = sns.countplot(data_qlead_1.LeadSourceType)\n",
    "for item in DQ.get_xticklabels():\n",
    "    item.set_rotation(90)\n",
    "for p in DQ.patches:\n",
    "    DQ.text(p.get_x() + p.get_width()/2., p.get_height(), '%d' % int(p.get_height()), \n",
    "            fontsize=12, color='black', ha='center', va='bottom')    \n",
    "    "
   ]
  },
  {
   "cell_type": "markdown",
   "metadata": {},
   "source": [
    "<h1>Question 5:</h1><br>\n",
    "<b>Objective: </b> What is the avg length of a sales cycle and is there a correlation between cycle length and likelihood of an account win (among cycles lasting > 1 week)? <br>\n",
    "\n",
    "<h3> Solution</h3>\n",
    "\n"
   ]
  },
  {
   "cell_type": "code",
   "execution_count": 19,
   "metadata": {},
   "outputs": [
    {
     "name": "stdout",
     "output_type": "stream",
     "text": [
      "(106210, 48)\n",
      "*=*=*=*=*=*=*=*=*=*=*=*=*=*=*=*=*=*=*=*=*=*=*=*=*=*=*=*=*=*=*=*=*=*=*=*=*=*=*=*=*=*=*=*=*=*=*=*=*=*=\n",
      "         LeadParentID  CycleSequence CycleStartYearWeek CycleStartDate  \\\n",
      "0  00Q1A00001dnEKDUA2              1           2017-W24     2017-06-15   \n",
      "1  00Q1A00001eAzgfUAC              1           2017-W28     2017-07-11   \n",
      "2  0060h000016Z251AAC              1           2018-W27     2018-07-05   \n",
      "3  00Q1A00001cmee8UAA              1           2017-W05     2017-02-03   \n",
      "4  00Q0h00001fTyLHEA0              1           2018-W17     2018-04-25   \n",
      "\n",
      "         CycleEndDate  isWon  \n",
      "0 2099-09-09 00:00:00      0  \n",
      "1 2017-08-11 03:02:57      0  \n",
      "2 2018-07-13 00:00:00      1  \n",
      "3 2017-05-03 11:33:47      0  \n",
      "4 2018-09-18 10:54:15      0  \n"
     ]
    }
   ],
   "source": [
    "q5 = data\n",
    "print(q5.shape)\n",
    "\n",
    "print('*='*50)\n",
    "q5 = q5[['LeadParentID','CycleSequence','CycleStartYearWeek','CycleStartDate','CycleEndDate','isWon']]\n",
    "print(q5.head())"
   ]
  },
  {
   "cell_type": "code",
   "execution_count": 20,
   "metadata": {},
   "outputs": [
    {
     "name": "stdout",
     "output_type": "stream",
     "text": [
      "<class 'pandas.core.frame.DataFrame'>\n",
      "RangeIndex: 106210 entries, 0 to 106209\n",
      "Data columns (total 6 columns):\n",
      "LeadParentID          106210 non-null object\n",
      "CycleSequence         106210 non-null int64\n",
      "CycleStartYearWeek    106210 non-null object\n",
      "CycleStartDate        106210 non-null datetime64[ns]\n",
      "CycleEndDate          106210 non-null datetime64[ns]\n",
      "isWon                 106210 non-null int64\n",
      "dtypes: datetime64[ns](2), int64(2), object(2)\n",
      "memory usage: 4.9+ MB\n",
      "None\n"
     ]
    },
    {
     "name": "stderr",
     "output_type": "stream",
     "text": [
      "D:\\Anaconda\\lib\\site-packages\\ipykernel_launcher.py:2: SettingWithCopyWarning: \n",
      "A value is trying to be set on a copy of a slice from a DataFrame.\n",
      "Try using .loc[row_indexer,col_indexer] = value instead\n",
      "\n",
      "See the caveats in the documentation: http://pandas.pydata.org/pandas-docs/stable/indexing.html#indexing-view-versus-copy\n",
      "  \n",
      "D:\\Anaconda\\lib\\site-packages\\ipykernel_launcher.py:3: SettingWithCopyWarning: \n",
      "A value is trying to be set on a copy of a slice from a DataFrame.\n",
      "Try using .loc[row_indexer,col_indexer] = value instead\n",
      "\n",
      "See the caveats in the documentation: http://pandas.pydata.org/pandas-docs/stable/indexing.html#indexing-view-versus-copy\n",
      "  This is separate from the ipykernel package so we can avoid doing imports until\n"
     ]
    }
   ],
   "source": [
    "from datetime import datetime\n",
    "q5['CycleStartDate'] = pd.to_datetime(q5['CycleStartDate'])\n",
    "q5['CycleEndDate'] = pd.to_datetime(q5['CycleEndDate'])\n",
    "print(q5.info())"
   ]
  },
  {
   "cell_type": "code",
   "execution_count": 21,
   "metadata": {},
   "outputs": [
    {
     "name": "stdout",
     "output_type": "stream",
     "text": [
      "(106210, 7)\n",
      "*=*=*=*=*=*=*=*=*=*=*=*=*=*=*=*=*=*=*=*=*=*=*=*=*=*=*=*=*=*=*=*=*=*=*=*=*=*=*=*=*=*=*=*=*=*=*=*=*=*=\n",
      "         LeadParentID  CycleSequence CycleStartYearWeek CycleStartDate  \\\n",
      "0  00Q1A00001dnEKDUA2              1           2017-W24     2017-06-15   \n",
      "1  00Q1A00001eAzgfUAC              1           2017-W28     2017-07-11   \n",
      "2  0060h000016Z251AAC              1           2018-W27     2018-07-05   \n",
      "3  00Q1A00001cmee8UAA              1           2017-W05     2017-02-03   \n",
      "4  00Q0h00001fTyLHEA0              1           2018-W17     2018-04-25   \n",
      "\n",
      "         CycleEndDate  isWon  date_diff  \n",
      "0 2099-09-09 00:00:00      0      30036  \n",
      "1 2017-08-11 03:02:57      0         32  \n",
      "2 2018-07-13 00:00:00      1          8  \n",
      "3 2017-05-03 11:33:47      0         90  \n",
      "4 2018-09-18 10:54:15      0        147  \n"
     ]
    },
    {
     "name": "stderr",
     "output_type": "stream",
     "text": [
      "D:\\Anaconda\\lib\\site-packages\\ipykernel_launcher.py:6: SettingWithCopyWarning: \n",
      "A value is trying to be set on a copy of a slice from a DataFrame.\n",
      "Try using .loc[row_indexer,col_indexer] = value instead\n",
      "\n",
      "See the caveats in the documentation: http://pandas.pydata.org/pandas-docs/stable/indexing.html#indexing-view-versus-copy\n",
      "  \n"
     ]
    }
   ],
   "source": [
    "from datetime import date\n",
    "Start_Date = q5['CycleStartDate']\n",
    "End_Date = q5['CycleEndDate']\n",
    "\n",
    "date = Start_Date - End_Date\n",
    "q5['date_diff'] = abs(date.dt.days)\n",
    "print(q5.shape)\n",
    "print('*='*50)\n",
    "print(q5.head())"
   ]
  },
  {
   "cell_type": "code",
   "execution_count": 22,
   "metadata": {},
   "outputs": [
    {
     "name": "stderr",
     "output_type": "stream",
     "text": [
      "D:\\Anaconda\\lib\\site-packages\\ipykernel_launcher.py:6: SettingWithCopyWarning: \n",
      "A value is trying to be set on a copy of a slice from a DataFrame.\n",
      "Try using .loc[row_indexer,col_indexer] = value instead\n",
      "\n",
      "See the caveats in the documentation: http://pandas.pydata.org/pandas-docs/stable/indexing.html#indexing-view-versus-copy\n",
      "  \n"
     ]
    }
   ],
   "source": [
    "def variable(row):\n",
    "    x = row['date_diff']\n",
    "    if x>7:\n",
    "        return 1\n",
    "    return 0\n",
    "q5['cycles_lasting> 1 week'] = q5.apply(variable, axis=1)"
   ]
  },
  {
   "cell_type": "code",
   "execution_count": 23,
   "metadata": {},
   "outputs": [],
   "source": [
    "data['date_diff'] = q5['date_diff']"
   ]
  },
  {
   "cell_type": "code",
   "execution_count": 24,
   "metadata": {},
   "outputs": [
    {
     "name": "stdout",
     "output_type": "stream",
     "text": [
      "(69971, 8)\n",
      "(36239, 8)\n"
     ]
    }
   ],
   "source": [
    "q5_date_diff_G7 = q5[q5['cycles_lasting> 1 week']==1]\n",
    "print(q5_date_diff_G7.shape)\n",
    "\n",
    "q5_date_diff_G = q5[q5['cycles_lasting> 1 week']==0]\n",
    "print(q5_date_diff_G.shape)"
   ]
  },
  {
   "cell_type": "code",
   "execution_count": 25,
   "metadata": {},
   "outputs": [
    {
     "data": {
      "image/png": "[encoded data removed]",
      "text/plain": [
       "<matplotlib.figure.Figure at 0x283ce1a9828>"
      ]
     },
     "metadata": {},
     "output_type": "display_data"
    }
   ],
   "source": [
    "plt.subplot(121)\n",
    "plt.title(\"Cycles > 1 Week\")\n",
    "DD1 = sns.countplot(q5_date_diff_G7['isWon'])\n",
    "for p in DD1.patches:\n",
    "    DD1.text(p.get_x() + p.get_width()/2., p.get_height(), '%d' % int(p.get_height()), \n",
    "            fontsize=12, color='black', ha='center', va='bottom')\n",
    "plt.subplot(122)\n",
    "plt.title(\"Cycles = 1 Week\")\n",
    "DD2 = sns.countplot(q5_date_diff_G['isWon'])\n",
    "for p in DD2.patches:\n",
    "    DD2.text(p.get_x() + p.get_width()/2., p.get_height(), '%d' % int(p.get_height()), \n",
    "            fontsize=12, color='black', ha='center', va='bottom')"
   ]
  },
  {
   "cell_type": "code",
   "execution_count": 26,
   "metadata": {},
   "outputs": [],
   "source": [
    "# def iswon(row):\n",
    "#     x = row['isWon']\n",
    "#     if x==0:\n",
    "#         return \"zero\"\n",
    "#     return \"one\"\n",
    "# q5_date_diff_G7['isWon_Cat'] = q5_date_diff_G7.apply(iswon, axis=1)"
   ]
  },
  {
   "cell_type": "code",
   "execution_count": 27,
   "metadata": {},
   "outputs": [],
   "source": [
    "# def cycle_lasting(row):\n",
    "#     x = row['cycles_lasting> 1 week']\n",
    "#     if x==0:\n",
    "#         return \"zero\"\n",
    "#     return \"one\"\n",
    "# q5_date_diff_G7['cycles_lasting> 1 week_Cat'] = q5_date_diff_G7.apply(cycle_lasting, axis=1)"
   ]
  },
  {
   "cell_type": "code",
   "execution_count": 28,
   "metadata": {},
   "outputs": [],
   "source": [
    "# q5_date_diff_G7['isWon_Cat'] = q5_date_diff_G7['isWon_Cat'].astype('category').cat.codes\n",
    "# q5_date_diff_G7['cycles_lasting> 1 week_Cat'] = q5_date_diff_G7['cycles_lasting> 1 week_Cat'].astype('category').cat.codes"
   ]
  },
  {
   "cell_type": "code",
   "execution_count": 29,
   "metadata": {},
   "outputs": [],
   "source": [
    "corr_data = q5_date_diff_G7[['LeadParentID','isWon','date_diff']]"
   ]
  },
  {
   "cell_type": "markdown",
   "metadata": {},
   "source": [
    "<p> correlation between cycle length and likelihood of an account win (among cycles lasting > 1 week) is <b>\"Negatively Correlated\"</b> <br><br> which tells us there is no correlation between the features \"Cycle length\" and \"isWon\" <br>\n",
    "    which mean it is not necessary that cycles lasting >1 week will have high success rate in winning an account."
   ]
  },
  {
   "cell_type": "code",
   "execution_count": 30,
   "metadata": {},
   "outputs": [
    {
     "data": {
      "text/html": [
       "<style  type=\"text/css\" >\n",
       "    #T_43c94b88_ac4f_11e9_a402_d481d7e61e0erow0_col0 {\n",
       "            background-color:  #417ca8;\n",
       "            max-width:  80px;\n",
       "            font-size:  10pt;\n",
       "        }    #T_43c94b88_ac4f_11e9_a402_d481d7e61e0erow0_col1 {\n",
       "            background-color:  #d73c5b;\n",
       "            max-width:  80px;\n",
       "            font-size:  10pt;\n",
       "        }    #T_43c94b88_ac4f_11e9_a402_d481d7e61e0erow1_col0 {\n",
       "            background-color:  #d73c5b;\n",
       "            max-width:  80px;\n",
       "            font-size:  10pt;\n",
       "        }    #T_43c94b88_ac4f_11e9_a402_d481d7e61e0erow1_col1 {\n",
       "            background-color:  #417ca8;\n",
       "            max-width:  80px;\n",
       "            font-size:  10pt;\n",
       "        }</style>  \n",
       "<table id=\"T_43c94b88_ac4f_11e9_a402_d481d7e61e0e\" > \n",
       "<thead>    <tr> \n",
       "        <th class=\"blank level0\" ></th> \n",
       "        <th class=\"col_heading level0 col0\" >isWon</th> \n",
       "        <th class=\"col_heading level0 col1\" >date_diff</th> \n",
       "    </tr></thead> \n",
       "<tbody>    <tr> \n",
       "        <th id=\"T_43c94b88_ac4f_11e9_a402_d481d7e61e0elevel0_row0\" class=\"row_heading level0 row0\" >isWon</th> \n",
       "        <td id=\"T_43c94b88_ac4f_11e9_a402_d481d7e61e0erow0_col0\" class=\"data row0 col0\" >1</td> \n",
       "        <td id=\"T_43c94b88_ac4f_11e9_a402_d481d7e61e0erow0_col1\" class=\"data row0 col1\" >-0.11</td> \n",
       "    </tr>    <tr> \n",
       "        <th id=\"T_43c94b88_ac4f_11e9_a402_d481d7e61e0elevel0_row1\" class=\"row_heading level0 row1\" >date_diff</th> \n",
       "        <td id=\"T_43c94b88_ac4f_11e9_a402_d481d7e61e0erow1_col0\" class=\"data row1 col0\" >-0.11</td> \n",
       "        <td id=\"T_43c94b88_ac4f_11e9_a402_d481d7e61e0erow1_col1\" class=\"data row1 col1\" >1</td> \n",
       "    </tr></tbody> \n",
       "</table> "
      ],
      "text/plain": [
       "<pandas.io.formats.style.Styler at 0x283ceec5f98>"
      ]
     },
     "execution_count": 30,
     "metadata": {},
     "output_type": "execute_result"
    }
   ],
   "source": [
    "import seaborn as sns\n",
    "corr_df = corr_data.corr(method = 'pearson')\n",
    "# mask = np.zeros_like(corr_df)\n",
    "\n",
    "map = cmap=sns.diverging_palette(5, 240, as_cmap=True)\n",
    "corr_df.style.background_gradient(cmap, axis=1).set_properties(**{'max-width': '80px', 'font-size': '10pt'}).set_precision(2)"
   ]
  },
  {
   "cell_type": "code",
   "execution_count": 31,
   "metadata": {},
   "outputs": [
    {
     "data": {
      "text/html": [
       "<div>\n",
       "<style scoped>\n",
       "    .dataframe tbody tr th:only-of-type {\n",
       "        vertical-align: middle;\n",
       "    }\n",
       "\n",
       "    .dataframe tbody tr th {\n",
       "        vertical-align: top;\n",
       "    }\n",
       "\n",
       "    .dataframe thead th {\n",
       "        text-align: right;\n",
       "    }\n",
       "</style>\n",
       "<table border=\"1\" class=\"dataframe\">\n",
       "  <thead>\n",
       "    <tr style=\"text-align: right;\">\n",
       "      <th></th>\n",
       "      <th>CycleSequence</th>\n",
       "      <th>isWon</th>\n",
       "      <th>date_diff</th>\n",
       "      <th>cycles_lasting&gt; 1 week</th>\n",
       "    </tr>\n",
       "  </thead>\n",
       "  <tbody>\n",
       "    <tr>\n",
       "      <th>CycleSequence</th>\n",
       "      <td>1.000000</td>\n",
       "      <td>-0.116451</td>\n",
       "      <td>-0.063622</td>\n",
       "      <td>NaN</td>\n",
       "    </tr>\n",
       "    <tr>\n",
       "      <th>isWon</th>\n",
       "      <td>-0.116451</td>\n",
       "      <td>1.000000</td>\n",
       "      <td>-0.139088</td>\n",
       "      <td>NaN</td>\n",
       "    </tr>\n",
       "    <tr>\n",
       "      <th>date_diff</th>\n",
       "      <td>-0.063622</td>\n",
       "      <td>-0.139088</td>\n",
       "      <td>1.000000</td>\n",
       "      <td>NaN</td>\n",
       "    </tr>\n",
       "    <tr>\n",
       "      <th>cycles_lasting&gt; 1 week</th>\n",
       "      <td>NaN</td>\n",
       "      <td>NaN</td>\n",
       "      <td>NaN</td>\n",
       "      <td>NaN</td>\n",
       "    </tr>\n",
       "  </tbody>\n",
       "</table>\n",
       "</div>"
      ],
      "text/plain": [
       "                        CycleSequence     isWon  date_diff  \\\n",
       "CycleSequence                1.000000 -0.116451  -0.063622   \n",
       "isWon                       -0.116451  1.000000  -0.139088   \n",
       "date_diff                   -0.063622 -0.139088   1.000000   \n",
       "cycles_lasting> 1 week            NaN       NaN        NaN   \n",
       "\n",
       "                        cycles_lasting> 1 week  \n",
       "CycleSequence                              NaN  \n",
       "isWon                                      NaN  \n",
       "date_diff                                  NaN  \n",
       "cycles_lasting> 1 week                     NaN  "
      ]
     },
     "execution_count": 31,
     "metadata": {},
     "output_type": "execute_result"
    }
   ],
   "source": [
    "q5_date_diff_G7.corr(method ='spearman') "
   ]
  },
  {
   "cell_type": "code",
   "execution_count": null,
   "metadata": {},
   "outputs": [],
   "source": []
  },
  {
   "cell_type": "code",
   "execution_count": null,
   "metadata": {},
   "outputs": [],
   "source": []
  },
  {
   "cell_type": "code",
   "execution_count": null,
   "metadata": {},
   "outputs": [],
   "source": []
  },
  {
   "cell_type": "code",
   "execution_count": null,
   "metadata": {},
   "outputs": [],
   "source": []
  },
  {
   "cell_type": "code",
   "execution_count": null,
   "metadata": {},
   "outputs": [],
   "source": []
  },
  {
   "cell_type": "code",
   "execution_count": null,
   "metadata": {},
   "outputs": [],
   "source": []
  },
  {
   "cell_type": "code",
   "execution_count": null,
   "metadata": {},
   "outputs": [],
   "source": []
  },
  {
   "cell_type": "code",
   "execution_count": null,
   "metadata": {},
   "outputs": [],
   "source": []
  },
  {
   "cell_type": "markdown",
   "metadata": {},
   "source": [
    "<h1>Question 4:</h1><br>\n",
    "<b>Objective: </b> What is the projected # of accounts that will open in Q3 of 2019? <br>\n",
    "\n",
    "<h3> Solution</h3>\n",
    "\n"
   ]
  },
  {
   "cell_type": "code",
   "execution_count": 32,
   "metadata": {},
   "outputs": [],
   "source": [
    "import warnings\n",
    "import itertools\n",
    "warnings.filterwarnings(\"ignore\")\n",
    "plt.style.use('fivethirtyeight')\n",
    "import statsmodels.api as sm\n",
    "import matplotlib\n",
    "\n",
    "matplotlib.rcParams['axes.labelsize'] = 14\n",
    "matplotlib.rcParams['xtick.labelsize'] = 12\n",
    "matplotlib.rcParams['ytick.labelsize'] = 12\n",
    "matplotlib.rcParams['text.color'] = 'k'"
   ]
  },
  {
   "cell_type": "code",
   "execution_count": 33,
   "metadata": {},
   "outputs": [
    {
     "name": "stdout",
     "output_type": "stream",
     "text": [
      "(106210, 49)\n"
     ]
    }
   ],
   "source": [
    "print(data.shape)"
   ]
  },
  {
   "cell_type": "code",
   "execution_count": 34,
   "metadata": {},
   "outputs": [
    {
     "data": {
      "text/plain": [
       "(2017, 2019)"
      ]
     },
     "execution_count": 34,
     "metadata": {},
     "output_type": "execute_result"
    }
   ],
   "source": [
    "data['CycleStartYear'].min(), data['CycleStartYear'].max()"
   ]
  },
  {
   "cell_type": "code",
   "execution_count": null,
   "metadata": {},
   "outputs": [],
   "source": []
  },
  {
   "cell_type": "markdown",
   "metadata": {},
   "source": [
    "<h1>Model </h1>:\n",
    "\n",
    "<p> Building a Logistic Regression model on the ETC dataset </p>\n"
   ]
  },
  {
   "cell_type": "code",
   "execution_count": 35,
   "metadata": {},
   "outputs": [
    {
     "name": "stdout",
     "output_type": "stream",
     "text": [
      "(106210, 49)\n",
      "*=*=*=*=*=*=*=*=*=*=*=*=*=*=*=*=*=*=*=*=\n"
     ]
    }
   ],
   "source": [
    "model_data = data\n",
    "print(model_data.shape)\n",
    "print('*='*20)\n",
    "# print(model_data.columns)"
   ]
  },
  {
   "cell_type": "code",
   "execution_count": 36,
   "metadata": {},
   "outputs": [
    {
     "data": {
      "text/plain": [
       "(97326, 49)"
      ]
     },
     "execution_count": 36,
     "metadata": {},
     "output_type": "execute_result"
    }
   ],
   "source": [
    "model_data = model_data[model_data['CycleEndDate'].dt.year != 2099]\n",
    "model_data.shape"
   ]
  },
  {
   "cell_type": "code",
   "execution_count": 37,
   "metadata": {},
   "outputs": [],
   "source": [
    "# model_data = model_data[['CycleStartDate', 'CycleEndDate','CycleStartMonthName','CycleStartDayName','LeadID','CampaignName', 'CampaignType',\n",
    "#        'CampaignGroup','CampaignStatus','InitialCreatedByDepartment', 'InitialCreatedByTitle',\n",
    "#        'InitialLeadSource','CycleSequence',\n",
    "#        'CycleLeadSource', 'LeadSourceGroup', 'LeadSourceType', 'isCrossSell','AcctsOpened', 'isWon',\n",
    "#         'LeadScore', 'LeadGrade', 'LeadsEngaged','LeadsQualified', 'LeadsPromoted','date_diff']]"
   ]
  },
  {
   "cell_type": "code",
   "execution_count": 38,
   "metadata": {},
   "outputs": [],
   "source": [
    "# Removing the all Active Leads which have the end year 2099\n"
   ]
  },
  {
   "cell_type": "code",
   "execution_count": 39,
   "metadata": {},
   "outputs": [],
   "source": [
    "# print(model_data.head(2))"
   ]
  },
  {
   "cell_type": "code",
   "execution_count": 40,
   "metadata": {},
   "outputs": [
    {
     "name": "stdout",
     "output_type": "stream",
     "text": [
      "Percentage of Accounts won: 14.370260773071944\n",
      "Percentage of Accounts Lost: 85.62973922692805\n",
      "*=*=*=*=*=*=*=*=*=*=*=*=*=*=*=*=*=*=*=*=*=*=*=*=*=*=*=*=*=*=*=*=*=*=*=*=*=*=*=*=*=*=*=*=*=*=*=*=*=*=\n"
     ]
    },
    {
     "data": {
      "image/png": "[encoded data removed]",
      "text/plain": [
       "<matplotlib.figure.Figure at 0x283c99cbd30>"
      ]
     },
     "metadata": {},
     "output_type": "display_data"
    }
   ],
   "source": [
    "count_iswon_1 = len(model_data[model_data['isWon']==1])\n",
    "count_iswon_0 = len(model_data[model_data['isWon']==0])\n",
    "pct_iswon_1 = (count_iswon_1 / (count_iswon_1+count_iswon_0))*100\n",
    "pct_iswon_0 = (count_iswon_0 / (count_iswon_1+count_iswon_0))*100\n",
    "print(\"Percentage of Accounts won:\" ,pct_iswon_1)\n",
    "print(\"Percentage of Accounts Lost:\" ,pct_iswon_0)\n",
    "print(\"*=\"*50)\n",
    "DL = sns.countplot(model_data.isWon)\n",
    "for p in DL.patches:\n",
    "    DL.text(p.get_x() + p.get_width()/2., p.get_height(), '%d' % int(p.get_height()), \n",
    "            fontsize=12, color='black', ha='center', va='bottom')"
   ]
  },
  {
   "cell_type": "markdown",
   "metadata": {},
   "source": [
    "Our classes are imbalanced and ratio of Accounts Won to Accounts Lost is 86:14"
   ]
  },
  {
   "cell_type": "code",
   "execution_count": 41,
   "metadata": {},
   "outputs": [
    {
     "data": {
      "text/html": [
       "<div>\n",
       "<style scoped>\n",
       "    .dataframe tbody tr th:only-of-type {\n",
       "        vertical-align: middle;\n",
       "    }\n",
       "\n",
       "    .dataframe tbody tr th {\n",
       "        vertical-align: top;\n",
       "    }\n",
       "\n",
       "    .dataframe thead th {\n",
       "        text-align: right;\n",
       "    }\n",
       "</style>\n",
       "<table border=\"1\" class=\"dataframe\">\n",
       "  <thead>\n",
       "    <tr style=\"text-align: right;\">\n",
       "      <th></th>\n",
       "      <th>CycleStartDateKey</th>\n",
       "      <th>CycleStartYear</th>\n",
       "      <th>CycleStartYearMonth</th>\n",
       "      <th>CycleSequence</th>\n",
       "      <th>isCrossSell</th>\n",
       "      <th>AcctsOpened</th>\n",
       "      <th>FeesAssessed</th>\n",
       "      <th>FeesNotInvoiced</th>\n",
       "      <th>FeesPaid</th>\n",
       "      <th>FeesUnpaid</th>\n",
       "      <th>FeesWrittenOff</th>\n",
       "      <th>LeadScore</th>\n",
       "      <th>YearCycleSequece</th>\n",
       "      <th>LeadsEngaged</th>\n",
       "      <th>LeadsQualified</th>\n",
       "      <th>LeadsPromoted</th>\n",
       "      <th>date_diff</th>\n",
       "    </tr>\n",
       "    <tr>\n",
       "      <th>isWon</th>\n",
       "      <th></th>\n",
       "      <th></th>\n",
       "      <th></th>\n",
       "      <th></th>\n",
       "      <th></th>\n",
       "      <th></th>\n",
       "      <th></th>\n",
       "      <th></th>\n",
       "      <th></th>\n",
       "      <th></th>\n",
       "      <th></th>\n",
       "      <th></th>\n",
       "      <th></th>\n",
       "      <th></th>\n",
       "      <th></th>\n",
       "      <th></th>\n",
       "      <th></th>\n",
       "    </tr>\n",
       "  </thead>\n",
       "  <tbody>\n",
       "    <tr>\n",
       "      <th>0</th>\n",
       "      <td>2.017724e+07</td>\n",
       "      <td>2017.665587</td>\n",
       "      <td>201772.278246</td>\n",
       "      <td>1.560475</td>\n",
       "      <td>0.086633</td>\n",
       "      <td>0.000000</td>\n",
       "      <td>0.000000</td>\n",
       "      <td>0.000000</td>\n",
       "      <td>0.000000</td>\n",
       "      <td>0.000000</td>\n",
       "      <td>0.000000</td>\n",
       "      <td>72.386093</td>\n",
       "      <td>1.121946</td>\n",
       "      <td>0.508987</td>\n",
       "      <td>0.172006</td>\n",
       "      <td>0.137593</td>\n",
       "      <td>32.781329</td>\n",
       "    </tr>\n",
       "    <tr>\n",
       "      <th>1</th>\n",
       "      <td>2.017831e+07</td>\n",
       "      <td>2017.771343</td>\n",
       "      <td>201782.912055</td>\n",
       "      <td>1.166452</td>\n",
       "      <td>0.175318</td>\n",
       "      <td>1.001502</td>\n",
       "      <td>0.755255</td>\n",
       "      <td>0.053911</td>\n",
       "      <td>0.735807</td>\n",
       "      <td>0.019448</td>\n",
       "      <td>0.233877</td>\n",
       "      <td>86.309595</td>\n",
       "      <td>1.209066</td>\n",
       "      <td>1.000000</td>\n",
       "      <td>1.000000</td>\n",
       "      <td>1.000000</td>\n",
       "      <td>16.633348</td>\n",
       "    </tr>\n",
       "  </tbody>\n",
       "</table>\n",
       "</div>"
      ],
      "text/plain": [
       "       CycleStartDateKey  CycleStartYear  CycleStartYearMonth  CycleSequence  \\\n",
       "isWon                                                                          \n",
       "0           2.017724e+07     2017.665587        201772.278246       1.560475   \n",
       "1           2.017831e+07     2017.771343        201782.912055       1.166452   \n",
       "\n",
       "       isCrossSell  AcctsOpened  FeesAssessed  FeesNotInvoiced  FeesPaid  \\\n",
       "isWon                                                                      \n",
       "0         0.086633     0.000000      0.000000         0.000000  0.000000   \n",
       "1         0.175318     1.001502      0.755255         0.053911  0.735807   \n",
       "\n",
       "       FeesUnpaid  FeesWrittenOff  LeadScore  YearCycleSequece  LeadsEngaged  \\\n",
       "isWon                                                                          \n",
       "0        0.000000        0.000000  72.386093          1.121946      0.508987   \n",
       "1        0.019448        0.233877  86.309595          1.209066      1.000000   \n",
       "\n",
       "       LeadsQualified  LeadsPromoted  date_diff  \n",
       "isWon                                            \n",
       "0            0.172006       0.137593  32.781329  \n",
       "1            1.000000       1.000000  16.633348  "
      ]
     },
     "execution_count": 41,
     "metadata": {},
     "output_type": "execute_result"
    }
   ],
   "source": [
    "model_data.groupby('isWon').mean()"
   ]
  },
  {
   "cell_type": "markdown",
   "metadata": {},
   "source": [
    "The Average number of leads who won the Accounts are more than the Leads who lost."
   ]
  },
  {
   "cell_type": "code",
   "execution_count": 42,
   "metadata": {},
   "outputs": [
    {
     "data": {
      "text/html": [
       "<div>\n",
       "<style scoped>\n",
       "    .dataframe tbody tr th:only-of-type {\n",
       "        vertical-align: middle;\n",
       "    }\n",
       "\n",
       "    .dataframe tbody tr th {\n",
       "        vertical-align: top;\n",
       "    }\n",
       "\n",
       "    .dataframe thead th {\n",
       "        text-align: right;\n",
       "    }\n",
       "</style>\n",
       "<table border=\"1\" class=\"dataframe\">\n",
       "  <thead>\n",
       "    <tr style=\"text-align: right;\">\n",
       "      <th></th>\n",
       "      <th>CycleStartDateKey</th>\n",
       "      <th>CycleStartYear</th>\n",
       "      <th>CycleStartYearMonth</th>\n",
       "      <th>CycleSequence</th>\n",
       "      <th>isCrossSell</th>\n",
       "      <th>AcctsOpened</th>\n",
       "      <th>isWon</th>\n",
       "      <th>FeesAssessed</th>\n",
       "      <th>FeesNotInvoiced</th>\n",
       "      <th>FeesPaid</th>\n",
       "      <th>FeesUnpaid</th>\n",
       "      <th>FeesWrittenOff</th>\n",
       "      <th>LeadScore</th>\n",
       "      <th>YearCycleSequece</th>\n",
       "      <th>LeadsEngaged</th>\n",
       "      <th>LeadsQualified</th>\n",
       "      <th>LeadsPromoted</th>\n",
       "      <th>date_diff</th>\n",
       "    </tr>\n",
       "    <tr>\n",
       "      <th>CampaignGroup</th>\n",
       "      <th></th>\n",
       "      <th></th>\n",
       "      <th></th>\n",
       "      <th></th>\n",
       "      <th></th>\n",
       "      <th></th>\n",
       "      <th></th>\n",
       "      <th></th>\n",
       "      <th></th>\n",
       "      <th></th>\n",
       "      <th></th>\n",
       "      <th></th>\n",
       "      <th></th>\n",
       "      <th></th>\n",
       "      <th></th>\n",
       "      <th></th>\n",
       "      <th></th>\n",
       "      <th></th>\n",
       "    </tr>\n",
       "  </thead>\n",
       "  <tbody>\n",
       "    <tr>\n",
       "      <th>Digital Leads</th>\n",
       "      <td>2.017735e+07</td>\n",
       "      <td>2017.676739</td>\n",
       "      <td>201773.334934</td>\n",
       "      <td>1.412439</td>\n",
       "      <td>0.044149</td>\n",
       "      <td>0.076910</td>\n",
       "      <td>0.076839</td>\n",
       "      <td>0.060435</td>\n",
       "      <td>0.002568</td>\n",
       "      <td>0.058604</td>\n",
       "      <td>0.001831</td>\n",
       "      <td>0.017474</td>\n",
       "      <td>72.913295</td>\n",
       "      <td>1.092601</td>\n",
       "      <td>0.516523</td>\n",
       "      <td>0.218867</td>\n",
       "      <td>0.187770</td>\n",
       "      <td>30.338786</td>\n",
       "    </tr>\n",
       "    <tr>\n",
       "      <th>Events</th>\n",
       "      <td>2.017727e+07</td>\n",
       "      <td>2017.663049</td>\n",
       "      <td>201772.518356</td>\n",
       "      <td>1.436312</td>\n",
       "      <td>0.072116</td>\n",
       "      <td>0.113984</td>\n",
       "      <td>0.113754</td>\n",
       "      <td>0.053798</td>\n",
       "      <td>0.009774</td>\n",
       "      <td>0.052259</td>\n",
       "      <td>0.001539</td>\n",
       "      <td>0.052490</td>\n",
       "      <td>67.740783</td>\n",
       "      <td>1.116524</td>\n",
       "      <td>0.575695</td>\n",
       "      <td>0.230663</td>\n",
       "      <td>0.194643</td>\n",
       "      <td>32.342184</td>\n",
       "    </tr>\n",
       "    <tr>\n",
       "      <th>New Marketing Campaigns</th>\n",
       "      <td>2.018314e+07</td>\n",
       "      <td>2018.234742</td>\n",
       "      <td>201831.256455</td>\n",
       "      <td>1.329812</td>\n",
       "      <td>0.193075</td>\n",
       "      <td>0.039906</td>\n",
       "      <td>0.039906</td>\n",
       "      <td>0.025235</td>\n",
       "      <td>0.005282</td>\n",
       "      <td>0.022887</td>\n",
       "      <td>0.002347</td>\n",
       "      <td>0.011737</td>\n",
       "      <td>68.138498</td>\n",
       "      <td>1.124413</td>\n",
       "      <td>0.477700</td>\n",
       "      <td>0.106221</td>\n",
       "      <td>0.084507</td>\n",
       "      <td>17.664319</td>\n",
       "    </tr>\n",
       "    <tr>\n",
       "      <th>Specialty</th>\n",
       "      <td>2.017703e+07</td>\n",
       "      <td>2017.637972</td>\n",
       "      <td>201770.175794</td>\n",
       "      <td>2.272229</td>\n",
       "      <td>0.204194</td>\n",
       "      <td>0.076351</td>\n",
       "      <td>0.076086</td>\n",
       "      <td>0.052375</td>\n",
       "      <td>0.005043</td>\n",
       "      <td>0.051048</td>\n",
       "      <td>0.001327</td>\n",
       "      <td>0.021322</td>\n",
       "      <td>74.224188</td>\n",
       "      <td>1.336813</td>\n",
       "      <td>0.510661</td>\n",
       "      <td>0.168805</td>\n",
       "      <td>0.140405</td>\n",
       "      <td>29.607184</td>\n",
       "    </tr>\n",
       "    <tr>\n",
       "      <th>Webinars</th>\n",
       "      <td>2.017798e+07</td>\n",
       "      <td>2017.742334</td>\n",
       "      <td>201779.627342</td>\n",
       "      <td>2.014267</td>\n",
       "      <td>0.186968</td>\n",
       "      <td>0.088373</td>\n",
       "      <td>0.088373</td>\n",
       "      <td>0.069208</td>\n",
       "      <td>0.003833</td>\n",
       "      <td>0.067078</td>\n",
       "      <td>0.002129</td>\n",
       "      <td>0.020443</td>\n",
       "      <td>70.990204</td>\n",
       "      <td>1.243612</td>\n",
       "      <td>0.540034</td>\n",
       "      <td>0.203365</td>\n",
       "      <td>0.166738</td>\n",
       "      <td>33.794080</td>\n",
       "    </tr>\n",
       "  </tbody>\n",
       "</table>\n",
       "</div>"
      ],
      "text/plain": [
       "                         CycleStartDateKey  CycleStartYear  \\\n",
       "CampaignGroup                                                \n",
       "Digital Leads                 2.017735e+07     2017.676739   \n",
       "Events                        2.017727e+07     2017.663049   \n",
       "New Marketing Campaigns       2.018314e+07     2018.234742   \n",
       "Specialty                     2.017703e+07     2017.637972   \n",
       "Webinars                      2.017798e+07     2017.742334   \n",
       "\n",
       "                         CycleStartYearMonth  CycleSequence  isCrossSell  \\\n",
       "CampaignGroup                                                              \n",
       "Digital Leads                  201773.334934       1.412439     0.044149   \n",
       "Events                         201772.518356       1.436312     0.072116   \n",
       "New Marketing Campaigns        201831.256455       1.329812     0.193075   \n",
       "Specialty                      201770.175794       2.272229     0.204194   \n",
       "Webinars                       201779.627342       2.014267     0.186968   \n",
       "\n",
       "                         AcctsOpened     isWon  FeesAssessed  FeesNotInvoiced  \\\n",
       "CampaignGroup                                                                   \n",
       "Digital Leads               0.076910  0.076839      0.060435         0.002568   \n",
       "Events                      0.113984  0.113754      0.053798         0.009774   \n",
       "New Marketing Campaigns     0.039906  0.039906      0.025235         0.005282   \n",
       "Specialty                   0.076351  0.076086      0.052375         0.005043   \n",
       "Webinars                    0.088373  0.088373      0.069208         0.003833   \n",
       "\n",
       "                         FeesPaid  FeesUnpaid  FeesWrittenOff  LeadScore  \\\n",
       "CampaignGroup                                                              \n",
       "Digital Leads            0.058604    0.001831        0.017474  72.913295   \n",
       "Events                   0.052259    0.001539        0.052490  67.740783   \n",
       "New Marketing Campaigns  0.022887    0.002347        0.011737  68.138498   \n",
       "Specialty                0.051048    0.001327        0.021322  74.224188   \n",
       "Webinars                 0.067078    0.002129        0.020443  70.990204   \n",
       "\n",
       "                         YearCycleSequece  LeadsEngaged  LeadsQualified  \\\n",
       "CampaignGroup                                                             \n",
       "Digital Leads                    1.092601      0.516523        0.218867   \n",
       "Events                           1.116524      0.575695        0.230663   \n",
       "New Marketing Campaigns          1.124413      0.477700        0.106221   \n",
       "Specialty                        1.336813      0.510661        0.168805   \n",
       "Webinars                         1.243612      0.540034        0.203365   \n",
       "\n",
       "                         LeadsPromoted  date_diff  \n",
       "CampaignGroup                                      \n",
       "Digital Leads                 0.187770  30.338786  \n",
       "Events                        0.194643  32.342184  \n",
       "New Marketing Campaigns       0.084507  17.664319  \n",
       "Specialty                     0.140405  29.607184  \n",
       "Webinars                      0.166738  33.794080  "
      ]
     },
     "execution_count": 42,
     "metadata": {},
     "output_type": "execute_result"
    }
   ],
   "source": [
    "model_data.groupby('CampaignGroup').mean()"
   ]
  },
  {
   "cell_type": "code",
   "execution_count": 43,
   "metadata": {},
   "outputs": [
    {
     "data": {
      "text/html": [
       "<div>\n",
       "<style scoped>\n",
       "    .dataframe tbody tr th:only-of-type {\n",
       "        vertical-align: middle;\n",
       "    }\n",
       "\n",
       "    .dataframe tbody tr th {\n",
       "        vertical-align: top;\n",
       "    }\n",
       "\n",
       "    .dataframe thead th {\n",
       "        text-align: right;\n",
       "    }\n",
       "</style>\n",
       "<table border=\"1\" class=\"dataframe\">\n",
       "  <thead>\n",
       "    <tr style=\"text-align: right;\">\n",
       "      <th></th>\n",
       "      <th>CycleStartDateKey</th>\n",
       "      <th>CycleStartYear</th>\n",
       "      <th>CycleStartYearMonth</th>\n",
       "      <th>CycleSequence</th>\n",
       "      <th>isCrossSell</th>\n",
       "      <th>AcctsOpened</th>\n",
       "      <th>isWon</th>\n",
       "      <th>FeesAssessed</th>\n",
       "      <th>FeesNotInvoiced</th>\n",
       "      <th>FeesPaid</th>\n",
       "      <th>FeesUnpaid</th>\n",
       "      <th>FeesWrittenOff</th>\n",
       "      <th>LeadScore</th>\n",
       "      <th>YearCycleSequece</th>\n",
       "      <th>LeadsEngaged</th>\n",
       "      <th>LeadsQualified</th>\n",
       "      <th>LeadsPromoted</th>\n",
       "      <th>date_diff</th>\n",
       "    </tr>\n",
       "    <tr>\n",
       "      <th>LeadSourceGroup</th>\n",
       "      <th></th>\n",
       "      <th></th>\n",
       "      <th></th>\n",
       "      <th></th>\n",
       "      <th></th>\n",
       "      <th></th>\n",
       "      <th></th>\n",
       "      <th></th>\n",
       "      <th></th>\n",
       "      <th></th>\n",
       "      <th></th>\n",
       "      <th></th>\n",
       "      <th></th>\n",
       "      <th></th>\n",
       "      <th></th>\n",
       "      <th></th>\n",
       "      <th></th>\n",
       "      <th></th>\n",
       "    </tr>\n",
       "  </thead>\n",
       "  <tbody>\n",
       "    <tr>\n",
       "      <th>Digital Leads</th>\n",
       "      <td>2.017707e+07</td>\n",
       "      <td>2017.650585</td>\n",
       "      <td>201770.559892</td>\n",
       "      <td>1.425809</td>\n",
       "      <td>0.049270</td>\n",
       "      <td>0.075144</td>\n",
       "      <td>0.075062</td>\n",
       "      <td>0.061336</td>\n",
       "      <td>0.002438</td>\n",
       "      <td>0.059554</td>\n",
       "      <td>0.001782</td>\n",
       "      <td>0.014935</td>\n",
       "      <td>72.287526</td>\n",
       "      <td>1.087477</td>\n",
       "      <td>0.504558</td>\n",
       "      <td>0.214103</td>\n",
       "      <td>0.184807</td>\n",
       "      <td>29.975396</td>\n",
       "    </tr>\n",
       "    <tr>\n",
       "      <th>Event</th>\n",
       "      <td>2.017819e+07</td>\n",
       "      <td>2017.760870</td>\n",
       "      <td>201781.717391</td>\n",
       "      <td>1.291063</td>\n",
       "      <td>0.144928</td>\n",
       "      <td>1.003623</td>\n",
       "      <td>1.000000</td>\n",
       "      <td>0.056763</td>\n",
       "      <td>0.022947</td>\n",
       "      <td>0.054348</td>\n",
       "      <td>0.002415</td>\n",
       "      <td>0.925121</td>\n",
       "      <td>85.229469</td>\n",
       "      <td>1.329710</td>\n",
       "      <td>1.000000</td>\n",
       "      <td>1.000000</td>\n",
       "      <td>1.000000</td>\n",
       "      <td>25.707729</td>\n",
       "    </tr>\n",
       "    <tr>\n",
       "      <th>Events</th>\n",
       "      <td>2.017726e+07</td>\n",
       "      <td>2017.663102</td>\n",
       "      <td>201772.473223</td>\n",
       "      <td>1.447028</td>\n",
       "      <td>0.061614</td>\n",
       "      <td>0.073781</td>\n",
       "      <td>0.073704</td>\n",
       "      <td>0.054638</td>\n",
       "      <td>0.009688</td>\n",
       "      <td>0.053088</td>\n",
       "      <td>0.001550</td>\n",
       "      <td>0.011548</td>\n",
       "      <td>66.984810</td>\n",
       "      <td>1.101294</td>\n",
       "      <td>0.556615</td>\n",
       "      <td>0.195381</td>\n",
       "      <td>0.157793</td>\n",
       "      <td>32.623808</td>\n",
       "    </tr>\n",
       "    <tr>\n",
       "      <th>House Account</th>\n",
       "      <td>2.017763e+07</td>\n",
       "      <td>2017.702566</td>\n",
       "      <td>201776.149689</td>\n",
       "      <td>1.103810</td>\n",
       "      <td>0.365086</td>\n",
       "      <td>0.539658</td>\n",
       "      <td>0.538491</td>\n",
       "      <td>0.415630</td>\n",
       "      <td>0.034215</td>\n",
       "      <td>0.407076</td>\n",
       "      <td>0.008554</td>\n",
       "      <td>0.106921</td>\n",
       "      <td>81.095645</td>\n",
       "      <td>1.241835</td>\n",
       "      <td>0.903577</td>\n",
       "      <td>0.801322</td>\n",
       "      <td>0.793935</td>\n",
       "      <td>36.521773</td>\n",
       "    </tr>\n",
       "    <tr>\n",
       "      <th>Inbound Call</th>\n",
       "      <td>2.017575e+07</td>\n",
       "      <td>2017.522390</td>\n",
       "      <td>201757.351897</td>\n",
       "      <td>1.230093</td>\n",
       "      <td>0.022798</td>\n",
       "      <td>0.301742</td>\n",
       "      <td>0.301254</td>\n",
       "      <td>0.260707</td>\n",
       "      <td>0.006839</td>\n",
       "      <td>0.255984</td>\n",
       "      <td>0.004722</td>\n",
       "      <td>0.051946</td>\n",
       "      <td>90.787820</td>\n",
       "      <td>1.064485</td>\n",
       "      <td>0.837486</td>\n",
       "      <td>0.645823</td>\n",
       "      <td>0.611952</td>\n",
       "      <td>38.603810</td>\n",
       "    </tr>\n",
       "    <tr>\n",
       "      <th>NONE</th>\n",
       "      <td>2.017610e+07</td>\n",
       "      <td>2017.564815</td>\n",
       "      <td>201760.851852</td>\n",
       "      <td>1.070988</td>\n",
       "      <td>0.182099</td>\n",
       "      <td>0.586420</td>\n",
       "      <td>0.586420</td>\n",
       "      <td>0.401235</td>\n",
       "      <td>0.148148</td>\n",
       "      <td>0.398148</td>\n",
       "      <td>0.003086</td>\n",
       "      <td>0.046296</td>\n",
       "      <td>6.728395</td>\n",
       "      <td>1.293210</td>\n",
       "      <td>0.746914</td>\n",
       "      <td>0.740741</td>\n",
       "      <td>0.740741</td>\n",
       "      <td>8.688272</td>\n",
       "    </tr>\n",
       "    <tr>\n",
       "      <th>New Marketing Campaigns</th>\n",
       "      <td>2.018313e+07</td>\n",
       "      <td>2018.233136</td>\n",
       "      <td>201831.105325</td>\n",
       "      <td>1.330769</td>\n",
       "      <td>0.186982</td>\n",
       "      <td>0.036686</td>\n",
       "      <td>0.036686</td>\n",
       "      <td>0.024260</td>\n",
       "      <td>0.004734</td>\n",
       "      <td>0.021893</td>\n",
       "      <td>0.002367</td>\n",
       "      <td>0.010059</td>\n",
       "      <td>68.057988</td>\n",
       "      <td>1.120710</td>\n",
       "      <td>0.473373</td>\n",
       "      <td>0.102959</td>\n",
       "      <td>0.081657</td>\n",
       "      <td>17.564497</td>\n",
       "    </tr>\n",
       "    <tr>\n",
       "      <th>Sales Lead</th>\n",
       "      <td>2.017947e+07</td>\n",
       "      <td>2017.889018</td>\n",
       "      <td>201794.564497</td>\n",
       "      <td>1.096310</td>\n",
       "      <td>0.173010</td>\n",
       "      <td>0.509297</td>\n",
       "      <td>0.508716</td>\n",
       "      <td>0.414439</td>\n",
       "      <td>0.031377</td>\n",
       "      <td>0.403835</td>\n",
       "      <td>0.010604</td>\n",
       "      <td>0.086723</td>\n",
       "      <td>88.968187</td>\n",
       "      <td>1.113306</td>\n",
       "      <td>0.875944</td>\n",
       "      <td>0.687536</td>\n",
       "      <td>0.664003</td>\n",
       "      <td>24.859239</td>\n",
       "    </tr>\n",
       "    <tr>\n",
       "      <th>Service to Sales</th>\n",
       "      <td>2.018069e+07</td>\n",
       "      <td>2018.003387</td>\n",
       "      <td>201806.724809</td>\n",
       "      <td>1.083827</td>\n",
       "      <td>0.538527</td>\n",
       "      <td>0.278577</td>\n",
       "      <td>0.277731</td>\n",
       "      <td>0.199831</td>\n",
       "      <td>0.014395</td>\n",
       "      <td>0.191363</td>\n",
       "      <td>0.008467</td>\n",
       "      <td>0.071973</td>\n",
       "      <td>96.303980</td>\n",
       "      <td>1.187130</td>\n",
       "      <td>0.831499</td>\n",
       "      <td>0.461473</td>\n",
       "      <td>0.438611</td>\n",
       "      <td>26.825572</td>\n",
       "    </tr>\n",
       "    <tr>\n",
       "      <th>Specialty</th>\n",
       "      <td>2.017710e+07</td>\n",
       "      <td>2017.644904</td>\n",
       "      <td>201770.862792</td>\n",
       "      <td>2.275301</td>\n",
       "      <td>0.200283</td>\n",
       "      <td>0.075106</td>\n",
       "      <td>0.074929</td>\n",
       "      <td>0.050602</td>\n",
       "      <td>0.004954</td>\n",
       "      <td>0.049275</td>\n",
       "      <td>0.001327</td>\n",
       "      <td>0.021851</td>\n",
       "      <td>74.015481</td>\n",
       "      <td>1.336783</td>\n",
       "      <td>0.508404</td>\n",
       "      <td>0.166578</td>\n",
       "      <td>0.137739</td>\n",
       "      <td>29.500885</td>\n",
       "    </tr>\n",
       "    <tr>\n",
       "      <th>Webinars</th>\n",
       "      <td>2.017789e+07</td>\n",
       "      <td>2017.733675</td>\n",
       "      <td>201778.714682</td>\n",
       "      <td>2.025181</td>\n",
       "      <td>0.172215</td>\n",
       "      <td>0.080879</td>\n",
       "      <td>0.080879</td>\n",
       "      <td>0.067222</td>\n",
       "      <td>0.003414</td>\n",
       "      <td>0.065301</td>\n",
       "      <td>0.001921</td>\n",
       "      <td>0.015365</td>\n",
       "      <td>70.458813</td>\n",
       "      <td>1.237303</td>\n",
       "      <td>0.533077</td>\n",
       "      <td>0.196116</td>\n",
       "      <td>0.158771</td>\n",
       "      <td>34.020700</td>\n",
       "    </tr>\n",
       "  </tbody>\n",
       "</table>\n",
       "</div>"
      ],
      "text/plain": [
       "                         CycleStartDateKey  CycleStartYear  \\\n",
       "LeadSourceGroup                                              \n",
       "Digital Leads                 2.017707e+07     2017.650585   \n",
       "Event                         2.017819e+07     2017.760870   \n",
       "Events                        2.017726e+07     2017.663102   \n",
       "House Account                 2.017763e+07     2017.702566   \n",
       "Inbound Call                  2.017575e+07     2017.522390   \n",
       "NONE                          2.017610e+07     2017.564815   \n",
       "New Marketing Campaigns       2.018313e+07     2018.233136   \n",
       "Sales Lead                    2.017947e+07     2017.889018   \n",
       "Service to Sales              2.018069e+07     2018.003387   \n",
       "Specialty                     2.017710e+07     2017.644904   \n",
       "Webinars                      2.017789e+07     2017.733675   \n",
       "\n",
       "                         CycleStartYearMonth  CycleSequence  isCrossSell  \\\n",
       "LeadSourceGroup                                                            \n",
       "Digital Leads                  201770.559892       1.425809     0.049270   \n",
       "Event                          201781.717391       1.291063     0.144928   \n",
       "Events                         201772.473223       1.447028     0.061614   \n",
       "House Account                  201776.149689       1.103810     0.365086   \n",
       "Inbound Call                   201757.351897       1.230093     0.022798   \n",
       "NONE                           201760.851852       1.070988     0.182099   \n",
       "New Marketing Campaigns        201831.105325       1.330769     0.186982   \n",
       "Sales Lead                     201794.564497       1.096310     0.173010   \n",
       "Service to Sales               201806.724809       1.083827     0.538527   \n",
       "Specialty                      201770.862792       2.275301     0.200283   \n",
       "Webinars                       201778.714682       2.025181     0.172215   \n",
       "\n",
       "                         AcctsOpened     isWon  FeesAssessed  FeesNotInvoiced  \\\n",
       "LeadSourceGroup                                                                 \n",
       "Digital Leads               0.075144  0.075062      0.061336         0.002438   \n",
       "Event                       1.003623  1.000000      0.056763         0.022947   \n",
       "Events                      0.073781  0.073704      0.054638         0.009688   \n",
       "House Account               0.539658  0.538491      0.415630         0.034215   \n",
       "Inbound Call                0.301742  0.301254      0.260707         0.006839   \n",
       "NONE                        0.586420  0.586420      0.401235         0.148148   \n",
       "New Marketing Campaigns     0.036686  0.036686      0.024260         0.004734   \n",
       "Sales Lead                  0.509297  0.508716      0.414439         0.031377   \n",
       "Service to Sales            0.278577  0.277731      0.199831         0.014395   \n",
       "Specialty                   0.075106  0.074929      0.050602         0.004954   \n",
       "Webinars                    0.080879  0.080879      0.067222         0.003414   \n",
       "\n",
       "                         FeesPaid  FeesUnpaid  FeesWrittenOff  LeadScore  \\\n",
       "LeadSourceGroup                                                            \n",
       "Digital Leads            0.059554    0.001782        0.014935  72.287526   \n",
       "Event                    0.054348    0.002415        0.925121  85.229469   \n",
       "Events                   0.053088    0.001550        0.011548  66.984810   \n",
       "House Account            0.407076    0.008554        0.106921  81.095645   \n",
       "Inbound Call             0.255984    0.004722        0.051946  90.787820   \n",
       "NONE                     0.398148    0.003086        0.046296   6.728395   \n",
       "New Marketing Campaigns  0.021893    0.002367        0.010059  68.057988   \n",
       "Sales Lead               0.403835    0.010604        0.086723  88.968187   \n",
       "Service to Sales         0.191363    0.008467        0.071973  96.303980   \n",
       "Specialty                0.049275    0.001327        0.021851  74.015481   \n",
       "Webinars                 0.065301    0.001921        0.015365  70.458813   \n",
       "\n",
       "                         YearCycleSequece  LeadsEngaged  LeadsQualified  \\\n",
       "LeadSourceGroup                                                           \n",
       "Digital Leads                    1.087477      0.504558        0.214103   \n",
       "Event                            1.329710      1.000000        1.000000   \n",
       "Events                           1.101294      0.556615        0.195381   \n",
       "House Account                    1.241835      0.903577        0.801322   \n",
       "Inbound Call                     1.064485      0.837486        0.645823   \n",
       "NONE                             1.293210      0.746914        0.740741   \n",
       "New Marketing Campaigns          1.120710      0.473373        0.102959   \n",
       "Sales Lead                       1.113306      0.875944        0.687536   \n",
       "Service to Sales                 1.187130      0.831499        0.461473   \n",
       "Specialty                        1.336783      0.508404        0.166578   \n",
       "Webinars                         1.237303      0.533077        0.196116   \n",
       "\n",
       "                         LeadsPromoted  date_diff  \n",
       "LeadSourceGroup                                    \n",
       "Digital Leads                 0.184807  29.975396  \n",
       "Event                         1.000000  25.707729  \n",
       "Events                        0.157793  32.623808  \n",
       "House Account                 0.793935  36.521773  \n",
       "Inbound Call                  0.611952  38.603810  \n",
       "NONE                          0.740741   8.688272  \n",
       "New Marketing Campaigns       0.081657  17.564497  \n",
       "Sales Lead                    0.664003  24.859239  \n",
       "Service to Sales              0.438611  26.825572  \n",
       "Specialty                     0.137739  29.500885  \n",
       "Webinars                      0.158771  34.020700  "
      ]
     },
     "execution_count": 43,
     "metadata": {},
     "output_type": "execute_result"
    }
   ],
   "source": [
    "model_data.groupby('LeadSourceGroup').mean()"
   ]
  },
  {
   "cell_type": "code",
   "execution_count": 44,
   "metadata": {},
   "outputs": [
    {
     "data": {
      "image/png": "[encoded data removed]",
      "text/plain": [
       "<matplotlib.figure.Figure at 0x283d6658860>"
      ]
     },
     "metadata": {},
     "output_type": "display_data"
    }
   ],
   "source": [
    "%matplotlib inline\n",
    "\n",
    "LSG = pd.crosstab(model_data.LeadSourceGroup,model_data.isWon).plot(kind='bar', figsize = (19, 7))\n",
    "plt.title('Lead Source Group')\n",
    "plt.xlabel('Lead Source Group')\n",
    "plt.ylabel('Accounts Won')\n",
    "for p in LSG.patches:\n",
    "    LSG.text(p.get_x() + p.get_width()/2., p.get_height(), '%d' % int(p.get_height()), \n",
    "            fontsize=12, color='black', ha='center', va='bottom')\n"
   ]
  },
  {
   "cell_type": "code",
   "execution_count": 45,
   "metadata": {},
   "outputs": [
    {
     "data": {
      "image/png": "[encoded data removed]",
      "text/plain": [
       "<matplotlib.figure.Figure at 0x283c9fff0b8>"
      ]
     },
     "metadata": {},
     "output_type": "display_data"
    }
   ],
   "source": [
    "%matplotlib inline\n",
    "CG = pd.crosstab(model_data.CampaignGroup,model_data.isWon).plot(kind='bar', figsize = (19, 7))\n",
    "plt.title('Campaign Group')\n",
    "plt.xlabel('Campaign Group')\n",
    "plt.ylabel('Accounts Won')\n",
    "for p in CG.patches:\n",
    "    CG.text(p.get_x() + p.get_width()/2., p.get_height(), '%d' % int(p.get_height()), \n",
    "            fontsize=12, color='black', ha='center', va='bottom')"
   ]
  },
  {
   "cell_type": "code",
   "execution_count": 46,
   "metadata": {},
   "outputs": [
    {
     "data": {
      "image/png": "[encoded data removed]",
      "text/plain": [
       "<matplotlib.figure.Figure at 0x283ca306630>"
      ]
     },
     "metadata": {},
     "output_type": "display_data"
    }
   ],
   "source": [
    "%matplotlib inline\n",
    "MN = pd.crosstab(model_data.CycleStartMonthName,model_data.isWon).plot(kind='bar', figsize = (19,7))\n",
    "plt.title('Month Name')\n",
    "plt.xlabel('Month Name')\n",
    "plt.ylabel('Accounts Won')\n",
    "for p in MN.patches:\n",
    "    MN.text(p.get_x() + p.get_width()/2., p.get_height(), '%d' % int(p.get_height()), \n",
    "            fontsize=12, color='black', ha='center', va='bottom')"
   ]
  },
  {
   "cell_type": "code",
   "execution_count": 47,
   "metadata": {},
   "outputs": [
    {
     "data": {
      "image/png": "[encoded data removed]",
      "text/plain": [
       "<matplotlib.figure.Figure at 0x283ca2b6160>"
      ]
     },
     "metadata": {},
     "output_type": "display_data"
    }
   ],
   "source": [
    "%matplotlib inline\n",
    "WN = pd.crosstab(model_data.CycleStartDayName,model_data.isWon).plot(kind='bar', figsize=(19,7))\n",
    "plt.title('Week Name')\n",
    "plt.xlabel('Week Name')\n",
    "plt.ylabel('Accounts Won')\n",
    "for p in WN.patches:\n",
    "    WN.text(p.get_x() + p.get_width()/2., p.get_height(), '%d' % int(p.get_height()), \n",
    "            fontsize=12, color='black', ha='center', va='bottom')"
   ]
  },
  {
   "cell_type": "code",
   "execution_count": 48,
   "metadata": {},
   "outputs": [],
   "source": [
    "def date_range(row):\n",
    "    x = row['date_diff']\n",
    "    if x>=0 and x<=100:\n",
    "        return \"0-100\"\n",
    "    if x>100 and x<=200:\n",
    "        return \"100-200\"\n",
    "    if x>200 and x<=300:\n",
    "        return \"200-300\"\n",
    "    if x>300 and x<=400:\n",
    "        return \"300-400\"\n",
    "    if x>400 and x<=500:\n",
    "        return \"400-500\"\n",
    "    if x>500 and x<=600:\n",
    "        return \"500-600\"\n",
    "    if x>600 and x<=700:\n",
    "        return \"600-700\"\n",
    "    if x>700 and x<=800:\n",
    "        return \"700-800\"\n",
    "    if x>800 and x<=900:\n",
    "        return \"800-900\"\n",
    "model_data['date_range'] = model_data.apply(date_range, axis =1)    \n"
   ]
  },
  {
   "cell_type": "code",
   "execution_count": 49,
   "metadata": {},
   "outputs": [
    {
     "name": "stdout",
     "output_type": "stream",
     "text": [
      "(106210, 49)\n",
      "(97326, 49)\n",
      "(8884, 49)\n",
      "\n",
      "0-100      91118\n",
      "100-200     4129\n",
      "200-300     1289\n",
      "300-400      443\n",
      "400-500      245\n",
      "500-600       85\n",
      "600-700       15\n",
      "700-800        1\n",
      "800-900        1\n",
      "Name: date_range, dtype: int64\n"
     ]
    }
   ],
   "source": [
    "print(data.shape)\n",
    "print(data[data['CycleEndDate'].dt.year != 2099].shape)\n",
    "print(data[data['CycleEndDate'].dt.year == 2099].shape)\n",
    "print()\n",
    "print(model_data['date_range'].value_counts())"
   ]
  },
  {
   "cell_type": "code",
   "execution_count": 50,
   "metadata": {},
   "outputs": [],
   "source": [
    "model_data_iswon_1 = model_data[model_data['isWon']==1]\n",
    "model_data_iswon_0 = model_data[model_data['isWon']==0]"
   ]
  },
  {
   "cell_type": "code",
   "execution_count": 51,
   "metadata": {},
   "outputs": [
    {
     "data": {
      "text/plain": [
       "Text(0.5,1,'Data Distribution in days for Accounts Lost')"
      ]
     },
     "execution_count": 51,
     "metadata": {},
     "output_type": "execute_result"
    },
    {
     "data": {
      "image/png": "[encoded data removed]",
      "text/plain": [
       "<matplotlib.figure.Figure at 0x283d14afda0>"
      ]
     },
     "metadata": {},
     "output_type": "display_data"
    }
   ],
   "source": [
    "plt.subplot(221)\n",
    "DR = model_data_iswon_1['date_range'].value_counts().plot(kind='bar', figsize=(20,8))\n",
    "plt.title (\"Accounts Opened between days range\")\n",
    "for p in DR.patches:\n",
    "    DR.text(p.get_x() + p.get_width()/2., p.get_height(), '%d' % int(p.get_height()), \n",
    "            fontsize=12, color='black', ha='center', va='bottom')\n",
    "plt.subplot(222)\n",
    "model_data_iswon_1['date_diff'].plot(kind='hist', figsize=(20,8))\n",
    "# plt.grid()\n",
    "plt.title(\"Data Distribution in days for Accounts Opened\")\n",
    "plt.subplot(223)\n",
    "DR = model_data_iswon_0['date_range'].value_counts().plot(kind='bar', figsize=(20,5))\n",
    "plt.title (\"Accounts Lost between days range\")\n",
    "for p in DR.patches:\n",
    "    DR.text(p.get_x() + p.get_width()/2., p.get_height(), '%d' % int(p.get_height()), \n",
    "            fontsize=12, color='black', ha='center', va='bottom')\n",
    "plt.subplot(224)\n",
    "model_data_iswon_0['date_diff'].plot(kind='hist', figsize=(20,8))\n",
    "# plt.grid()\n",
    "plt.subplots_adjust(left=None, bottom=None, right=None, top=1.8, wspace=None, hspace=None)\n",
    "plt.title(\"Data Distribution in days for Accounts Lost\")\n"
   ]
  },
  {
   "cell_type": "markdown",
   "metadata": {},
   "source": [
    "Accounts  \"OPENED / LOST\" mostly happened between 0 - 100 days."
   ]
  },
  {
   "cell_type": "code",
   "execution_count": 52,
   "metadata": {},
   "outputs": [
    {
     "name": "stdout",
     "output_type": "stream",
     "text": [
      "127\n",
      "*=*=*=*=*=*=*=*=*=*=*=*=*=*=*=*=*=*=*=*=*=*=*=*=*=*=*=*=*=*=\n"
     ]
    },
    {
     "data": {
      "text/html": [
       "<div>\n",
       "<style scoped>\n",
       "    .dataframe tbody tr th:only-of-type {\n",
       "        vertical-align: middle;\n",
       "    }\n",
       "\n",
       "    .dataframe tbody tr th {\n",
       "        vertical-align: top;\n",
       "    }\n",
       "\n",
       "    .dataframe thead th {\n",
       "        text-align: right;\n",
       "    }\n",
       "</style>\n",
       "<table border=\"1\" class=\"dataframe\">\n",
       "  <thead>\n",
       "    <tr style=\"text-align: right;\">\n",
       "      <th></th>\n",
       "      <th>CycleStartDateKey</th>\n",
       "      <th>CycleStartDate</th>\n",
       "      <th>CycleStartYear</th>\n",
       "      <th>CycleStartQuarter</th>\n",
       "      <th>CycleStartYearQuarter</th>\n",
       "      <th>CycleStartYearMonth</th>\n",
       "      <th>CycleStartYearMonthName</th>\n",
       "      <th>CycleStartMonthName</th>\n",
       "      <th>CycleStartMonthNameLong</th>\n",
       "      <th>CycleStartYearWeek</th>\n",
       "      <th>...</th>\n",
       "      <th>FeesUnpaid</th>\n",
       "      <th>FeesWrittenOff</th>\n",
       "      <th>LeadScore</th>\n",
       "      <th>LeadGrade</th>\n",
       "      <th>YearCycleSequece</th>\n",
       "      <th>LeadsEngaged</th>\n",
       "      <th>LeadsQualified</th>\n",
       "      <th>LeadsPromoted</th>\n",
       "      <th>date_diff</th>\n",
       "      <th>date_range</th>\n",
       "    </tr>\n",
       "  </thead>\n",
       "  <tbody>\n",
       "    <tr>\n",
       "      <th>1</th>\n",
       "      <td>20170711</td>\n",
       "      <td>2017-07-11</td>\n",
       "      <td>2017</td>\n",
       "      <td>Q3</td>\n",
       "      <td>2017 Q3</td>\n",
       "      <td>201707</td>\n",
       "      <td>2017 Jul</td>\n",
       "      <td>Jul</td>\n",
       "      <td>July</td>\n",
       "      <td>2017-W28</td>\n",
       "      <td>...</td>\n",
       "      <td>0</td>\n",
       "      <td>0</td>\n",
       "      <td>65</td>\n",
       "      <td>B</td>\n",
       "      <td>1</td>\n",
       "      <td>1</td>\n",
       "      <td>0</td>\n",
       "      <td>0</td>\n",
       "      <td>32</td>\n",
       "      <td>0-100</td>\n",
       "    </tr>\n",
       "    <tr>\n",
       "      <th>2</th>\n",
       "      <td>20180705</td>\n",
       "      <td>2018-07-05</td>\n",
       "      <td>2018</td>\n",
       "      <td>Q3</td>\n",
       "      <td>2018 Q3</td>\n",
       "      <td>201807</td>\n",
       "      <td>2018 Jul</td>\n",
       "      <td>Jul</td>\n",
       "      <td>July</td>\n",
       "      <td>2018-W27</td>\n",
       "      <td>...</td>\n",
       "      <td>0</td>\n",
       "      <td>0</td>\n",
       "      <td>100</td>\n",
       "      <td>A</td>\n",
       "      <td>1</td>\n",
       "      <td>1</td>\n",
       "      <td>1</td>\n",
       "      <td>1</td>\n",
       "      <td>8</td>\n",
       "      <td>0-100</td>\n",
       "    </tr>\n",
       "  </tbody>\n",
       "</table>\n",
       "<p>2 rows × 50 columns</p>\n",
       "</div>"
      ],
      "text/plain": [
       "   CycleStartDateKey CycleStartDate  CycleStartYear CycleStartQuarter  \\\n",
       "1           20170711     2017-07-11            2017                Q3   \n",
       "2           20180705     2018-07-05            2018                Q3   \n",
       "\n",
       "  CycleStartYearQuarter  CycleStartYearMonth CycleStartYearMonthName  \\\n",
       "1               2017 Q3               201707                2017 Jul   \n",
       "2               2018 Q3               201807                2018 Jul   \n",
       "\n",
       "  CycleStartMonthName CycleStartMonthNameLong CycleStartYearWeek    ...      \\\n",
       "1                 Jul                    July           2017-W28    ...       \n",
       "2                 Jul                    July           2018-W27    ...       \n",
       "\n",
       "  FeesUnpaid FeesWrittenOff LeadScore LeadGrade YearCycleSequece LeadsEngaged  \\\n",
       "1          0              0        65         B                1            1   \n",
       "2          0              0       100         A                1            1   \n",
       "\n",
       "  LeadsQualified LeadsPromoted date_diff date_range  \n",
       "1              0             0        32      0-100  \n",
       "2              1             1         8      0-100  \n",
       "\n",
       "[2 rows x 50 columns]"
      ]
     },
     "execution_count": 52,
     "metadata": {},
     "output_type": "execute_result"
    }
   ],
   "source": [
    "test = model_data[model_data['date_range']=='0-100']\n",
    "print(len(test.CycleStartYearWeek.value_counts()))\n",
    "print('*='*30)\n",
    "model_data.head(2)"
   ]
  },
  {
   "cell_type": "code",
   "execution_count": 354,
   "metadata": {},
   "outputs": [],
   "source": [
    "## Selecting Features\n",
    "\n",
    "model_data_filtered = model_data[['CycleStartDate','CycleStartMonthNameLong','CycleStartYearWeek','CycleStartDayName','CycleEndDate','LeadCycleHasCampaignSource','date_diff','InitialRecordType','CyclePhase',\n",
    "                         'CycleSequence','CycleLeadSource','LeadSourceGroup','LeadSourceType','isCrossSell','CycleOwnerTitle','LeadScore',\n",
    "                         'DepartmentInitiatingSalesCycle','LeadsEngaged','LeadsQualified','LeadsPromoted','CycleLeadSource','isWon']]"
   ]
  },
  {
   "cell_type": "markdown",
   "metadata": {},
   "source": [
    "<b>Notes:</b>\n",
    "1. Considering the columnn \"LeadSourceType\" instead of \"CampaignType\" to avoid NULL.\n",
    "2. Considered the column \"LeasSourceGroup\" instead of \"CampaignGroup\" to avoid NULL."
   ]
  },
  {
   "cell_type": "code",
   "execution_count": 54,
   "metadata": {},
   "outputs": [],
   "source": [
    "# print(model_data_filtered.head(10))"
   ]
  },
  {
   "cell_type": "code",
   "execution_count": 55,
   "metadata": {},
   "outputs": [
    {
     "name": "stdout",
     "output_type": "stream",
     "text": [
      "<class 'pandas.core.frame.DataFrame'>\n",
      "Int64Index: 97326 entries, 1 to 106209\n",
      "Data columns (total 21 columns):\n",
      "CycleStartDate                    97326 non-null datetime64[ns]\n",
      "CycleStartMonthNameLong           97326 non-null object\n",
      "CycleStartYearWeek                97326 non-null object\n",
      "CycleStartDayName                 97326 non-null object\n",
      "CycleEndDate                      97326 non-null datetime64[ns]\n",
      "LeadCycleHasCampaignSource        97326 non-null object\n",
      "date_diff                         97326 non-null int64\n",
      "InitialRecordType                 97325 non-null object\n",
      "CyclePhase                        97326 non-null object\n",
      "CycleSequence                     97326 non-null int64\n",
      "CycleLeadSource                   97326 non-null object\n",
      "LeadSourceGroup                   97326 non-null object\n",
      "LeadSourceType                    97326 non-null object\n",
      "isCrossSell                       97326 non-null int64\n",
      "CycleOwnerTitle                   97326 non-null object\n",
      "LeadScore                         97326 non-null int64\n",
      "DepartmentInitiatingSalesCycle    97326 non-null object\n",
      "LeadsEngaged                      97326 non-null int64\n",
      "LeadsQualified                    97326 non-null int64\n",
      "LeadsPromoted                     97326 non-null int64\n",
      "isWon                             97326 non-null int64\n",
      "dtypes: datetime64[ns](2), int64(8), object(11)\n",
      "memory usage: 18.8+ MB\n"
     ]
    }
   ],
   "source": [
    "model_data_filtered.info()"
   ]
  },
  {
   "cell_type": "code",
   "execution_count": 56,
   "metadata": {},
   "outputs": [],
   "source": [
    "## Sorting the data based on the \"CycleStartDate\"\n",
    "\n",
    "model_data_filtered = model_data_filtered.sort_values(['CycleStartDate'], axis =0, ascending = False)"
   ]
  },
  {
   "cell_type": "code",
   "execution_count": 57,
   "metadata": {},
   "outputs": [
    {
     "name": "stdout",
     "output_type": "stream",
     "text": [
      "      CycleStartDate CycleStartMonthNameLong CycleStartYearWeek  \\\n",
      "12612     2019-06-02                    June           2019-W22   \n",
      "30357     2019-06-02                    June           2019-W22   \n",
      "\n",
      "      CycleStartDayName        CycleEndDate LeadCycleHasCampaignSource  \\\n",
      "12612               Sun 2019-06-02 16:33:45            Campaign Source   \n",
      "30357               Sun 2019-06-02 09:47:30        Non-Campaign Source   \n",
      "\n",
      "       date_diff   InitialRecordType CyclePhase  CycleSequence  ...    \\\n",
      "12612          1  ETC Marketing Lead   Nurtured              3  ...     \n",
      "30357          1      ETC Sales Lead   Nurtured              2  ...     \n",
      "\n",
      "      LeadSourceGroup LeadSourceType isCrossSell    CycleOwnerTitle LeadScore  \\\n",
      "12612       Specialty     Newsletter           0              House        65   \n",
      "30357    Inbound Call   Inbound Call           0  Account Executive       100   \n",
      "\n",
      "       DepartmentInitiatingSalesCycle LeadsEngaged  LeadsQualified  \\\n",
      "12612                       Marketing            0               0   \n",
      "30357                       Marketing            0               0   \n",
      "\n",
      "       LeadsPromoted  isWon  \n",
      "12612              0      0  \n",
      "30357              0      0  \n",
      "\n",
      "[2 rows x 21 columns]\n",
      "Index(['CycleStartDate', 'CycleStartMonthNameLong', 'CycleStartYearWeek',\n",
      "       'CycleStartDayName', 'CycleEndDate', 'LeadCycleHasCampaignSource',\n",
      "       'date_diff', 'InitialRecordType', 'CyclePhase', 'CycleSequence',\n",
      "       'CycleLeadSource', 'LeadSourceGroup', 'LeadSourceType', 'isCrossSell',\n",
      "       'CycleOwnerTitle', 'LeadScore', 'DepartmentInitiatingSalesCycle',\n",
      "       'LeadsEngaged', 'LeadsQualified', 'LeadsPromoted', 'isWon'],\n",
      "      dtype='object')\n"
     ]
    }
   ],
   "source": [
    "print(model_data_filtered.head(2))\n",
    "print(model_data_filtered.columns)"
   ]
  },
  {
   "cell_type": "markdown",
   "metadata": {},
   "source": [
    "## Imputing the Missing Values\n",
    "<p> we have only one column <b>\"InitialRecordType\"</b> which is having only 1 missing values. hence I am removing that row to reduce the effort.</p>"
   ]
  },
  {
   "cell_type": "code",
   "execution_count": 58,
   "metadata": {},
   "outputs": [
    {
     "data": {
      "text/plain": [
       "<matplotlib.axes._subplots.AxesSubplot at 0x283ca14e710>"
      ]
     },
     "execution_count": 58,
     "metadata": {},
     "output_type": "execute_result"
    },
    {
     "data": {
      "image/png": "[encoded data removed]",
      "text/plain": [
       "<matplotlib.figure.Figure at 0x283c99aa6a0>"
      ]
     },
     "metadata": {},
     "output_type": "display_data"
    }
   ],
   "source": [
    "sns.heatmap(model_data_filtered.isnull(),yticklabels=False,cbar=False,cmap='viridis')"
   ]
  },
  {
   "cell_type": "code",
   "execution_count": 101,
   "metadata": {},
   "outputs": [
    {
     "name": "stdout",
     "output_type": "stream",
     "text": [
      "(97325, 21)\n",
      "Index(['CycleStartDate', 'CycleStartMonthNameLong', 'CycleStartYearWeek',\n",
      "       'CycleStartDayName', 'CycleEndDate', 'LeadCycleHasCampaignSource',\n",
      "       'date_diff', 'InitialRecordType', 'CyclePhase', 'CycleSequence',\n",
      "       'CycleLeadSource', 'LeadSourceGroup', 'LeadSourceType', 'isCrossSell',\n",
      "       'CycleOwnerTitle', 'LeadScore', 'DepartmentInitiatingSalesCycle',\n",
      "       'LeadsEngaged', 'LeadsQualified', 'LeadsPromoted', 'isWon'],\n",
      "      dtype='object')\n"
     ]
    }
   ],
   "source": [
    "model_data_filtered = model_data_filtered[model_data_filtered['InitialRecordType'].notnull()]\n",
    "\n",
    "print(model_data_filtered.shape)\n",
    "print(model_data_filtered.columns)\n"
   ]
  },
  {
   "cell_type": "code",
   "execution_count": 359,
   "metadata": {},
   "outputs": [],
   "source": [
    "model_data_filtered['CycleLeadSource'] = model_data_filtered['CycleLeadSource'].astype(str)"
   ]
  },
  {
   "cell_type": "markdown",
   "metadata": {},
   "source": [
    "## Feature Importance"
   ]
  },
  {
   "cell_type": "code",
   "execution_count": 1,
   "metadata": {},
   "outputs": [],
   "source": [
    "from sklearn.preprocessing import LabelEncoder\n",
    "from sklearn import preprocessing\n",
    "from sklearn.feature_selection import RFE\n",
    "from sklearn.linear_model import LogisticRegression\n",
    "\n",
    "h1 = model_data_filtered['CycleStartDate']\n",
    "h2 = model_data_filtered['CycleStartMonthNameLong']\n",
    "h3 = model_data_filtered['CycleStartYearWeek']\n",
    "h4 = model_data_filtered['CycleStartDayName']\n",
    "h5 = model_data_filtered['CycleEndDate']\n",
    "h6 = model_data_filtered['LeadCycleHasCampaignSource']\n",
    "h7 = model_data_filtered['LeadSourceType']\n",
    "h8 = model_data_filtered['InitialRecordType']\n",
    "h9 = model_data_filtered['CyclePhase']\n",
    "# h10 = model_data_filtered['CycleLeadSource']\n",
    "h11 = model_data_filtered['LeadSourceGroup']\n",
    "h12 = model_data_filtered['CycleOwnerTitle']\n",
    "h13 = model_data_filtered['DepartmentInitiatingSalesCycle']\n",
    "h14 = model_data_filtered['CycleLeadSource']\n",
    "\n",
    "\n",
    "le = LabelEncoder()\n",
    "\n",
    "CycleStartDate = le.fit_transform(h1)\n",
    "CycleStartMonthNameLong = le.fit_transform(h2)\n",
    "CycleStartYearWeek = le.fit_transform(h3)\n",
    "CycleStartDayName = le.fit_transform(h4)\n",
    "CycleEndDate = le.fit_transform(h5)\n",
    "LeadCycleHasCampaignSource = le.fit_transform(h6)\n",
    "LeadSourceType = le.fit_transform(h7)\n",
    "InitialRecordType = le.fit_transform(h8)\n",
    "CyclePhase = le.fit_transform(h9)\n",
    "CycleLeadSource = le.fit_transform(h10)\n",
    "LeadSourceGroup = le.fit_transform(h11)\n",
    "CycleOwnerTitle = le.fit_transform(h12)\n",
    "DepartmentInitiatingSalesCycle = le.fit_transform(h13)\n",
    "\n",
    "\n",
    "#Creating the dataframe\n",
    "feature = pd.DataFrame(model_data_filtered.index)\n",
    "feature['CycleStart_Date'] = CycleStartDate.reshape(-1,1)\n",
    "feature['CycleStartMonthNameLong'] = CycleStartMonthNameLong.reshape(-1,1)\n",
    "feature['CycleStartYearWeek'] = CycleStartYearWeek.reshape(-1,1)\n",
    "feature['CycleStartDayName'] = CycleStartDayName.reshape(-1,1)\n",
    "feature['CycleEndDate'] = CycleEndDate.reshape(-1,1)\n",
    "feature['LeadCycleHasCampaignSource'] = LeadCycleHasCampaignSource.reshape(-1,1)\n",
    "feature['LeadSourceType'] = LeadSourceType.reshape(-1,1)\n",
    "feature['InitialRecordType'] = InitialRecordType.reshape(-1,1)\n",
    "feature['CyclePhase'] = CyclePhase.reshape(-1,1)\n",
    "feature['CycleLeadSource'] = CycleLeadSource.reshape(-1,1)\n",
    "feature['LeadSourceGroup'] = LeadSourceGroup.reshape(-1,1)\n",
    "feature['CycleOwnerTitle'] = CycleOwnerTitle.reshape(-1,1)\n",
    "feature['DepartmentInitiatingSalesCycle'] = DepartmentInitiatingSalesCycle.reshape(-1,1)\n",
    "\n",
    "\n",
    "feature['isCrossSell'] = model_data_filtered['isCrossSell'].reshape(-1,1)\n",
    "feature['LeadScore'] = model_data_filtered['LeadScore'].reshape(-1,1)\n",
    "feature['date_diff'] = model_data_filtered['date_diff'].reshape(-1,1)\n",
    "feature['CycleSequence'] = model_data_filtered['CycleSequence'].reshape(-1,1)\n",
    "feature['LeadsQualified'] = model_data_filtered['LeadsQualified'].reshape(-1,1)\n",
    "feature['LeadsEngaged'] = model_data_filtered['LeadsEngaged'].reshape(-1,1)\n",
    "feature['LeadsPromoted'] = model_data_filtered['LeadsPromoted'].reshape(-1,1)\n",
    "feature['isWon'] = model_data_filtered['isWon'].reshape(-1,1)\n",
    "\n",
    "\n",
    "feature = feature[['CycleStart_Date','CycleStartMonthNameLong','CycleStartYearWeek','CycleStartDayName','CycleEndDate'\n",
    "                   ,'LeadCycleHasCampaignSource', 'LeadSourceType', 'InitialRecordType','CyclePhase',\n",
    "                   'LeadSourceGroup', 'CycleOwnerTitle', 'DepartmentInitiatingSalesCycle','isCrossSell','LeadScore',\n",
    "                   'date_diff','CycleSequence','LeadsQualified','LeadsEngaged','LeadsPromoted','CycleLeadSource','isWon']]\n",
    "\n",
    "\n",
    "                                                                               \n",
    "# print(feature.columns)\n",
    "# print(feature.shape)\n",
    "# print(feature.info())"
   ]
  },
  {
   "cell_type": "code",
   "execution_count": 103,
   "metadata": {},
   "outputs": [
    {
     "name": "stdout",
     "output_type": "stream",
     "text": [
      "**************************************************\n",
      "(68129, 20) (29196, 20)\n"
     ]
    }
   ],
   "source": [
    "Train = feature[:68129]\n",
    "Test = feature[68129:97325]\n",
    "# CV = data[750:]\n",
    "print ('*'*50)\n",
    "print(Train.shape, Test.shape)"
   ]
  },
  {
   "cell_type": "code",
   "execution_count": 104,
   "metadata": {},
   "outputs": [
    {
     "name": "stdout",
     "output_type": "stream",
     "text": [
      "(68129, 19) (68129,)\n",
      "**************************************************\n",
      "(29196, 19) (29196,)\n"
     ]
    }
   ],
   "source": [
    "Train_X = Train.iloc[:,:-1].values\n",
    "Train_Y = Train.iloc[:,-1].values\n",
    "print(Train_X.shape, Train_Y.shape)\n",
    "print('*'*50)\n",
    "Test_X = Test.iloc[:,:-1].values\n",
    "Test_Y = Test.iloc[:,-1].values\n",
    "print(Test_X.shape, Test_Y.shape)"
   ]
  },
  {
   "cell_type": "code",
   "execution_count": 105,
   "metadata": {},
   "outputs": [
    {
     "data": {
      "text/plain": [
       "LogisticRegression(C=1.0, class_weight=None, dual=False, fit_intercept=True,\n",
       "                   intercept_scaling=1, l1_ratio=None, max_iter=100,\n",
       "                   multi_class='warn', n_jobs=None, penalty='l2',\n",
       "                   random_state=None, solver='warn', tol=0.0001, verbose=0,\n",
       "                   warm_start=False)"
      ]
     },
     "execution_count": 105,
     "metadata": {},
     "output_type": "execute_result"
    }
   ],
   "source": [
    "model = LogisticRegression()\n",
    "model.fit(Train_X, Train_Y)"
   ]
  },
  {
   "cell_type": "code",
   "execution_count": 108,
   "metadata": {},
   "outputs": [
    {
     "name": "stdout",
     "output_type": "stream",
     "text": [
      "Accuracy of logistic regression classifier on test set: 0.92\n"
     ]
    }
   ],
   "source": [
    "y_pred2 = model.predict(Test_X)\n",
    "print('Accuracy of logistic regression classifier on test set: {:.2f}'.format(model.score(Test_X, Test_Y)))"
   ]
  },
  {
   "cell_type": "code",
   "execution_count": 64,
   "metadata": {},
   "outputs": [
    {
     "data": {
      "text/plain": [
       "[-0.01631709864880394,\n",
       " -0.09090522785513747,\n",
       " -0.050075216870347494,\n",
       " -0.02119195005477707,\n",
       " 0.0002774707104868289,\n",
       " 0.36294867432471245,\n",
       " -0.006541160866511914,\n",
       " -0.027515684656018898,\n",
       " -0.2421138192764387,\n",
       " 0.041235474364996784,\n",
       " 0.038484236261877997,\n",
       " 0.005931492743750097,\n",
       " 0.032764783325021904,\n",
       " 0.0007507539243296182,\n",
       " -0.04404478812711611,\n",
       " -0.43670831132625537,\n",
       " 1.3786028428636274,\n",
       " 0.5754549341777727,\n",
       " 1.4722383734501465]"
      ]
     },
     "execution_count": 64,
     "metadata": {},
     "output_type": "execute_result"
    }
   ],
   "source": [
    "features = feature.keys()\n",
    "# features = list(Train.drop('Outcome',1).columns)\n",
    "features\n",
    "coef = list(model.coef_[0])\n",
    "coef"
   ]
  },
  {
   "cell_type": "code",
   "execution_count": 65,
   "metadata": {},
   "outputs": [
    {
     "data": {
      "text/html": [
       "<div>\n",
       "<style scoped>\n",
       "    .dataframe tbody tr th:only-of-type {\n",
       "        vertical-align: middle;\n",
       "    }\n",
       "\n",
       "    .dataframe tbody tr th {\n",
       "        vertical-align: top;\n",
       "    }\n",
       "\n",
       "    .dataframe thead th {\n",
       "        text-align: right;\n",
       "    }\n",
       "</style>\n",
       "<table border=\"1\" class=\"dataframe\">\n",
       "  <thead>\n",
       "    <tr style=\"text-align: right;\">\n",
       "      <th></th>\n",
       "      <th>Importance</th>\n",
       "      <th>values</th>\n",
       "    </tr>\n",
       "  </thead>\n",
       "  <tbody>\n",
       "    <tr>\n",
       "      <th>15</th>\n",
       "      <td>CycleSequence</td>\n",
       "      <td>-0.436708</td>\n",
       "    </tr>\n",
       "    <tr>\n",
       "      <th>8</th>\n",
       "      <td>CyclePhase</td>\n",
       "      <td>-0.242114</td>\n",
       "    </tr>\n",
       "    <tr>\n",
       "      <th>1</th>\n",
       "      <td>CycleStartMonthNameLong</td>\n",
       "      <td>-0.090905</td>\n",
       "    </tr>\n",
       "    <tr>\n",
       "      <th>2</th>\n",
       "      <td>CycleStartYearWeek</td>\n",
       "      <td>-0.050075</td>\n",
       "    </tr>\n",
       "    <tr>\n",
       "      <th>14</th>\n",
       "      <td>date_diff</td>\n",
       "      <td>-0.044045</td>\n",
       "    </tr>\n",
       "    <tr>\n",
       "      <th>7</th>\n",
       "      <td>InitialRecordType</td>\n",
       "      <td>-0.027516</td>\n",
       "    </tr>\n",
       "    <tr>\n",
       "      <th>3</th>\n",
       "      <td>CycleStartDayName</td>\n",
       "      <td>-0.021192</td>\n",
       "    </tr>\n",
       "    <tr>\n",
       "      <th>0</th>\n",
       "      <td>CycleStart_Date</td>\n",
       "      <td>-0.016317</td>\n",
       "    </tr>\n",
       "    <tr>\n",
       "      <th>6</th>\n",
       "      <td>LeadSourceType</td>\n",
       "      <td>-0.006541</td>\n",
       "    </tr>\n",
       "    <tr>\n",
       "      <th>4</th>\n",
       "      <td>CycleEndDate</td>\n",
       "      <td>0.000277</td>\n",
       "    </tr>\n",
       "    <tr>\n",
       "      <th>13</th>\n",
       "      <td>LeadScore</td>\n",
       "      <td>0.000751</td>\n",
       "    </tr>\n",
       "    <tr>\n",
       "      <th>11</th>\n",
       "      <td>DepartmentInitiatingSalesCycle</td>\n",
       "      <td>0.005931</td>\n",
       "    </tr>\n",
       "    <tr>\n",
       "      <th>12</th>\n",
       "      <td>isCrossSell</td>\n",
       "      <td>0.032765</td>\n",
       "    </tr>\n",
       "    <tr>\n",
       "      <th>10</th>\n",
       "      <td>CycleOwnerTitle</td>\n",
       "      <td>0.038484</td>\n",
       "    </tr>\n",
       "    <tr>\n",
       "      <th>9</th>\n",
       "      <td>LeadSourceGroup</td>\n",
       "      <td>0.041235</td>\n",
       "    </tr>\n",
       "    <tr>\n",
       "      <th>5</th>\n",
       "      <td>LeadCycleHasCampaignSource</td>\n",
       "      <td>0.362949</td>\n",
       "    </tr>\n",
       "    <tr>\n",
       "      <th>17</th>\n",
       "      <td>LeadsEngaged</td>\n",
       "      <td>0.575455</td>\n",
       "    </tr>\n",
       "    <tr>\n",
       "      <th>16</th>\n",
       "      <td>LeadsQualified</td>\n",
       "      <td>1.378603</td>\n",
       "    </tr>\n",
       "    <tr>\n",
       "      <th>18</th>\n",
       "      <td>LeadsPromoted</td>\n",
       "      <td>1.472238</td>\n",
       "    </tr>\n",
       "  </tbody>\n",
       "</table>\n",
       "</div>"
      ],
      "text/plain": [
       "                        Importance    values\n",
       "15                   CycleSequence -0.436708\n",
       "8                       CyclePhase -0.242114\n",
       "1          CycleStartMonthNameLong -0.090905\n",
       "2               CycleStartYearWeek -0.050075\n",
       "14                       date_diff -0.044045\n",
       "7                InitialRecordType -0.027516\n",
       "3                CycleStartDayName -0.021192\n",
       "0                  CycleStart_Date -0.016317\n",
       "6                   LeadSourceType -0.006541\n",
       "4                     CycleEndDate  0.000277\n",
       "13                       LeadScore  0.000751\n",
       "11  DepartmentInitiatingSalesCycle  0.005931\n",
       "12                     isCrossSell  0.032765\n",
       "10                 CycleOwnerTitle  0.038484\n",
       "9                  LeadSourceGroup  0.041235\n",
       "5       LeadCycleHasCampaignSource  0.362949\n",
       "17                    LeadsEngaged  0.575455\n",
       "16                  LeadsQualified  1.378603\n",
       "18                   LeadsPromoted  1.472238"
      ]
     },
     "execution_count": 65,
     "metadata": {},
     "output_type": "execute_result"
    }
   ],
   "source": [
    "feature1 = pd.DataFrame()\n",
    "feature1['Importance'] = features[0:19]\n",
    "# feature['Importance'] = list(X.drop('Outcome',1).columns)\n",
    "feature1['values'] = coef\n",
    "feature1.sort_values(by = ['values'], inplace =True, ascending =True)\n",
    "feature1\n"
   ]
  },
  {
   "cell_type": "code",
   "execution_count": 66,
   "metadata": {},
   "outputs": [
    {
     "data": {
      "text/plain": [
       "<matplotlib.axes._subplots.AxesSubplot at 0x283cba25ef0>"
      ]
     },
     "execution_count": 66,
     "metadata": {},
     "output_type": "execute_result"
    },
    {
     "data": {
      "image/png": "[encoded data removed]",
      "text/plain": [
       "<matplotlib.figure.Figure at 0x283cba23908>"
      ]
     },
     "metadata": {},
     "output_type": "display_data"
    }
   ],
   "source": [
    "feature1['positive'] = feature1['values'] >0\n",
    "feature1.set_index('Importance', inplace=True)\n",
    "dims = plt.figure(figsize = (19, 10))\n",
    "feature1['values'].plot(kind='barh', color = feature1['positive'].map({True:'blue', False:'Red'}))"
   ]
  },
  {
   "cell_type": "code",
   "execution_count": 67,
   "metadata": {},
   "outputs": [
    {
     "name": "stdout",
     "output_type": "stream",
     "text": [
      "Num Features: 9\n",
      "Selected Features: [False False False False False  True False  True  True  True False False\n",
      "  True False  True False  True  True  True]\n",
      "Feature Ranking: [ 6  4  5  2 11  1  9  1  1  1  7  3  1 10  1  8  1  1  1]\n"
     ]
    }
   ],
   "source": [
    "\n",
    "# load data\n",
    "# url = \"https://raw.githubusercontent.com/jbrownlee/Datasets/master/pima-indians-diabetes.data.csv\"\n",
    "names = feature[0:12]\n",
    "# dataframe = read_csv(url, names=names)\n",
    "# array = dataframe.values\n",
    "X = Train.iloc[:,:-1].values\n",
    "Y = Train.iloc[:,-1].values\n",
    "\n",
    "# print(X.keys())\n",
    "\n",
    "# feature extraction\n",
    "model = LogisticRegression()\n",
    "rfe = RFE(model)\n",
    "fit = rfe.fit(X, Y)\n",
    "\n",
    "print((\"Num Features: %d\") % fit.n_features_)\n",
    "print((\"Selected Features: %s\") % fit.support_)\n",
    "print((\"Feature Ranking: %s\") % fit.ranking_)\n",
    "\n",
    "# print(n_features)"
   ]
  },
  {
   "cell_type": "markdown",
   "metadata": {},
   "source": [
    "<P><b>Features selected based on RFE results:</b></P> 'LeadCycleHasCampaignSource', 'InitialRecordType', 'CyclePhase', 'LeadSourceGroup', 'isCrossSell', 'date_diff', 'LeadsQualified', 'LeadsEngaged', 'LeadsPromoted'"
   ]
  },
  {
   "cell_type": "code",
   "execution_count": 68,
   "metadata": {},
   "outputs": [
    {
     "data": {
      "text/plain": [
       "Index(['CycleStart_Date', 'CycleStartMonthNameLong', 'CycleStartYearWeek',\n",
       "       'CycleStartDayName', 'CycleEndDate', 'LeadCycleHasCampaignSource',\n",
       "       'LeadSourceType', 'InitialRecordType', 'CyclePhase', 'LeadSourceGroup',\n",
       "       'CycleOwnerTitle', 'DepartmentInitiatingSalesCycle', 'isCrossSell',\n",
       "       'LeadScore', 'date_diff', 'CycleSequence', 'LeadsQualified',\n",
       "       'LeadsEngaged', 'LeadsPromoted', 'isWon'],\n",
       "      dtype='object')"
      ]
     },
     "execution_count": 68,
     "metadata": {},
     "output_type": "execute_result"
    }
   ],
   "source": [
    "feature.columns"
   ]
  },
  {
   "cell_type": "code",
   "execution_count": 69,
   "metadata": {},
   "outputs": [],
   "source": [
    "# dims = plt.figure(figsize = (19, 10))\n",
    "# feature1['values'].plot(kind='barh', color = fit.n_features.map({True:'blue', False:'Red'}))"
   ]
  },
  {
   "cell_type": "markdown",
   "metadata": {},
   "source": [
    "Lasso"
   ]
  },
  {
   "cell_type": "code",
   "execution_count": 70,
   "metadata": {},
   "outputs": [],
   "source": [
    "# from sklearn.feature_selection import SelectFromModel\n",
    "# sel_ = SelectFromModel(LogisticRegression(C=1, penalty='l2'))\n",
    "# sel_.fit(X,Y)"
   ]
  },
  {
   "cell_type": "code",
   "execution_count": 71,
   "metadata": {},
   "outputs": [],
   "source": [
    "# sel_.get_support()"
   ]
  },
  {
   "cell_type": "code",
   "execution_count": 72,
   "metadata": {},
   "outputs": [],
   "source": [
    "# np.sum(sel_.estimator_.coef_ == 0)"
   ]
  },
  {
   "cell_type": "code",
   "execution_count": 73,
   "metadata": {},
   "outputs": [],
   "source": [
    "# from sklearn.preprocessing import StandardScaler\n",
    "\n",
    "# scaler = StandardScaler()\n",
    "# scaler.fit(X) \n",
    "# X_scaled = pd.DataFrame(scaler.transform(X),columns = X.columns)\n",
    "\n",
    "# clf = LogisticRegression(random_state = 0)\n",
    "# clf.fit(X_scaled, Y)\n",
    "\n",
    "# feature_importance = abs(clf.coef_[0])\n",
    "# feature_importance = 100.0 * (feature_importance / feature_importance.max())\n",
    "# sorted_idx = np.argsort(feature_importance)\n",
    "# pos = np.arange(sorted_idx.shape[0]) + .5\n",
    "\n",
    "# featfig = plt.figure()\n",
    "# featax = featfig.add_subplot(1, 1, 1)\n",
    "# featax.barh(pos, feature_importance[sorted_idx], align='center')\n",
    "# featax.set_yticks(pos)\n",
    "# featax.set_yticklabels(np.array(X.columns)[sorted_idx], fontsize=8)\n",
    "# featax.set_xlabel('Relative Feature Importance')\n",
    "\n",
    "# plt.tight_layout()   \n",
    "# plt.show()"
   ]
  },
  {
   "cell_type": "code",
   "execution_count": 74,
   "metadata": {},
   "outputs": [],
   "source": [
    "# harsha"
   ]
  },
  {
   "cell_type": "code",
   "execution_count": null,
   "metadata": {},
   "outputs": [],
   "source": []
  },
  {
   "cell_type": "code",
   "execution_count": null,
   "metadata": {},
   "outputs": [],
   "source": []
  },
  {
   "cell_type": "code",
   "execution_count": null,
   "metadata": {},
   "outputs": [],
   "source": []
  },
  {
   "cell_type": "markdown",
   "metadata": {},
   "source": [
    "# Training the Model "
   ]
  },
  {
   "cell_type": "markdown",
   "metadata": {},
   "source": [
    "### Vectorizing the columns"
   ]
  },
  {
   "cell_type": "code",
   "execution_count": 75,
   "metadata": {},
   "outputs": [],
   "source": [
    "# # Applying Label Encoding for Dates and Lead ID:\n",
    "\n",
    "# U = model_data_filtered['CycleStartYearWeek']\n",
    "# V = model_data_filtered['CycleStartDayName']\n",
    "# W = model_data_filtered['CycleStartMonthName']\n",
    "# X = model_data_filtered['CycleStartDate']\n",
    "# Y = model_data_filtered['CycleEndDate']\n",
    "# # Z = model_data_filtered['LeadGrade']\n",
    "# le = LabelEncoder()\n",
    "# LeadID = le.fit_transform(W)\n",
    "# CycleStartDate = le.fit_transform(X)\n",
    "# CycleEndDate = le.fit_transform(Y)\n",
    "# # LeadGrade = le.fit_transform(Z)\n",
    "# print(\"Shape of 'LeadID':\",LeadID.shape)\n",
    "# print(\"Shape of 'Cycle Start Date':\",CycleStartDate.shape)\n",
    "# print(\"Shape of 'Cycle End Date':\",CycleEndDate.shape)\n",
    "# # print(\"Shape of 'Lead Grades':\",len(LeadGrade))\n",
    "# Lead_ID = LeadID.reshape(-1,1)\n",
    "# CycleStart_Date = CycleStartDate.reshape(-1,1)\n",
    "# CycleEnd_Date = CycleEndDate.reshape(-1,1)\n",
    "# print('*='*10)\n",
    "# print(Lead_ID.dtype)\n",
    "# print(CycleStart_Date.dtype)\n",
    "# print(CycleEnd_Date.dtype)\n"
   ]
  },
  {
   "cell_type": "code",
   "execution_count": 199,
   "metadata": {},
   "outputs": [
    {
     "name": "stdout",
     "output_type": "stream",
     "text": [
      "(97325, 21)\n"
     ]
    }
   ],
   "source": [
    "print(model_data_filtered.shape)"
   ]
  },
  {
   "cell_type": "code",
   "execution_count": 203,
   "metadata": {},
   "outputs": [
    {
     "name": "stdout",
     "output_type": "stream",
     "text": [
      "(97325, 33)\n",
      "float64\n"
     ]
    }
   ],
   "source": [
    "from sklearn import preprocessing\n",
    "\n",
    "## Applied ONE HOT ENCODING for \"LeadGrade, LeadSourceGroup, LeadSoruceType\"\n",
    "\n",
    "Onehot = model_data_filtered\n",
    "# Onehot.columns\n",
    "\n",
    "\n",
    "# OHE = Onehot.select_dtypes(include=[object])\n",
    "OHE = Onehot[['InitialRecordType','LeadSourceGroup', 'LeadCycleHasCampaignSource','CyclePhase']]\n",
    "le = preprocessing.LabelEncoder()\n",
    "X_2 = OHE.apply(le.fit_transform)\n",
    "X_2.head()\n",
    "enc = preprocessing.OneHotEncoder()\n",
    "enc.fit(X_2)\n",
    "LI_LG_LSG_LST = enc.transform(X_2)\n",
    "LI_LG_LSG_LST.dtype\n",
    "print(LI_LG_LSG_LST.shape)\n",
    "\n",
    "print(LI_LG_LSG_LST.dtype)"
   ]
  },
  {
   "cell_type": "code",
   "execution_count": 77,
   "metadata": {},
   "outputs": [],
   "source": [
    "### Reshaping other columns  \"date_diff, CycleSequence, AcctsOpened, LeadsQualified, LeadsEngaged, LeadsPromoted\"\n",
    "\n",
    "date_diff = model_data_filtered['date_diff'].values.reshape(-1,1)\n",
    "# CycleSequence = model_data_filtered['CycleSequence'].values.reshape(-1,1)\n",
    "# AcctsOpened = model_data_filtered['AcctsOpened'].values.reshape(-1,1)\n",
    "LeadsQualified = model_data_filtered['LeadsQualified'].values.reshape(-1,1)\n",
    "LeadsEngaged = model_data_filtered['LeadsEngaged'].values.reshape(-1,1)\n",
    "LeadsPromoted = model_data_filtered['LeadsPromoted'].values.reshape(-1,1)\n",
    "isCrossSell = model_data_filtered['isCrossSell'].values.reshape(-1,1)\n",
    "\n",
    "# print(date_diff.shape,CycleSequence.shape,AcctsOpened.shape,LeadsQualified.shape,LeadsEngaged.shape,LeadsPromoted.shape)"
   ]
  },
  {
   "cell_type": "code",
   "execution_count": 78,
   "metadata": {},
   "outputs": [
    {
     "name": "stdout",
     "output_type": "stream",
     "text": [
      "(97325, 38)\n",
      "(97325,)\n"
     ]
    }
   ],
   "source": [
    "from scipy.sparse import hstack\n",
    "X_ = hstack((LI_LG_LSG_LST, date_diff, LeadsQualified, LeadsEngaged, LeadsPromoted, isCrossSell))\n",
    "Y_ = model_data_filtered['isWon']\n",
    "\n",
    "\n",
    "print(X_.shape)\n",
    "print(Y_.shape)\n"
   ]
  },
  {
   "cell_type": "code",
   "execution_count": 79,
   "metadata": {},
   "outputs": [],
   "source": [
    "# #Original\n",
    "\n",
    "# from scipy.sparse import hstack\n",
    "# X_ = hstack((LI_LG_LSG_LST, Lead_ID, CycleStart_Date, CycleEnd_Date, date_diff, CycleSequence, \n",
    "#                  LeadsQualified, LeadsEngaged, LeadsPromoted))\n",
    "# Y_ = model_data_filtered['isWon']\n",
    "\n",
    "\n",
    "# print(X_.shape)\n",
    "# print(Y_.shape)\n"
   ]
  },
  {
   "cell_type": "code",
   "execution_count": 80,
   "metadata": {},
   "outputs": [
    {
     "name": "stdout",
     "output_type": "stream",
     "text": [
      "Number transactions X_train dataset:  (68127, 38)\n",
      "Number transactions y_train dataset:  (68127,)\n",
      "Number transactions X_test dataset:  (29198, 38)\n",
      "Number transactions y_test dataset:  (29198,)\n"
     ]
    }
   ],
   "source": [
    "from sklearn.utils import resample\n",
    "from sklearn.model_selection import train_test_split\n",
    "\n",
    "# setting up testing and training sets\n",
    "X_train, X_test, y_train, y_test = train_test_split(X_, Y_, test_size=0.30, random_state=27)\n",
    "\n",
    "print(\"Number transactions X_train dataset: \", X_train.shape)\n",
    "print(\"Number transactions y_train dataset: \", y_train.shape)\n",
    "print(\"Number transactions X_test dataset: \", X_test.shape)\n",
    "print(\"Number transactions y_test dataset: \", y_test.shape)\n"
   ]
  },
  {
   "cell_type": "markdown",
   "metadata": {},
   "source": [
    "<p> We know that we have the Imbalanced dataset, before we proceed any further we will balance the dataset using SMOTE </P>"
   ]
  },
  {
   "cell_type": "code",
   "execution_count": 81,
   "metadata": {},
   "outputs": [
    {
     "name": "stdout",
     "output_type": "stream",
     "text": [
      "Before OverSampling, counts of label '1': 9838\n",
      "Before OverSampling, counts of label '0': 58289 \n",
      "\n",
      "After OverSampling, the shape of train_X: (116578, 38)\n",
      "After OverSampling, the shape of train_y: (116578,) \n",
      "\n",
      "After OverSampling, counts of label '1': 58289\n",
      "After OverSampling, counts of label '0': 58289\n"
     ]
    }
   ],
   "source": [
    "#Balancing the dataset using SMOTE\n",
    "\n",
    "from imblearn.over_sampling import SMOTE\n",
    "\n",
    "print(\"Before OverSampling, counts of label '1': {}\".format(sum(y_train==1)))\n",
    "print(\"Before OverSampling, counts of label '0': {} \\n\".format(sum(y_train==0)))\n",
    "\n",
    "sm = SMOTE(random_state=2)\n",
    "X_train_res, y_train_res = sm.fit_sample(X_train, y_train.ravel())\n",
    "\n",
    "print('After OverSampling, the shape of train_X: {}'.format(X_train_res.shape))\n",
    "print('After OverSampling, the shape of train_y: {} \\n'.format(y_train_res.shape))\n",
    "\n",
    "print(\"After OverSampling, counts of label '1': {}\".format(sum(y_train_res==1)))\n",
    "print(\"After OverSampling, counts of label '0': {}\".format(sum(y_train_res==0)))\n",
    "\n"
   ]
  },
  {
   "cell_type": "code",
   "execution_count": 82,
   "metadata": {},
   "outputs": [],
   "source": [
    "# #Hyperparameter Tuning for Logistic Regression\n",
    "\n",
    "# from sklearn.model_selection import GridSearchCV\n",
    "# from sklearn.linear_model import LogisticRegression\n",
    "# from sklearn.metrics import confusion_matrix, precision_recall_curve, auc, roc_auc_score, roc_curve, recall_score, classification_report\n",
    "\n",
    "# parameters = {\n",
    "#     'C': np.linspace(1, 10, 10)\n",
    "#              }\n",
    "# lr = LogisticRegression()\n",
    "# clf = GridSearchCV(lr, parameters, cv=5, verbose=5, n_jobs=3)\n",
    "# clf.fit(X_train_res, y_train_res.ravel())\n",
    "\n",
    "# print(clf.best_params_)\n"
   ]
  },
  {
   "cell_type": "code",
   "execution_count": 83,
   "metadata": {},
   "outputs": [],
   "source": [
    "# lr1 = LogisticRegression(C=2,penalty='l1', verbose=5)\n",
    "# lr1.fit(X_train_res, y_train_res.ravel())"
   ]
  },
  {
   "cell_type": "code",
   "execution_count": 84,
   "metadata": {},
   "outputs": [
    {
     "name": "stdout",
     "output_type": "stream",
     "text": [
      "(116578, 38)\n",
      "(116578,)\n"
     ]
    }
   ],
   "source": [
    "\n",
    "os = SMOTE(random_state=27)\n",
    "X_train, X_test, y_train, y_test = train_test_split(X_, Y_, test_size=0.3, random_state=27)\n",
    "os_data_X,os_data_y=os.fit_sample(X_train, y_train)\n",
    "\n",
    "print(os_data_X.shape)\n",
    "print(os_data_y.shape)"
   ]
  },
  {
   "cell_type": "code",
   "execution_count": 85,
   "metadata": {},
   "outputs": [
    {
     "data": {
      "text/plain": [
       "LogisticRegression(C=1.0, class_weight=None, dual=False, fit_intercept=True,\n",
       "                   intercept_scaling=1, l1_ratio=None, max_iter=100,\n",
       "                   multi_class='warn', n_jobs=None, penalty='l2',\n",
       "                   random_state=None, solver='warn', tol=0.0001, verbose=0,\n",
       "                   warm_start=False)"
      ]
     },
     "execution_count": 85,
     "metadata": {},
     "output_type": "execute_result"
    }
   ],
   "source": [
    "from sklearn.linear_model import LogisticRegression\n",
    "from sklearn import metrics\n",
    "\n",
    "X_train, X_test, y_train, y_test = train_test_split(os_data_X, os_data_y, test_size=0.3, random_state=0)\n",
    "logreg = LogisticRegression()\n",
    "logreg.fit(X_train, y_train)"
   ]
  },
  {
   "cell_type": "code",
   "execution_count": 86,
   "metadata": {},
   "outputs": [
    {
     "name": "stdout",
     "output_type": "stream",
     "text": [
      "Accuracy of logistic regression classifier on test set: 0.94\n"
     ]
    }
   ],
   "source": [
    "y_pred = logreg.predict(X_test)\n",
    "print('Accuracy of logistic regression classifier on test set: {:.2f}'.format(logreg.score(X_test, y_test)))"
   ]
  },
  {
   "cell_type": "code",
   "execution_count": 87,
   "metadata": {},
   "outputs": [
    {
     "name": "stdout",
     "output_type": "stream",
     "text": [
      "0.9401841367873277\n",
      "0.9409561388459999\n",
      "0.9392119860467776\n",
      "0.9409275461771601\n",
      "0.9404414708068851\n",
      "Training Done..., Time Cost: 4\n"
     ]
    }
   ],
   "source": [
    "import datetime\n",
    "from sklearn.model_selection import *\n",
    "from sklearn.model_selection import KFold, train_test_split, GridSearchCV\n",
    "\n",
    "\n",
    "start_time  = datetime.datetime.now()\n",
    "\n",
    "\n",
    "kf = 5\n",
    "\n",
    "for i in range(kf):\n",
    "    X_tr, X_cv, y_tr, y_cv = train_test_split(os_data_X, os_data_y, test_size = 0.3)\n",
    "\n",
    "    LR = LogisticRegression()\n",
    "    LR.fit(X_train, y_train)\n",
    "\n",
    "    pred = LR.predict(X_cv)\n",
    "    print(LR.score(X_cv, y_cv))\n",
    "    \n",
    "end_time = datetime.datetime.now()\n",
    "print ('Training Done..., Time Cost: %d' % ((end_time - start_time).seconds))"
   ]
  },
  {
   "cell_type": "code",
   "execution_count": 88,
   "metadata": {},
   "outputs": [
    {
     "name": "stdout",
     "output_type": "stream",
     "text": [
      "[[15635  1806]\n",
      " [  293 17240]]\n"
     ]
    }
   ],
   "source": [
    "from sklearn.metrics import confusion_matrix\n",
    "confusion_matrix = confusion_matrix(y_test, y_pred)\n",
    "\n",
    "print(confusion_matrix)"
   ]
  },
  {
   "cell_type": "markdown",
   "metadata": {},
   "source": [
    "<p> The result is telling us that we have <b>15635+17240</b> correct predictions and <b>1806+293</b> incorrect predictions.</p>\n",
    "    \n",
    "    \n",
    "From our confusion matrix we conclude that:\n",
    "\n",
    "    True positive: 15635(We predicted a positive result and it was positive)\n",
    "    True negative: 17240(We predicted a negative result and it was negative)\n",
    "    False positive: 1806(We predicted a positive result and it was negative)\n",
    "    False negative: 293(We predicted a negative result and it was positive)"
   ]
  },
  {
   "cell_type": "code",
   "execution_count": 89,
   "metadata": {},
   "outputs": [
    {
     "name": "stdout",
     "output_type": "stream",
     "text": [
      "              precision    recall  f1-score   support\n",
      "\n",
      "           0       0.98      0.90      0.94     17441\n",
      "           1       0.91      0.98      0.94     17533\n",
      "\n",
      "    accuracy                           0.94     34974\n",
      "   macro avg       0.94      0.94      0.94     34974\n",
      "weighted avg       0.94      0.94      0.94     34974\n",
      "\n"
     ]
    }
   ],
   "source": [
    "from sklearn.metrics import classification_report\n",
    "print(classification_report(y_test, y_pred))"
   ]
  },
  {
   "cell_type": "code",
   "execution_count": 90,
   "metadata": {},
   "outputs": [
    {
     "data": {
      "image/png": "[encoded data removed]",
      "text/plain": [
       "<matplotlib.figure.Figure at 0x283cfca2358>"
      ]
     },
     "metadata": {},
     "output_type": "display_data"
    }
   ],
   "source": [
    "# y_pred_sample_score = tmp.decision_function(X_test)\n",
    "from sklearn.metrics import roc_curve\n",
    "from sklearn.metrics import roc_auc_score\n",
    "from sklearn.metrics import auc\n",
    "\n",
    "fpr, tpr, thresholds = roc_curve(y_test, logreg.predict(X_test))\n",
    "\n",
    "roc_auc = auc(fpr,tpr)\n",
    "\n",
    "# Plot ROC\n",
    "plt.title('Receiver Operating Characteristic')\n",
    "plt.plot(fpr, tpr, 'b',label='AUC = %0.3f'% roc_auc)\n",
    "plt.legend(loc='lower right')\n",
    "plt.plot([0,1],[0,1],'r--')\n",
    "plt.xlim([-0.1,1.0])\n",
    "plt.ylim([-0.1,1.01])\n",
    "plt.ylabel('True Positive Rate')\n",
    "plt.xlabel('False Positive Rate')\n",
    "plt.show()"
   ]
  },
  {
   "cell_type": "markdown",
   "metadata": {},
   "source": [
    "<p> From the above diagram AUC = 1, which states that model has ideal measure of seperability. it is perfectly able to distinguish between the Account Lost(0) and Accounts Won(1)</p>"
   ]
  },
  {
   "cell_type": "code",
   "execution_count": 91,
   "metadata": {},
   "outputs": [],
   "source": [
    "T_F = pd.DataFrame(y_test)\n",
    "T_F['isWon_LoG_Reg_After_Prediction'] = pd.DataFrame(y_pred)\n",
    "T_F = T_F.rename(columns = {0:\"isWon_before_Prediction\"})"
   ]
  },
  {
   "cell_type": "code",
   "execution_count": 92,
   "metadata": {},
   "outputs": [
    {
     "data": {
      "text/html": [
       "<div>\n",
       "<style scoped>\n",
       "    .dataframe tbody tr th:only-of-type {\n",
       "        vertical-align: middle;\n",
       "    }\n",
       "\n",
       "    .dataframe tbody tr th {\n",
       "        vertical-align: top;\n",
       "    }\n",
       "\n",
       "    .dataframe thead th {\n",
       "        text-align: right;\n",
       "    }\n",
       "</style>\n",
       "<table border=\"1\" class=\"dataframe\">\n",
       "  <thead>\n",
       "    <tr style=\"text-align: right;\">\n",
       "      <th></th>\n",
       "      <th>isWon_before_Prediction</th>\n",
       "      <th>isWon_LoG_Reg_After_Prediction</th>\n",
       "    </tr>\n",
       "  </thead>\n",
       "  <tbody>\n",
       "    <tr>\n",
       "      <th>0</th>\n",
       "      <td>1</td>\n",
       "      <td>1</td>\n",
       "    </tr>\n",
       "    <tr>\n",
       "      <th>1</th>\n",
       "      <td>1</td>\n",
       "      <td>1</td>\n",
       "    </tr>\n",
       "    <tr>\n",
       "      <th>2</th>\n",
       "      <td>0</td>\n",
       "      <td>0</td>\n",
       "    </tr>\n",
       "    <tr>\n",
       "      <th>3</th>\n",
       "      <td>1</td>\n",
       "      <td>1</td>\n",
       "    </tr>\n",
       "    <tr>\n",
       "      <th>4</th>\n",
       "      <td>0</td>\n",
       "      <td>0</td>\n",
       "    </tr>\n",
       "    <tr>\n",
       "      <th>5</th>\n",
       "      <td>0</td>\n",
       "      <td>0</td>\n",
       "    </tr>\n",
       "    <tr>\n",
       "      <th>6</th>\n",
       "      <td>0</td>\n",
       "      <td>0</td>\n",
       "    </tr>\n",
       "    <tr>\n",
       "      <th>7</th>\n",
       "      <td>1</td>\n",
       "      <td>1</td>\n",
       "    </tr>\n",
       "    <tr>\n",
       "      <th>8</th>\n",
       "      <td>1</td>\n",
       "      <td>1</td>\n",
       "    </tr>\n",
       "    <tr>\n",
       "      <th>9</th>\n",
       "      <td>1</td>\n",
       "      <td>1</td>\n",
       "    </tr>\n",
       "    <tr>\n",
       "      <th>10</th>\n",
       "      <td>0</td>\n",
       "      <td>0</td>\n",
       "    </tr>\n",
       "    <tr>\n",
       "      <th>11</th>\n",
       "      <td>0</td>\n",
       "      <td>0</td>\n",
       "    </tr>\n",
       "    <tr>\n",
       "      <th>12</th>\n",
       "      <td>0</td>\n",
       "      <td>0</td>\n",
       "    </tr>\n",
       "    <tr>\n",
       "      <th>13</th>\n",
       "      <td>1</td>\n",
       "      <td>1</td>\n",
       "    </tr>\n",
       "    <tr>\n",
       "      <th>14</th>\n",
       "      <td>0</td>\n",
       "      <td>0</td>\n",
       "    </tr>\n",
       "    <tr>\n",
       "      <th>15</th>\n",
       "      <td>1</td>\n",
       "      <td>1</td>\n",
       "    </tr>\n",
       "    <tr>\n",
       "      <th>16</th>\n",
       "      <td>0</td>\n",
       "      <td>0</td>\n",
       "    </tr>\n",
       "    <tr>\n",
       "      <th>17</th>\n",
       "      <td>0</td>\n",
       "      <td>0</td>\n",
       "    </tr>\n",
       "    <tr>\n",
       "      <th>18</th>\n",
       "      <td>1</td>\n",
       "      <td>1</td>\n",
       "    </tr>\n",
       "    <tr>\n",
       "      <th>19</th>\n",
       "      <td>0</td>\n",
       "      <td>0</td>\n",
       "    </tr>\n",
       "    <tr>\n",
       "      <th>20</th>\n",
       "      <td>1</td>\n",
       "      <td>1</td>\n",
       "    </tr>\n",
       "    <tr>\n",
       "      <th>21</th>\n",
       "      <td>1</td>\n",
       "      <td>1</td>\n",
       "    </tr>\n",
       "    <tr>\n",
       "      <th>22</th>\n",
       "      <td>0</td>\n",
       "      <td>0</td>\n",
       "    </tr>\n",
       "    <tr>\n",
       "      <th>23</th>\n",
       "      <td>0</td>\n",
       "      <td>0</td>\n",
       "    </tr>\n",
       "    <tr>\n",
       "      <th>24</th>\n",
       "      <td>1</td>\n",
       "      <td>1</td>\n",
       "    </tr>\n",
       "    <tr>\n",
       "      <th>25</th>\n",
       "      <td>0</td>\n",
       "      <td>1</td>\n",
       "    </tr>\n",
       "    <tr>\n",
       "      <th>26</th>\n",
       "      <td>1</td>\n",
       "      <td>1</td>\n",
       "    </tr>\n",
       "    <tr>\n",
       "      <th>27</th>\n",
       "      <td>1</td>\n",
       "      <td>1</td>\n",
       "    </tr>\n",
       "    <tr>\n",
       "      <th>28</th>\n",
       "      <td>1</td>\n",
       "      <td>1</td>\n",
       "    </tr>\n",
       "    <tr>\n",
       "      <th>29</th>\n",
       "      <td>1</td>\n",
       "      <td>1</td>\n",
       "    </tr>\n",
       "    <tr>\n",
       "      <th>...</th>\n",
       "      <td>...</td>\n",
       "      <td>...</td>\n",
       "    </tr>\n",
       "    <tr>\n",
       "      <th>34944</th>\n",
       "      <td>1</td>\n",
       "      <td>1</td>\n",
       "    </tr>\n",
       "    <tr>\n",
       "      <th>34945</th>\n",
       "      <td>1</td>\n",
       "      <td>1</td>\n",
       "    </tr>\n",
       "    <tr>\n",
       "      <th>34946</th>\n",
       "      <td>1</td>\n",
       "      <td>1</td>\n",
       "    </tr>\n",
       "    <tr>\n",
       "      <th>34947</th>\n",
       "      <td>1</td>\n",
       "      <td>1</td>\n",
       "    </tr>\n",
       "    <tr>\n",
       "      <th>34948</th>\n",
       "      <td>1</td>\n",
       "      <td>1</td>\n",
       "    </tr>\n",
       "    <tr>\n",
       "      <th>34949</th>\n",
       "      <td>1</td>\n",
       "      <td>1</td>\n",
       "    </tr>\n",
       "    <tr>\n",
       "      <th>34950</th>\n",
       "      <td>0</td>\n",
       "      <td>0</td>\n",
       "    </tr>\n",
       "    <tr>\n",
       "      <th>34951</th>\n",
       "      <td>1</td>\n",
       "      <td>1</td>\n",
       "    </tr>\n",
       "    <tr>\n",
       "      <th>34952</th>\n",
       "      <td>1</td>\n",
       "      <td>1</td>\n",
       "    </tr>\n",
       "    <tr>\n",
       "      <th>34953</th>\n",
       "      <td>0</td>\n",
       "      <td>0</td>\n",
       "    </tr>\n",
       "    <tr>\n",
       "      <th>34954</th>\n",
       "      <td>0</td>\n",
       "      <td>0</td>\n",
       "    </tr>\n",
       "    <tr>\n",
       "      <th>34955</th>\n",
       "      <td>1</td>\n",
       "      <td>1</td>\n",
       "    </tr>\n",
       "    <tr>\n",
       "      <th>34956</th>\n",
       "      <td>1</td>\n",
       "      <td>1</td>\n",
       "    </tr>\n",
       "    <tr>\n",
       "      <th>34957</th>\n",
       "      <td>1</td>\n",
       "      <td>1</td>\n",
       "    </tr>\n",
       "    <tr>\n",
       "      <th>34958</th>\n",
       "      <td>0</td>\n",
       "      <td>0</td>\n",
       "    </tr>\n",
       "    <tr>\n",
       "      <th>34959</th>\n",
       "      <td>1</td>\n",
       "      <td>1</td>\n",
       "    </tr>\n",
       "    <tr>\n",
       "      <th>34960</th>\n",
       "      <td>0</td>\n",
       "      <td>0</td>\n",
       "    </tr>\n",
       "    <tr>\n",
       "      <th>34961</th>\n",
       "      <td>0</td>\n",
       "      <td>0</td>\n",
       "    </tr>\n",
       "    <tr>\n",
       "      <th>34962</th>\n",
       "      <td>1</td>\n",
       "      <td>1</td>\n",
       "    </tr>\n",
       "    <tr>\n",
       "      <th>34963</th>\n",
       "      <td>1</td>\n",
       "      <td>1</td>\n",
       "    </tr>\n",
       "    <tr>\n",
       "      <th>34964</th>\n",
       "      <td>1</td>\n",
       "      <td>1</td>\n",
       "    </tr>\n",
       "    <tr>\n",
       "      <th>34965</th>\n",
       "      <td>0</td>\n",
       "      <td>0</td>\n",
       "    </tr>\n",
       "    <tr>\n",
       "      <th>34966</th>\n",
       "      <td>0</td>\n",
       "      <td>0</td>\n",
       "    </tr>\n",
       "    <tr>\n",
       "      <th>34967</th>\n",
       "      <td>1</td>\n",
       "      <td>1</td>\n",
       "    </tr>\n",
       "    <tr>\n",
       "      <th>34968</th>\n",
       "      <td>1</td>\n",
       "      <td>1</td>\n",
       "    </tr>\n",
       "    <tr>\n",
       "      <th>34969</th>\n",
       "      <td>0</td>\n",
       "      <td>0</td>\n",
       "    </tr>\n",
       "    <tr>\n",
       "      <th>34970</th>\n",
       "      <td>0</td>\n",
       "      <td>0</td>\n",
       "    </tr>\n",
       "    <tr>\n",
       "      <th>34971</th>\n",
       "      <td>0</td>\n",
       "      <td>0</td>\n",
       "    </tr>\n",
       "    <tr>\n",
       "      <th>34972</th>\n",
       "      <td>0</td>\n",
       "      <td>0</td>\n",
       "    </tr>\n",
       "    <tr>\n",
       "      <th>34973</th>\n",
       "      <td>1</td>\n",
       "      <td>1</td>\n",
       "    </tr>\n",
       "  </tbody>\n",
       "</table>\n",
       "<p>34974 rows × 2 columns</p>\n",
       "</div>"
      ],
      "text/plain": [
       "       isWon_before_Prediction  isWon_LoG_Reg_After_Prediction\n",
       "0                            1                               1\n",
       "1                            1                               1\n",
       "2                            0                               0\n",
       "3                            1                               1\n",
       "4                            0                               0\n",
       "5                            0                               0\n",
       "6                            0                               0\n",
       "7                            1                               1\n",
       "8                            1                               1\n",
       "9                            1                               1\n",
       "10                           0                               0\n",
       "11                           0                               0\n",
       "12                           0                               0\n",
       "13                           1                               1\n",
       "14                           0                               0\n",
       "15                           1                               1\n",
       "16                           0                               0\n",
       "17                           0                               0\n",
       "18                           1                               1\n",
       "19                           0                               0\n",
       "20                           1                               1\n",
       "21                           1                               1\n",
       "22                           0                               0\n",
       "23                           0                               0\n",
       "24                           1                               1\n",
       "25                           0                               1\n",
       "26                           1                               1\n",
       "27                           1                               1\n",
       "28                           1                               1\n",
       "29                           1                               1\n",
       "...                        ...                             ...\n",
       "34944                        1                               1\n",
       "34945                        1                               1\n",
       "34946                        1                               1\n",
       "34947                        1                               1\n",
       "34948                        1                               1\n",
       "34949                        1                               1\n",
       "34950                        0                               0\n",
       "34951                        1                               1\n",
       "34952                        1                               1\n",
       "34953                        0                               0\n",
       "34954                        0                               0\n",
       "34955                        1                               1\n",
       "34956                        1                               1\n",
       "34957                        1                               1\n",
       "34958                        0                               0\n",
       "34959                        1                               1\n",
       "34960                        0                               0\n",
       "34961                        0                               0\n",
       "34962                        1                               1\n",
       "34963                        1                               1\n",
       "34964                        1                               1\n",
       "34965                        0                               0\n",
       "34966                        0                               0\n",
       "34967                        1                               1\n",
       "34968                        1                               1\n",
       "34969                        0                               0\n",
       "34970                        0                               0\n",
       "34971                        0                               0\n",
       "34972                        0                               0\n",
       "34973                        1                               1\n",
       "\n",
       "[34974 rows x 2 columns]"
      ]
     },
     "execution_count": 92,
     "metadata": {},
     "output_type": "execute_result"
    }
   ],
   "source": [
    "T_F"
   ]
  },
  {
   "cell_type": "code",
   "execution_count": null,
   "metadata": {},
   "outputs": [],
   "source": []
  },
  {
   "cell_type": "markdown",
   "metadata": {},
   "source": [
    "<h1> Loading the model on the Active Items"
   ]
  },
  {
   "cell_type": "code",
   "execution_count": 130,
   "metadata": {},
   "outputs": [
    {
     "name": "stdout",
     "output_type": "stream",
     "text": [
      "Index(['CycleStartDateKey', 'CycleStartDate', 'CycleStartYear',\n",
      "       'CycleStartQuarter', 'CycleStartYearQuarter', 'CycleStartYearMonth',\n",
      "       'CycleStartYearMonthName', 'CycleStartMonthName',\n",
      "       'CycleStartMonthNameLong', 'CycleStartYearWeek', 'CycleStartDayName',\n",
      "       'LeadID', 'LeadCycleHasCampaignSource', 'CampaignName', 'CampaignType',\n",
      "       'CampaignGroup', 'CampaignDescription', 'CampaignStatus',\n",
      "       'LeadCycleCampaignDate', 'LeadParentID', 'InitialCreatedDate',\n",
      "       'InitialCreatedByDepartment', 'InitialCreatedByTitle',\n",
      "       'InitialLeadSource', 'InitialRecordType', 'CyclePhase', 'CycleSequence',\n",
      "       'CycleLeadSource', 'LeadSourceGroup', 'LeadSourceType', 'isCrossSell',\n",
      "       'CycleOwnerTitle', 'DepartmentInitiatingSalesCycle', 'CycleEndDate',\n",
      "       'CycleOwnerAssignedDate', 'AcctsOpened', 'isWon', 'FeesAssessed',\n",
      "       'FeesNotInvoiced', 'FeesPaid', 'FeesUnpaid', 'FeesWrittenOff',\n",
      "       'LeadScore', 'LeadGrade', 'YearCycleSequece', 'LeadsEngaged',\n",
      "       'LeadsQualified', 'LeadsPromoted', 'date_diff'],\n",
      "      dtype='object')\n"
     ]
    }
   ],
   "source": [
    "print(data.columns)"
   ]
  },
  {
   "cell_type": "code",
   "execution_count": 316,
   "metadata": {},
   "outputs": [
    {
     "name": "stdout",
     "output_type": "stream",
     "text": [
      "Shape of OHE: (106208, 95)\n",
      "(97325, 99) (97325, 1)\n",
      "(8883, 99) (8883, 1)\n"
     ]
    }
   ],
   "source": [
    "Final = data[['CycleStartDate','CycleStartMonthNameLong','CycleStartYearWeek','CycleStartDayName','CycleEndDate'\n",
    "                   ,'LeadCycleHasCampaignSource', 'LeadSourceType', 'InitialRecordType','CyclePhase',\n",
    "                   'LeadSourceGroup', 'CycleOwnerTitle', 'DepartmentInitiatingSalesCycle','isCrossSell','LeadScore',\n",
    "                   'date_diff','CycleSequence','LeadsQualified','LeadsEngaged','LeadsPromoted','isWon','CycleOwnerTitle',\n",
    "                    'DepartmentInitiatingSalesCycle']]\n",
    "\t\t\t\t   \n",
    "\t\t\t\t   \n",
    "\n",
    "# Final = Final.sort_values(['CycleStartDate'], axis =0, ascending = False)\t\n",
    "Final = Final[Final['InitialRecordType'].notnull()]\t\n",
    "\n",
    "\t\t   \n",
    "from sklearn import preprocessing\n",
    "## Applied ONE HOT ENCODING for \"LeadGrade, LeadSourceGroup, LeadSoruceType\"\n",
    "Onehot = Final\n",
    "# Onehot.columns\n",
    "# OHE = Onehot.select_dtypes(include=[object])\n",
    "OHE = Onehot[['InitialRecordType','LeadSourceGroup', 'LeadCycleHasCampaignSource','CyclePhase','CycleOwnerTitle',\n",
    "              'DepartmentInitiatingSalesCycle']]\n",
    "le = preprocessing.LabelEncoder()\n",
    "X_2 = OHE.apply(le.fit_transform)\n",
    "X_2.head()\n",
    "enc = preprocessing.OneHotEncoder()\n",
    "enc.fit(X_2)\n",
    "LI_LG_LSG_LST2 = enc.transform(X_2)\n",
    "\n",
    "LI_LG_LSG_LST2.dtype\n",
    "\n",
    "print(\"Shape of OHE:\", LI_LG_LSG_LST2.shape)\n",
    "# print(LI_LG_LSG_LST2.dtype)\t\n",
    "\n",
    "\n",
    "### Reshaping other columns  \"date_diff, CycleSequence, AcctsOpened, LeadsQualified, LeadsEngaged, LeadsPromoted\"\n",
    "# date_diff = Final['date_diff'].values.reshape(-1,1)\n",
    "LeadsQualified = Final['LeadsQualified'].values.reshape(-1,1)\n",
    "LeadsEngaged = Final['LeadsEngaged'].values.reshape(-1,1)\n",
    "LeadsPromoted = Final['LeadsPromoted'].values.reshape(-1,1)\n",
    "isCrossSell = Final['isCrossSell'].values.reshape(-1,1)\n",
    "isWon = Final['isWon'].values.reshape(-1,1)\n",
    "\n",
    "# Independent Variables (X_Train)\n",
    "LI_LG_LSG_LST2_TR = LI_LG_LSG_LST2[np.where(Final['CycleEndDate'].dt.year!=2099)]\n",
    "# date_diff_TR = date_diff[np.where(Final['CycleEndDate'].dt.year!=2099)]\n",
    "LeadsQualified_TR = LeadsQualified[np.where(Final['CycleEndDate'].dt.year!=2099)]\n",
    "LeadsEngaged_TR = LeadsEngaged[np.where(Final['CycleEndDate'].dt.year!=2099)]\n",
    "LeadsPromoted_TR = LeadsPromoted[np.where(Final['CycleEndDate'].dt.year!=2099)]\n",
    "isCrossSell_TR = isCrossSell[np.where(Final['CycleEndDate'].dt.year!=2099)]\n",
    "# Dependent Variables (Y_Train)\n",
    "isWon_TR = isWon[np.where(Final['CycleEndDate'].dt.year!=2099)]\n",
    "\n",
    "\n",
    "\n",
    "# Independent Variables (X_Test)\n",
    "LI_LG_LSG_LST2_TE = LI_LG_LSG_LST2[np.where(Final['CycleEndDate'].dt.year==2099)]\n",
    "# date_diff_TE = date_diff[np.where(Final['CycleEndDate'].dt.year==2099)]\n",
    "LeadsQualified_TE = LeadsQualified[np.where(Final['CycleEndDate'].dt.year==2099)]\n",
    "LeadsEngaged_TE = LeadsEngaged[np.where(Final['CycleEndDate'].dt.year==2099)]\n",
    "LeadsPromoted_TE = LeadsPromoted[np.where(Final['CycleEndDate'].dt.year==2099)]\n",
    "isCrossSell_TE = isCrossSell[np.where(Final['CycleEndDate'].dt.year==2099)]\n",
    "# Dependent Variables (Y_Test)\n",
    "isWon_TE = isWon[np.where(Final['CycleEndDate'].dt.year==2099)]\n",
    "\n",
    "from scipy.sparse import hstack\n",
    "Train_X = hstack((LI_LG_LSG_LST2_TR,  LeadsQualified_TR, LeadsEngaged_TR, LeadsPromoted_TR, isCrossSell_TR))\n",
    "Train_Y =  isWon_TR\n",
    "Test_X = hstack((LI_LG_LSG_LST2_TE,  LeadsQualified_TE, LeadsEngaged_TE, LeadsPromoted_TE, isCrossSell_TE))\n",
    "Test_Y = isWon_TE\n",
    "\n",
    "\n",
    "\n",
    "print(Train_X.shape, Train_Y.shape)\n",
    "print(Test_X.shape, Test_Y.shape)\n",
    "\n"
   ]
  },
  {
   "cell_type": "code",
   "execution_count": 317,
   "metadata": {},
   "outputs": [
    {
     "name": "stdout",
     "output_type": "stream",
     "text": [
      "(116486, 99)\n",
      "(116486,)\n"
     ]
    }
   ],
   "source": [
    "\n",
    "os = SMOTE(random_state=27)\n",
    "X_train, X_test, y_train, y_test = train_test_split(Train_X, Train_Y, test_size=0.3, random_state=27)\n",
    "os_data_X,os_data_y=os.fit_sample(X_train, y_train)\n",
    "\n",
    "print(os_data_X.shape)\n",
    "print(os_data_y.shape)"
   ]
  },
  {
   "cell_type": "code",
   "execution_count": 318,
   "metadata": {},
   "outputs": [
    {
     "name": "stdout",
     "output_type": "stream",
     "text": [
      "Fitting 5 folds for each of 10 candidates, totalling 50 fits\n"
     ]
    },
    {
     "name": "stderr",
     "output_type": "stream",
     "text": [
      "[Parallel(n_jobs=3)]: Using backend LokyBackend with 3 concurrent workers.\n",
      "[Parallel(n_jobs=3)]: Done  12 tasks      | elapsed:   10.8s\n",
      "[Parallel(n_jobs=3)]: Done  50 out of  50 | elapsed:   46.1s finished\n"
     ]
    },
    {
     "name": "stdout",
     "output_type": "stream",
     "text": [
      "{'C': 1.0}\n"
     ]
    }
   ],
   "source": [
    "# #Hyperparameter Tuning for Logistic Regression\n",
    "\n",
    "# from sklearn.model_selection import GridSearchCV\n",
    "# from sklearn.linear_model import LogisticRegression\n",
    "# from sklearn.metrics import confusion_matrix, precision_recall_curve, auc, roc_auc_score, roc_curve, recall_score, classification_report\n",
    "\n",
    "# parameters = {\n",
    "#     'C': np.linspace(1, 10, 10)\n",
    "#              }\n",
    "# lr = LogisticRegression()\n",
    "# clf = GridSearchCV(lr, parameters, cv=5, verbose=5, n_jobs=3)\n",
    "# clf.fit(os_data_X, os_data_y)\n",
    "\n",
    "# print(clf.best_params_)\n"
   ]
  },
  {
   "cell_type": "code",
   "execution_count": 319,
   "metadata": {},
   "outputs": [
    {
     "name": "stdout",
     "output_type": "stream",
     "text": [
      "[LibLinear]"
     ]
    },
    {
     "data": {
      "text/plain": [
       "LogisticRegression(C=1, class_weight=None, dual=False, fit_intercept=True,\n",
       "                   intercept_scaling=1, l1_ratio=None, max_iter=100,\n",
       "                   multi_class='warn', n_jobs=None, penalty='l1',\n",
       "                   random_state=None, solver='warn', tol=0.0001, verbose=5,\n",
       "                   warm_start=False)"
      ]
     },
     "execution_count": 319,
     "metadata": {},
     "output_type": "execute_result"
    }
   ],
   "source": [
    "# lr1 = LogisticRegression(C=1,penalty='l1', verbose=5)\n",
    "# lr1.fit(os_data_X, os_data_y)"
   ]
  },
  {
   "cell_type": "code",
   "execution_count": 349,
   "metadata": {},
   "outputs": [
    {
     "name": "stdout",
     "output_type": "stream",
     "text": [
      "[LibLinear]"
     ]
    }
   ],
   "source": [
    "from sklearn.linear_model import LogisticRegression\n",
    "from sklearn import metrics\n",
    "\n",
    "X_train, X_test, y_train, y_test = train_test_split(os_data_X, os_data_y, test_size=0.3, random_state=0)\n",
    "logreg = LogisticRegression(C=1, class_weight=None, dual=False, fit_intercept=True,\n",
    "                   intercept_scaling=1, l1_ratio=None, max_iter=100,\n",
    "                   multi_class='warn', n_jobs=None, penalty='l1',\n",
    "                   random_state=None, solver='warn', tol=0.0001, verbose=5,\n",
    "                   warm_start=False)\n",
    "logreg.fit(X_train, y_train)\n",
    "y_pred = logreg.predict(X_test)\n",
    "\n",
    "actual = Test_Y"
   ]
  },
  {
   "cell_type": "code",
   "execution_count": 351,
   "metadata": {},
   "outputs": [
    {
     "name": "stdout",
     "output_type": "stream",
     "text": [
      "[LibLinear]"
     ]
    }
   ],
   "source": [
    "def main():\n",
    "    X_train, X_test, y_train, y_test = train_test_split(os_data_X, os_data_y, test_size=0.3, random_state=0)\n",
    "    logreg = LogisticRegression(C=1, class_weight=None, dual=False, fit_intercept=True,\n",
    "                       intercept_scaling=1, l1_ratio=None, max_iter=100,\n",
    "                       multi_class='warn', n_jobs=None, penalty='l1',\n",
    "                       random_state=None, solver='warn', tol=0.0001, verbose=5,\n",
    "                       warm_start=False)\n",
    "    logreg.fit(X_train, y_train)\n",
    "    y_pred = logreg.predict(X_test)\n",
    "if __name__ == '__main__':\n",
    "    main()"
   ]
  },
  {
   "cell_type": "code",
   "execution_count": 352,
   "metadata": {},
   "outputs": [
    {
     "name": "stdout",
     "output_type": "stream",
     "text": [
      "(81540, 99) (81540,) (34946,)\n",
      "(8883, 99)\n",
      "(8883, 1)\n"
     ]
    }
   ],
   "source": [
    "print(X_train.shape, y_train.shape, y_pred.shape)\n",
    "print(Test_X.shape)\n",
    "print(actual.shape)"
   ]
  },
  {
   "cell_type": "code",
   "execution_count": 353,
   "metadata": {},
   "outputs": [
    {
     "name": "stdout",
     "output_type": "stream",
     "text": [
      "Accuracy of logistic regression classifier on test set: 0.93\n"
     ]
    }
   ],
   "source": [
    "print('Accuracy of logistic regression classifier on test set: {:.2f}'.format(logreg.score(X_test, y_test)))"
   ]
  },
  {
   "cell_type": "markdown",
   "metadata": {},
   "source": [
    "10 Fold Cross Validation of Accuracy "
   ]
  },
  {
   "cell_type": "code",
   "execution_count": 323,
   "metadata": {},
   "outputs": [
    {
     "name": "stdout",
     "output_type": "stream",
     "text": [
      "0.9316087678131975\n",
      "0.9333257025124477\n",
      "0.9311223029817433\n",
      "0.9322955416928976\n",
      "0.9329536999942769\n",
      "0.9294339838608138\n",
      "0.9326961597893894\n",
      "0.9312939964516683\n",
      "0.9302352200537973\n",
      "0.9319807703313684\n",
      "Training Done..., Time Cost: 11\n"
     ]
    }
   ],
   "source": [
    "import datetime\n",
    "from sklearn.model_selection import *\n",
    "from sklearn.model_selection import KFold, train_test_split, GridSearchCV\n",
    "\n",
    "\n",
    "start_time  = datetime.datetime.now()\n",
    "\n",
    "\n",
    "kf = 10\n",
    "\n",
    "for i in range(kf):\n",
    "    X_tr, X_cv, y_tr, y_cv = train_test_split(os_data_X, os_data_y, test_size = 0.3)\n",
    "\n",
    "    LR = LogisticRegression()\n",
    "    LR.fit(X_train, y_train)\n",
    "\n",
    "    pred = LR.predict(X_cv)\n",
    "    print(LR.score(X_cv, y_cv))\n",
    "    \n",
    "end_time = datetime.datetime.now()\n",
    "print ('Training Done..., Time Cost: %d' % ((end_time - start_time).seconds))"
   ]
  },
  {
   "cell_type": "code",
   "execution_count": 324,
   "metadata": {},
   "outputs": [],
   "source": [
    "\n",
    "# print('Accuracy of logistic regression classifier on test set: {:.2f}'.format(logreg.score(Test_X, Test_Y)))\n",
    "# # print(y_pred)"
   ]
  },
  {
   "cell_type": "code",
   "execution_count": 350,
   "metadata": {},
   "outputs": [
    {
     "name": "stdout",
     "output_type": "stream",
     "text": [
      "[[15064  2395]\n",
      " [   58 17429]]\n"
     ]
    }
   ],
   "source": [
    "from sklearn.metrics import confusion_matrix\n",
    "confusion_matrix = confusion_matrix(y_test, y_pred)\n",
    "\n",
    "print(confusion_matrix)"
   ]
  },
  {
   "cell_type": "code",
   "execution_count": null,
   "metadata": {},
   "outputs": [],
   "source": []
  },
  {
   "cell_type": "code",
   "execution_count": 333,
   "metadata": {},
   "outputs": [],
   "source": [
    "T_F2 = pd.DataFrame(Test_Y)\n",
    "T_F2['isWon_LoG_Reg_After_Prediction'] = pd.DataFrame(y_pred)\n",
    "T_F2 = T_F2.rename(columns = {0:\"isWon_before_Prediction\"})\n",
    "\n",
    "per = T_F2['isWon_LoG_Reg_After_Prediction'].value_counts()/ len(T_F2)\n"
   ]
  },
  {
   "cell_type": "code",
   "execution_count": null,
   "metadata": {},
   "outputs": [],
   "source": []
  },
  {
   "cell_type": "code",
   "execution_count": null,
   "metadata": {},
   "outputs": [],
   "source": []
  },
  {
   "cell_type": "code",
   "execution_count": null,
   "metadata": {},
   "outputs": [],
   "source": []
  },
  {
   "cell_type": "code",
   "execution_count": null,
   "metadata": {},
   "outputs": [],
   "source": []
  },
  {
   "cell_type": "code",
   "execution_count": null,
   "metadata": {},
   "outputs": [],
   "source": []
  },
  {
   "cell_type": "code",
   "execution_count": null,
   "metadata": {},
   "outputs": [],
   "source": []
  },
  {
   "cell_type": "code",
   "execution_count": null,
   "metadata": {},
   "outputs": [],
   "source": []
  },
  {
   "cell_type": "code",
   "execution_count": null,
   "metadata": {},
   "outputs": [],
   "source": []
  },
  {
   "cell_type": "markdown",
   "metadata": {},
   "source": [
    "Checking the predictions on the Active Accounts"
   ]
  },
  {
   "cell_type": "code",
   "execution_count": 257,
   "metadata": {},
   "outputs": [
    {
     "data": {
      "text/plain": [
       "LogisticRegression(C=1.0, class_weight=None, dual=False, fit_intercept=True,\n",
       "                   intercept_scaling=1, l1_ratio=None, max_iter=100,\n",
       "                   multi_class='warn', n_jobs=None, penalty='l2',\n",
       "                   random_state=None, solver='warn', tol=0.0001, verbose=0,\n",
       "                   warm_start=False)"
      ]
     },
     "execution_count": 257,
     "metadata": {},
     "output_type": "execute_result"
    }
   ],
   "source": [
    "logreg = LogisticRegression()\n",
    "logreg.fit(Train_X, Train_Y)\n"
   ]
  },
  {
   "cell_type": "code",
   "execution_count": 258,
   "metadata": {},
   "outputs": [
    {
     "name": "stdout",
     "output_type": "stream",
     "text": [
      "Accuracy of logistic regression classifier on test set: 0.90\n"
     ]
    }
   ],
   "source": [
    "y_pred = logreg.predict(Test_X)\n",
    "print('Accuracy of logistic regression classifier on test set: {:.2f}'.format(logreg.score(Test_X, Test_Y)))"
   ]
  },
  {
   "cell_type": "code",
   "execution_count": 259,
   "metadata": {},
   "outputs": [
    {
     "name": "stdout",
     "output_type": "stream",
     "text": [
      "0    8883\n",
      "Name: isWon_before_Prediction, dtype: int64\n"
     ]
    }
   ],
   "source": [
    "T_F = pd.DataFrame(Test_Y)\n",
    "T_F['isWon_LoG_Reg_After_Prediction'] = pd.DataFrame(y_pred)\n",
    "T_F = T_F.rename(columns = {0:\"isWon_before_Prediction\"})\n",
    "print(T_F['isWon_before_Prediction'].value_counts())"
   ]
  },
  {
   "cell_type": "code",
   "execution_count": 260,
   "metadata": {},
   "outputs": [
    {
     "name": "stdout",
     "output_type": "stream",
     "text": [
      "[[7972  911]\n",
      " [   0    0]]\n"
     ]
    }
   ],
   "source": [
    "from sklearn.metrics import confusion_matrix\n",
    "confusion_matrix = confusion_matrix(Test_Y, y_pred)\n",
    "\n",
    "print(confusion_matrix)"
   ]
  },
  {
   "cell_type": "code",
   "execution_count": 261,
   "metadata": {},
   "outputs": [],
   "source": [
    "\n",
    "# # os = SMOTE(random_state=27)\n",
    "# # X_train, X_test, y_train, y_test = train_test_split(Train_X, Train_Y, test_size=0.3, random_state=27)\n",
    "# # os_data_X,os_data_y=os.fit_sample(X_train, y_train)\n",
    "\n",
    "# # print(os_data_X.shape)\n",
    "# # print(os_data_y.shape)\n",
    "\n",
    "\n",
    "# # from sklearn.linear_model import LogisticRegression\n",
    "# # from sklearn import metrics\n",
    "\n",
    "# # X_train, X_test, y_train, y_test = train_test_split(os_data_X, os_data_y, test_size=0.3, random_state=0)\n",
    "# logreg = LogisticRegression()\n",
    "# logreg.fit(Train_X, Train_Y)\n",
    "\n",
    "\n",
    "# # y_pred = logreg.predict(X_test)\n",
    "# # print('Accuracy of logistic regression classifier on test set: {:.2f}'.format(logreg.score(X_test, y_test)))"
   ]
  },
  {
   "cell_type": "code",
   "execution_count": 97,
   "metadata": {},
   "outputs": [
    {
     "name": "stderr",
     "output_type": "stream",
     "text": [
      "Python 3.6.4 :: Anaconda, Inc.\n"
     ]
    }
   ],
   "source": [
    "!python --version"
   ]
  }
 ],
 "metadata": {
  "kernelspec": {
   "display_name": "Python 3",
   "language": "python",
   "name": "python3"
  },
  "language_info": {
   "codemirror_mode": {
    "name": "ipython",
    "version": 3
   },
   "file_extension": ".py",
   "mimetype": "text/x-python",
   "name": "python",
   "nbconvert_exporter": "python",
   "pygments_lexer": "ipython3",
   "version": "3.6.4"
  }
 },
 "nbformat": 4,
 "nbformat_minor": 2
}
